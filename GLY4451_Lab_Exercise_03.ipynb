{
 "cells": [
  {
   "cell_type": "markdown",
   "metadata": {
    "id": "Qza64LQOvIxA"
   },
   "source": [
    "# Computer Lab 03"
   ]
  },
  {
   "cell_type": "markdown",
   "metadata": {},
   "source": [
    "## Lambda functions\n",
    "1. Rewrite **geotherm** as a lambda function called **geotherm_lambda**.<br>Make a simple plot showing the geotherm with the follow parameters: d = 20 km, k = 2.1, A = 3e-6, Qd = 22e-3.\n",
    "2. Use a lambda function to define **heat_gen_at_depth**, which follows:<br>$A(z) = A_0 e^{-z/d}$<br> where $A_0$ is internal heat generated at the surface, and $d$ is a characteristic depth.<br>Replot the geotherm from (1) using **heat_gen_at_depth** using $A_0=3$e-6 and $d=20$ km"
   ]
  },
  {
   "cell_type": "code",
   "execution_count": 38,
   "metadata": {},
   "outputs": [],
   "source": [
    "def geotherm(z,d,k,qd,a):\n",
    "    \"\"\"\n",
    "    returns temp at depth (z) given thickness (d), conductivity (k), basal heat (qd) and internal heat (a)\n",
    "    \"\"\"\n",
    "    \n",
    "    return -(a/(2*k))*(z**2) + ((qd+(a*d))/(k))*z"
   ]
  },
  {
   "cell_type": "code",
   "execution_count": 39,
   "metadata": {},
   "outputs": [],
   "source": [
    "def geotherm_twolayer(z,z1,z2,k,qd,a1,a2):\n",
    "    \"\"\"\n",
    "    returns temp at depth (z) given thickness (d), conductivity (k), basal heat (qd) and internal heat (a)\n",
    "    \"\"\"\n",
    "    \n",
    "    if z<z1:\n",
    "        return -a1/(2*k)*z**2 + (qd/k + (a2/k)*(z2-z1) + (a1*z1)/k)*z\n",
    "    else:\n",
    "        return -a2/(2*k)*z**2 + (qd/k + (a2*z2/k))*z + (a1-a2)/(2*k)*z1**2"
   ]
  },
  {
   "cell_type": "markdown",
   "metadata": {},
   "source": [
    "## Loop tricks\n",
    "1. Using **zip()** and **enumerate()**, iterate through the following lists (**xx** and **yy**) and print (index, x, y, x/y) for $x_i + y_i$ for every third element."
   ]
  },
  {
   "cell_type": "code",
   "execution_count": 34,
   "metadata": {},
   "outputs": [],
   "source": [
    "import numpy as np\n",
    "np.random.seed(1234)\n",
    "\n",
    "xx = np.arange(-12,34,1.23).round(2)\n",
    "yy = np.random.random(size=xx.shape)"
   ]
  },
  {
   "cell_type": "code",
   "execution_count": 37,
   "metadata": {},
   "outputs": [
    {
     "data": {
      "text/plain": [
       "[(0, -12.0, 0.1915194503788923, -62.65682141557849),\n",
       " (1, -10.77, 0.6221087710398319, -17.312085122989572),\n",
       " (2, -9.54, 0.4377277390071145, -21.794369307367436),\n",
       " (3, -8.31, 0.7853585837137692, -10.581153847843666),\n",
       " (4, -7.08, 0.7799758081188035, -9.077204608532675),\n",
       " (5, -5.85, 0.2725926052826416, -21.460596827028166),\n",
       " (6, -4.62, 0.2764642551430967, -16.711021096049862),\n",
       " (7, -3.39, 0.8018721775350193, -4.227606462692057),\n",
       " (8, -2.16, 0.9581393536837052, -2.2543693583773257),\n",
       " (9, -0.93, 0.8759326347420947, -1.0617254833459022),\n",
       " (10, 0.3, 0.35781726995786667, 0.8384167707593467),\n",
       " (11, 1.53, 0.5009951255234587, 3.053921928684232),\n",
       " (12, 2.76, 0.6834629351721363, 4.038258489181815),\n",
       " (13, 3.99, 0.7127020269829002, 5.598412588906152),\n",
       " (14, 5.22, 0.37025075479039493, 14.098553297899766),\n",
       " (15, 6.45, 0.5611961860656249, 11.493306904344772),\n",
       " (16, 7.68, 0.5030831653078097, 15.265865625420039),\n",
       " (17, 8.91, 0.013768449590682241, 647.1316862016052),\n",
       " (18, 10.14, 0.772826621612374, 13.120666028357796),\n",
       " (19, 11.37, 0.8826411906361166, 12.881791741223495),\n",
       " (20, 12.6, 0.3648859839013723, 34.53133459740056),\n",
       " (21, 13.83, 0.6153961784334937, 22.473327727196178),\n",
       " (22, 15.06, 0.07538124164297655, 199.7844513005999),\n",
       " (23, 16.29, 0.3688240060019745, 44.16740704213486),\n",
       " (24, 17.52, 0.9331401019825216, 18.77531569244268),\n",
       " (25, 18.75, 0.6513781432265774, 28.78512304254265),\n",
       " (26, 19.98, 0.3972025777261542, 50.301788357916784),\n",
       " (27, 21.21, 0.7887301429407455, 26.891326760911472),\n",
       " (28, 22.44, 0.31683612216887125, 70.82525769596324),\n",
       " (29, 23.67, 0.5680986526260692, 41.665298607176844),\n",
       " (30, 24.9, 0.8691273895612258, 28.649425042939477),\n",
       " (31, 26.13, 0.43617342389567937, 59.90736383390835),\n",
       " (32, 27.36, 0.8021476420801591, 34.10843411450918),\n",
       " (33, 28.59, 0.14376682451456457, 198.86368149630817),\n",
       " (34, 29.82, 0.7042609711183354, 42.34225837142041),\n",
       " (35, 31.05, 0.7045813081895725, 44.068725126675915),\n",
       " (36, 32.28, 0.21879210567408858, 147.53731584851647),\n",
       " (37, 33.51, 0.924867628615565, 36.23221200871863)]"
      ]
     },
     "execution_count": 37,
     "metadata": {},
     "output_type": "execute_result"
    }
   ],
   "source": [
    "zz"
   ]
  },
  {
   "cell_type": "markdown",
   "metadata": {},
   "source": [
    "\n",
    "## List/dictonary comprehension\n",
    "1. Use list comprehension to iterate over [0,1,2...25], squaring even elements and cubing odd elements\n",
    "2. Define a nested dictionary **cities_dict** using dictionary comprehension with keys and values from the following multi-line string. Each city name should be a key, and the values should be a dictionary with the keys **lat** and **lon** with the appropriate values based on the provided locations. *Hint: use string method **.split('\\n')** to separate the string into separate lines*"
   ]
  },
  {
   "cell_type": "code",
   "execution_count": 26,
   "metadata": {},
   "outputs": [],
   "source": [
    "florida_cities = \"\"\"Pensacola, FL 30.4N, 87.2W\n",
    "Panama City, FL 30.2N, 85.7W\n",
    "Tallahassee, FL 30.46N, 84.28W\n",
    "Perry, FL 30.1N, 83.6W\n",
    "Gainesville, FL 29.7N, 82.3W\n",
    "Inverness, FL 28.8N, 82.3W\n",
    "Spring Hill, FL 28.5N, 82.6W\n",
    "Tampa, FL 28.0N, 82.5W\n",
    "St. Petersburg, FL 27.8N, 82.6W\n",
    "Sarasota, FL 27.3N, 82.5W\n",
    "Port Charlotte, FL 27.0N, 82.1W\n",
    "Fort Myers, FL 26.6N, 81.9W\n",
    "Cape Coral, FL 26.6N, 82.0W\n",
    "Naples, FL 26.1N, 81.8W\n",
    "Cape Sable, FL 25.3N, 81.0W\n",
    "Key West, FL 24.6N, 81.7W\"\"\""
   ]
  },
  {
   "cell_type": "code",
   "execution_count": 29,
   "metadata": {},
   "outputs": [
    {
     "data": {
      "text/plain": [
       "{'Pensacola': {'lat': '30.4N', 'lon': '87.2W'},\n",
       " 'Panama City': {'lat': '30.2N', 'lon': '85.7W'},\n",
       " 'Tallahassee': {'lat': '30.46N', 'lon': '84.28W'},\n",
       " 'Perry': {'lat': '30.1N', 'lon': '83.6W'},\n",
       " 'Gainesville': {'lat': '29.7N', 'lon': '82.3W'},\n",
       " 'Inverness': {'lat': '28.8N', 'lon': '82.3W'},\n",
       " 'Spring Hill': {'lat': '28.5N', 'lon': '82.6W'},\n",
       " 'Tampa': {'lat': '28.0N', 'lon': '82.5W'},\n",
       " 'St. Petersburg': {'lat': '27.8N', 'lon': '82.6W'},\n",
       " 'Sarasota': {'lat': '27.3N', 'lon': '82.5W'},\n",
       " 'Port Charlotte': {'lat': '27.0N', 'lon': '82.1W'},\n",
       " 'Fort Myers': {'lat': '26.6N', 'lon': '81.9W'},\n",
       " 'Cape Coral': {'lat': '26.6N', 'lon': '82.0W'},\n",
       " 'Naples': {'lat': '26.1N', 'lon': '81.8W'},\n",
       " 'Cape Sable': {'lat': '25.3N', 'lon': '81.0W'},\n",
       " 'Key West': {'lat': '24.6N', 'lon': '81.7W'}}"
      ]
     },
     "execution_count": 29,
     "metadata": {},
     "output_type": "execute_result"
    }
   ],
   "source": [
    "cities_dict"
   ]
  },
  {
   "cell_type": "markdown",
   "metadata": {},
   "source": [
    "# Making maps with cartopy"
   ]
  },
  {
   "cell_type": "markdown",
   "metadata": {},
   "source": [
    "1. Make a global map and plot the locations of the capital cities for five countries.\n",
    "2. Make a regional map of either your home or your field study location (your choice)\n",
    "3. Update the Indian craton motion figure to show at least 4 intermediate rotations. Try to make it as stylish as possible."
   ]
  },
  {
   "cell_type": "markdown",
   "metadata": {
    "id": "17ogBf7OMzhf"
   },
   "source": [
    "# Fin.\n",
    "\n",
    "Turn in your notebook using Canvas by next week (Weds). Make sure your notebook has the correct name. You will recieve a zero if 1) the notebook doesn't work or 2) you obviously copied from somebody else. ***Do your own work!***"
   ]
  },
  {
   "cell_type": "code",
   "execution_count": null,
   "metadata": {},
   "outputs": [],
   "source": []
  }
 ],
 "metadata": {
  "colab": {
   "collapsed_sections": [
    "Kb4Qlyo9LTlR",
    "PKEM6YrRnE3U",
    "jVFcWm3EriEZ"
   ],
   "include_colab_link": true,
   "provenance": []
  },
  "kernelspec": {
   "display_name": "Python 3 (ipykernel)",
   "language": "python",
   "name": "python3"
  },
  "language_info": {
   "codemirror_mode": {
    "name": "ipython",
    "version": 3
   },
   "file_extension": ".py",
   "mimetype": "text/x-python",
   "name": "python",
   "nbconvert_exporter": "python",
   "pygments_lexer": "ipython3",
   "version": "3.8.11"
  }
 },
 "nbformat": 4,
 "nbformat_minor": 1
}
