{
 "cells": [
  {
   "cell_type": "markdown",
   "id": "2814f53b",
   "metadata": {
    "colab_type": "text",
    "id": "view-in-github"
   },
   "source": [
    "<a href=\"https://colab.research.google.com/github/rkbono/GLY4451/blob/main/GLY4451_Lab_Lecture_07.ipynb\" target=\"_parent\"><img src=\"https://colab.research.google.com/assets/colab-badge.svg\" alt=\"Open In Colab\"/></a>"
   ]
  },
  {
   "cell_type": "code",
   "execution_count": null,
   "id": "d7bd45f1",
   "metadata": {
    "id": "d7bd45f1"
   },
   "outputs": [],
   "source": [
    "# Let's get some basic modules imported\n",
    "import numpy as np\n",
    "import matplotlib.pyplot as plt\n",
    "from IPython.display import Image \n",
    "import os"
   ]
  },
  {
   "cell_type": "code",
   "execution_count": null,
   "id": "975fe9ba",
   "metadata": {
    "id": "975fe9ba"
   },
   "outputs": [],
   "source": [
    "if 'google.colab' in str(get_ipython()):\n",
    "    print('Running on CoLab')\n",
    "    !git clone https://github.com/rkbono/GLY4451.git\n",
    "    fpath = './GLY4451/'\n",
    "else:\n",
    "    print('Not running on CoLab')\n",
    "    fpath = './'"
   ]
  },
  {
   "cell_type": "markdown",
   "id": "5cb8e882",
   "metadata": {
    "id": "5cb8e882"
   },
   "source": [
    "# Lecture 7:\n",
    "\n",
    "- Learn more about **NumPy** and **matplotlib**\n",
    "- Learn more about **NumPy** arrays.  \n",
    " \n",
    "\n"
   ]
  },
  {
   "cell_type": "markdown",
   "id": "b93d0c59",
   "metadata": {
    "id": "b93d0c59"
   },
   "source": [
    "\n",
    "### NumPy and N-dimensional arrays\n",
    "\n",
    "We briefly mentioned **arrays** in the last lecture but quickly moved into plotting (because that is more fun). But **arrays** are essential to our computational happiness, so we need to bite the bullet and learn about them now. \n",
    "\n",
    "**Arrays**  in **Numpy**  are somewhat  similar to  lists but there are important differences with advantages and disadvantages.\n",
    "Unlike lists,   **arrays** are usually all of the same data type (**dtype**), usually numbers (integers or floats) and at times characters.  A \"feature\" of arrays is that the size,  shape and type are fixed when it's created. \n",
    "\n",
    "Remember, we can define a list:\n",
    "\n",
    "L=\\[ \\]\n",
    "\n",
    "then append to it as desired using the **L.append( )** method. It is more complicated (but still possible) to **extend**   arrays. \n",
    "\n",
    "Why use arrays when you can use lists?  Arrays are far more computationally efficient than lists, particularly for things like matrix math.  You can perform calculations on the entire array in one go instead of looping through element by element as for lists.  \n",
    "\n",
    "To make things a little confusing, there are  several different data objects that are loosely called arrays, e.g., arrays, character arrays and matrices.  These are all subclasses of **ndarray** (N-dimensional array).  We will just worry about **arrays** in this course.  \n",
    "\n",
    "Apart from reading in a data file with **NumPy**, as we did in the last lecture, there are many different ways of creating arrays.  Here are a few examples:"
   ]
  },
  {
   "cell_type": "code",
   "execution_count": null,
   "id": "fbc5aa00",
   "metadata": {
    "id": "fbc5aa00"
   },
   "outputs": [],
   "source": [
    "# define the values with the function array( ). For example a 3x3 array\n",
    "A= np.array([[1, 2, 3],[4,2,0],[1,1,2]])\n",
    "print (A)\n",
    "\n",
    "# notice how there are no commas in arrays  "
   ]
  },
  {
   "cell_type": "markdown",
   "id": "bb7ed508",
   "metadata": {
    "id": "bb7ed508"
   },
   "source": [
    "As we learned in the last lecture, **NumPy** can also generate an array using the **np.arange( )** function which works in a manner similar to **range( )** but creates an array with floats or integers.  **range( )** makes a list generator.  \n",
    "\n",
    "This is just a reminder from Lecture 6:"
   ]
  },
  {
   "cell_type": "code",
   "execution_count": null,
   "id": "279a77ba",
   "metadata": {
    "id": "279a77ba"
   },
   "outputs": [],
   "source": [
    "# use list(range( )) to generate a one-dimensional (1D) list that ranges \n",
    "# from the first arguement up to (but not including) the second, that\n",
    "# increments by the third:\n",
    "#we learned that range( ) creates a list generator for integers\n",
    "B=list(range(10)) \n",
    "print (\"List made by 'range': \",B)\n",
    "B_integers=np.arange(0,10,1) #arange( ) is an np function that creates an array of integers\n",
    "print (\"Array made by np.arange( ): \", B_integers)\n",
    "B_real=np.arange(0,10,.2) #  and with floats\n",
    "print (\"Array with real numbers: \\n\",B_real) # notice the \"\\n\"? that creates a new line in the text string?\n",
    "# Notice that while \"range\" makes a list of integers, arange makes an array of integers \n",
    "#   or real numbers.  "
   ]
  },
  {
   "cell_type": "markdown",
   "id": "ec5c9308",
   "metadata": {
    "id": "ec5c9308"
   },
   "source": [
    "There are several ways to create special arrays, for example, arrays initialized by zeroes, ones, or any other value: "
   ]
  },
  {
   "cell_type": "code",
   "execution_count": null,
   "id": "e17c5f62",
   "metadata": {
    "id": "e17c5f62"
   },
   "outputs": [],
   "source": [
    "D=np.zeros((2,3)) # Notice the size is specified by a tuple of numbers of rows and columns.\n",
    "print (D)"
   ]
  },
  {
   "cell_type": "code",
   "execution_count": null,
   "id": "24c4a425",
   "metadata": {
    "id": "24c4a425"
   },
   "outputs": [],
   "source": [
    "E=np.ones((2,3))\n",
    "print (E)"
   ]
  },
  {
   "cell_type": "markdown",
   "id": "b8d3ddfd",
   "metadata": {
    "id": "b8d3ddfd"
   },
   "source": [
    "You can quickly create arrays that same shape as others as well:"
   ]
  },
  {
   "cell_type": "code",
   "execution_count": null,
   "id": "5f3bf267",
   "metadata": {
    "id": "5f3bf267"
   },
   "outputs": [],
   "source": [
    "R = np.ones_like(E)\n",
    "print(R)"
   ]
  },
  {
   "cell_type": "markdown",
   "id": "191acbc4",
   "metadata": {
    "id": "191acbc4"
   },
   "source": [
    "To get any other value, just multiply your \"ones\" array by whatever number you want:"
   ]
  },
  {
   "cell_type": "code",
   "execution_count": null,
   "id": "8f776cc3",
   "metadata": {
    "id": "8f776cc3"
   },
   "outputs": [],
   "source": [
    "print (E*42)"
   ]
  },
  {
   "cell_type": "markdown",
   "id": "691b8169",
   "metadata": {
    "id": "691b8169"
   },
   "source": [
    "As you might have guessed, **np.arange(start, end, step)** generates numbers between two endpoints (**start** and up to but not including **end**) that are spaced by **step**. \n",
    "\n",
    "At times, it is useful to have __N__ numbers equally spaced between two endpoints. For this, we use the function **np.linspace(start,end,N)** which generates an array starting with **start**, going up to (and including!)  **end** with $N$ linearly spaced elements:  "
   ]
  },
  {
   "cell_type": "code",
   "execution_count": null,
   "id": "53ffc50d",
   "metadata": {
    "id": "53ffc50d"
   },
   "outputs": [],
   "source": [
    "F=np.linspace(0,10,14) # give me 14 numbers from 0 to 10, including 0 and 10.\n",
    "print  (F)\n",
    "print (len(F))\n"
   ]
  },
  {
   "cell_type": "markdown",
   "id": "d00bfaea",
   "metadata": {
    "id": "d00bfaea"
   },
   "source": [
    "To summarize: \n",
    "\n",
    "**np.linspace( )** creates an array with $N$ evenly spaced elements starting at **start** and including the **end** value,\n",
    "while **np.arange( )** creates an array with elements at **step** intervals between  **start** up to but NOT including the  **end** value.  "
   ]
  },
  {
   "cell_type": "markdown",
   "id": "d769d4f3",
   "metadata": {
    "id": "d769d4f3"
   },
   "source": [
    "Another trick for creating arrays, is to use the **np.loadtxt( )** function.   It reads  a data file into an array.   This example uses a 'pathname' which we  learned about in Lecture 1. "
   ]
  },
  {
   "cell_type": "code",
   "execution_count": null,
   "id": "e93e1d15",
   "metadata": {
    "id": "e93e1d15"
   },
   "outputs": [],
   "source": [
    "newarray = np.loadtxt(fpath+'Datasets/random_numbers.txt')\n",
    "newarray"
   ]
  },
  {
   "cell_type": "markdown",
   "id": "cc5eecaf",
   "metadata": {
    "id": "cc5eecaf"
   },
   "source": [
    "### A few words about array types\n",
    "\n",
    "In the last example, **NumPy** figured out what array type was required - it decided to make  a floating point array without our having to specify the type.  But what if we wanted an integer array with numbers from 0. to 9. instead?  \n",
    "\n",
    "There are a few solutions to this.  First, we could use integers in the **np.arange( )** call:"
   ]
  },
  {
   "cell_type": "code",
   "execution_count": null,
   "id": "d4a6cbec",
   "metadata": {
    "id": "d4a6cbec"
   },
   "outputs": [],
   "source": [
    "np.arange(0.,10,1)"
   ]
  },
  {
   "cell_type": "markdown",
   "id": "996ecdcb",
   "metadata": {
    "id": "996ecdcb"
   },
   "source": [
    "Or, we could specify the array type with the _dtype_ argument, where _dtype_ can be _int_, _float_, _str_, among others. "
   ]
  },
  {
   "cell_type": "code",
   "execution_count": null,
   "id": "bc4ae703",
   "metadata": {
    "id": "bc4ae703"
   },
   "outputs": [],
   "source": [
    "print (np.arange(0,10,1,dtype='float'))\n",
    "print (np.arange(0,10,1,dtype='int'))"
   ]
  },
  {
   "cell_type": "markdown",
   "id": "bc2c6e5d",
   "metadata": {
    "id": "bc2c6e5d"
   },
   "source": [
    "So, what is an _object_ array?  That would be an array that allows different data types:\n"
   ]
  },
  {
   "cell_type": "code",
   "execution_count": null,
   "id": "4f5839d5",
   "metadata": {
    "id": "4f5839d5"
   },
   "outputs": [],
   "source": [
    "np.array([[1, 2, 3],[4,2,0],['Ashley', 'Luther','Zayd']],dtype='object')"
   ]
  },
  {
   "cell_type": "markdown",
   "id": "3e3ced69",
   "metadata": {
    "id": "3e3ced69"
   },
   "source": [
    "But object arrays have their own limitations, e.g., you can't multiply the array by anything.  "
   ]
  },
  {
   "cell_type": "markdown",
   "id": "f823905a",
   "metadata": {
    "id": "f823905a"
   },
   "source": [
    "Array attributes\n",
    "Like other Python objects we have already encountered, arrays also have attributes and methods. As before, attributes do not have parentheses while methods do.\n",
    "\n",
    "We will start by looking at array attributes which report on the state of the array.\n",
    "\n",
    "As an example of the use of an attribute, we can find out what the data type of an array is with the attribute array.dtype:"
   ]
  },
  {
   "cell_type": "code",
   "execution_count": null,
   "id": "e7391dea",
   "metadata": {
    "id": "e7391dea"
   },
   "outputs": [],
   "source": [
    "D.dtype"
   ]
  },
  {
   "cell_type": "markdown",
   "id": "50e2355e",
   "metadata": {
    "id": "50e2355e"
   },
   "source": [
    "As you may have already figured out, arrays have dimensions and shape. Dimensions define the number of axes, as in the illustration below. \n",
    "\n",
    "Rember our first array, $A$?  It  had two dimensions (axis 0 and 1).   We can use the attribute **ndim** to find find this out:\n",
    "   \n",
    "\n"
   ]
  },
  {
   "cell_type": "code",
   "execution_count": null,
   "id": "d49cb0cd",
   "metadata": {
    "id": "d49cb0cd"
   },
   "outputs": [],
   "source": [
    "Image(filename=fpath+'Figures/ndim.jpg') # just ignore this - i just want to show you the pretty picture."
   ]
  },
  {
   "cell_type": "code",
   "execution_count": null,
   "id": "5dad0f75",
   "metadata": {
    "id": "5dad0f75"
   },
   "outputs": [],
   "source": [
    "A= np.array([[1,2,3],[4,2,0],[1,1,2]]) # just to remind you\n",
    "print (\"the dimensions of A are: \",A.ndim)"
   ]
  },
  {
   "cell_type": "markdown",
   "id": "340f4515",
   "metadata": {
    "id": "340f4515"
   },
   "source": [
    "\n",
    "Notice how **np.zeros( )**, **np.ones( )** and **np.ndarray( )** used a shape tuple in order to define the arrays in the examples above.   The shape of an array tells us how many elements are along each axis.  Python returns a tuple with the shape information if we use the **shape** _attribute_:  \n",
    "\n"
   ]
  },
  {
   "cell_type": "code",
   "execution_count": null,
   "id": "f1be1199",
   "metadata": {
    "id": "f1be1199"
   },
   "outputs": [],
   "source": [
    "A.shape"
   ]
  },
  {
   "cell_type": "markdown",
   "id": "6bef44d2",
   "metadata": {
    "id": "6bef44d2"
   },
   "source": [
    "### Array methods\n",
    "\n",
    "Arrays, like lists,   have a bunch of _methods_, but the _methods_ are different than the  _methods_ we learned about for lists.  For example, you can **append** to an array, but the results may surprise you. \n",
    "\n"
   ]
  },
  {
   "cell_type": "code",
   "execution_count": null,
   "id": "8fa6c84c",
   "metadata": {
    "id": "8fa6c84c"
   },
   "outputs": [],
   "source": [
    "print ('D: \\n',D)\n",
    "print ('\\n')\n",
    "print ('D after append: \\n',np.append(D,[2,2,2]))"
   ]
  },
  {
   "cell_type": "markdown",
   "id": "b4a4688d",
   "metadata": {
    "id": "b4a4688d"
   },
   "source": [
    "See how we now have a 1-D array?  Not exactly what you expected?  We can deal with that problem by reshaping the array, as we shall see.  But first, you can also **concatenate** arrays which may be a simpler way to extend your array: "
   ]
  },
  {
   "cell_type": "code",
   "execution_count": null,
   "id": "09d77e96",
   "metadata": {
    "id": "09d77e96",
    "scrolled": true
   },
   "outputs": [],
   "source": [
    "print (np.concatenate((D,E)))"
   ]
  },
  {
   "cell_type": "markdown",
   "id": "246cc2ed",
   "metadata": {
    "id": "246cc2ed"
   },
   "source": [
    "To solve the shape problem (2D versus 1D), you can  re-arrange a 1D array into a 2D array (as long as the total number of elements is the same).   To do that, we use the **array.reshape( )** _method_:"
   ]
  },
  {
   "cell_type": "code",
   "execution_count": null,
   "id": "9d394346",
   "metadata": {
    "id": "9d394346",
    "scrolled": true
   },
   "outputs": [],
   "source": [
    "# we can take a 1D array with 50 elements and reshape it into, say a 5 X 10 2-D array:\n",
    "B_real_2D=B_real.reshape((5,10))\n",
    "print ('B_real: \\n',B_real)\n",
    "print ('\\n B_real after reshaping: \\n',B_real_2D)\n"
   ]
  },
  {
   "cell_type": "markdown",
   "id": "6e305649",
   "metadata": {
    "id": "6e305649"
   },
   "source": [
    "You can go the other way, by taking a 2D (or more) array and turning it into one long 1D array using **array.flatten( )**.  "
   ]
  },
  {
   "cell_type": "code",
   "execution_count": null,
   "id": "7e78b38f",
   "metadata": {
    "id": "7e78b38f"
   },
   "outputs": [],
   "source": [
    "B_real_1D=B_real_2D.flatten()\n",
    "print (B_real_1D)"
   ]
  },
  {
   "cell_type": "markdown",
   "id": "a209b82c",
   "metadata": {
    "id": "a209b82c"
   },
   "source": [
    "Another super useful array method is **array.transpose( )** \\[equivalent to **array.T( )**\\] which swaps rows and columns:"
   ]
  },
  {
   "cell_type": "code",
   "execution_count": null,
   "id": "e1eeaf83",
   "metadata": {
    "id": "e1eeaf83"
   },
   "outputs": [],
   "source": [
    "print ('B_real_2D: \\n',B_real_2D)\n",
    "print ('\\n B_real_2D transposed: \\n',B_real_2D.transpose())\n"
   ]
  },
  {
   "cell_type": "markdown",
   "id": "897e56f1",
   "metadata": {
    "id": "897e56f1"
   },
   "source": [
    "### Slicing and indexing ndarrays \n",
    "\n",
    "The syntax for slicing an array is similar to that for a list:  "
   ]
  },
  {
   "cell_type": "code",
   "execution_count": null,
   "id": "2e02471d",
   "metadata": {
    "id": "2e02471d"
   },
   "outputs": [],
   "source": [
    "B=A[0:2] # access the top two lines  of matrix A \n",
    "print (B)"
   ]
  },
  {
   "cell_type": "markdown",
   "id": "2d17d750",
   "metadata": {
    "id": "2d17d750"
   },
   "source": [
    "### Masking Arrays\n",
    "\n",
    "We can also 'mask' arrays. This is a handy thing a bit like doing an **if** statement for an array. For example, we could make an array of numbers,  say, times, between 0 and 10 minutes and then search just for the times greater than 5 minutes."
   ]
  },
  {
   "cell_type": "code",
   "execution_count": null,
   "id": "10b48fd7",
   "metadata": {
    "ExecuteTime": {
     "end_time": "2020-03-11T01:42:51.363862Z",
     "start_time": "2020-03-11T01:42:51.345503Z"
    },
    "id": "10b48fd7"
   },
   "outputs": [],
   "source": [
    "time=np.linspace(0,10,11)\n",
    "lateTime=time[time>5]\n",
    "print(lateTime)"
   ]
  },
  {
   "cell_type": "markdown",
   "id": "03b2edc0",
   "metadata": {
    "id": "03b2edc0"
   },
   "source": [
    "If two arrays are the same shape, we can use one array to mask another array. For example, we could make an array of distances traveled at a constant speed of 20 miles per hour, and mask to show only the distances for the last 5 minutes."
   ]
  },
  {
   "cell_type": "code",
   "execution_count": null,
   "id": "93229142",
   "metadata": {
    "ExecuteTime": {
     "end_time": "2020-03-11T01:45:53.159150Z",
     "start_time": "2020-03-11T01:45:53.152847Z"
    },
    "id": "93229142"
   },
   "outputs": [],
   "source": [
    "distance=time/3\n",
    "lateDistance=distance[time>5]\n",
    "print(lateDistance)"
   ]
  },
  {
   "cell_type": "markdown",
   "id": "65402f1d",
   "metadata": {
    "id": "65402f1d"
   },
   "source": [
    "How does this work? We can peek into this by looking at the result when we print (time>5). It turns out that this creates an array of True and False which tells the program what elements of the array to choose."
   ]
  },
  {
   "cell_type": "code",
   "execution_count": null,
   "id": "182443ae",
   "metadata": {
    "ExecuteTime": {
     "end_time": "2020-03-11T01:48:53.391190Z",
     "start_time": "2020-03-11T01:48:53.384706Z"
    },
    "id": "182443ae"
   },
   "outputs": [],
   "source": [
    "boolTime=time>5\n",
    "print(boolTime)"
   ]
  },
  {
   "cell_type": "markdown",
   "id": "32fa688f",
   "metadata": {
    "id": "32fa688f"
   },
   "source": [
    "\n",
    "\n",
    "For many more methods and attributes of ndarrays, visit the NumPy Reference website:  http://docs.scipy.org/doc/numpy/reference/.   \n"
   ]
  },
  {
   "cell_type": "markdown",
   "id": "43315ada",
   "metadata": {
    "id": "43315ada"
   },
   "source": [
    "### Converting between Data Structures\n",
    "\n",
    "We can convert from an array to a list:"
   ]
  },
  {
   "cell_type": "code",
   "execution_count": null,
   "id": "b5b5efe9",
   "metadata": {
    "id": "b5b5efe9"
   },
   "outputs": [],
   "source": [
    "L=A.tolist()\n",
    "print (\"Original array: \\t\", type(A)) # the '\\t' inserts a tab\n",
    "print (\"List form: \\t\\t\", type(L))\n",
    "print (A)\n",
    "print (L)\n",
    "\n",
    "# notice the commas, the array turned into  a list of three lists"
   ]
  },
  {
   "cell_type": "markdown",
   "id": "0556cf0e",
   "metadata": {
    "id": "0556cf0e"
   },
   "source": [
    "From a list to an array:"
   ]
  },
  {
   "cell_type": "code",
   "execution_count": null,
   "id": "1075f77e",
   "metadata": {
    "id": "1075f77e"
   },
   "outputs": [],
   "source": [
    "AfromL=np.array(L)# from a list\n",
    "print ('AfromL: ')\n",
    "print (AfromL)\n",
    "\n"
   ]
  },
  {
   "cell_type": "markdown",
   "id": "cb161afc",
   "metadata": {
    "id": "cb161afc"
   },
   "source": [
    "Or from a tuple to an array:\n"
   ]
  },
  {
   "cell_type": "code",
   "execution_count": null,
   "id": "09a70711",
   "metadata": {
    "id": "09a70711"
   },
   "outputs": [],
   "source": [
    "AfromT=np.array((4,2)) # from a tuple \n",
    "print ('AfromT: ')\n",
    "print (AfromT)"
   ]
  },
  {
   "cell_type": "markdown",
   "id": "ffe52b39",
   "metadata": {
    "id": "ffe52b39"
   },
   "source": [
    "### Saving NumPy arrays as text files\n",
    "\n",
    "Having created, sliced and diced an array, it is often handy to save the data to a file for later use.  We can do that with the command **np.savetxt( )**.  \n",
    "\n",
    "Let's save our **A** array to a file called _A.txt_."
   ]
  },
  {
   "cell_type": "code",
   "execution_count": null,
   "id": "f18d72ac",
   "metadata": {
    "id": "f18d72ac"
   },
   "outputs": [],
   "source": [
    "np.savetxt(fpath+'A.txt',A)"
   ]
  },
  {
   "cell_type": "code",
   "execution_count": null,
   "id": "e39fe265",
   "metadata": {
    "id": "e39fe265"
   },
   "outputs": [],
   "source": [
    "#and clean up\n",
    "os.remove(fpath+'A.txt')"
   ]
  },
  {
   "cell_type": "markdown",
   "id": "691b6525",
   "metadata": {
    "id": "691b6525"
   },
   "source": [
    "# Lecture 8: Pandas"
   ]
  },
  {
   "cell_type": "markdown",
   "id": "d3d8490a",
   "metadata": {
    "id": "d3d8490a"
   },
   "source": [
    "\n",
    "### The Joy of Pandas\n",
    "\n",
    "**Pandas** is a relatively new package for Python.  It allows us to read in more complicated data file formats than **NumPy**, and  wrangle the data in powerful ways. It also provides many useful data analysis tools.\n",
    "\n",
    "There are two basic data structures in **Pandas**, the **DataFrame**, which is essentially a spreadsheet with multiple columns while the **Series**  is a single column of data. A **Series** is like a **list** or **array** on steroids. \n",
    "\n",
    "The dipole_coeffs file includes column headers (strings) as the first row.  This kind of file does not play nicely with **np.loadtxt( )**,  but we can use the **Pandas** function, **read_excel( )** to read in the datafile.  This function not only reads in 'comma separated variable' files (.csv), but also other data formats once we tell it how the file is delimited.  \n",
    "\n",
    "Of course we must first import **Pandas** into the notebook:"
   ]
  },
  {
   "cell_type": "code",
   "execution_count": null,
   "id": "3b629711",
   "metadata": {
    "id": "3b629711"
   },
   "outputs": [],
   "source": [
    "import pandas as pd"
   ]
  },
  {
   "cell_type": "code",
   "execution_count": null,
   "id": "dab7f77f",
   "metadata": {
    "id": "dab7f77f"
   },
   "outputs": [],
   "source": [
    "dfDipole = pd.read_excel(fpath+'Datasets/dipole_coeffs.xlsx',index_col=0,header=0)\n",
    "dfDipole.head()"
   ]
  },
  {
   "cell_type": "markdown",
   "id": "ffa542db",
   "metadata": {
    "id": "ffa542db"
   },
   "source": [
    "**dfDipole** is now a Pandas **DataFrame**.  \n",
    "\n",
    "So what is a **DataFrame**?   It is a new data container that is more sophisticated than any we have learned about so far (**lists, tuples, sets, dictionaries, arrays**).   \n",
    "It has named columns (like an Excel spreadsheet) and identifies the rows by _indices_ starting with 0. \n",
    "\n",
    "The file we read in included column headers and **Pandas** knows which line they were in (after the header or skiprows arguments).  \n",
    "\n",
    "If we want to be sure, we can use the **DataFrame.columns** attribute on the dfDipole DataFrame:\n"
   ]
  },
  {
   "cell_type": "code",
   "execution_count": null,
   "id": "9c9ed31e",
   "metadata": {
    "id": "9c9ed31e"
   },
   "outputs": [],
   "source": [
    "dfDipole.columns"
   ]
  },
  {
   "cell_type": "markdown",
   "id": "e5c8955a",
   "metadata": {
    "id": "e5c8955a"
   },
   "source": [
    "Notice that a **DataFrame** is of type _object_, similar to one of the **NumPy** array types that mixed data types we briefly encountered before. Let's explore these objects with Pandas DataFrames.  \n",
    "\n",
    "We see that the  columns of **dfDipole**  are: \n",
    "- \"g10\": the axial dipole component\n",
    "- \"g11\": the equatorial dipole along prime meridian\n",
    "- \"h11\": the  equatorial dipole perpendicular to prime meridian\n",
    "\n",
    "Each one of these columns is a **Pandas Series.**  So to review:, **DataFrames** are like Excel spreadsheets and **Series** are one column of the spreadsheet.  "
   ]
  },
  {
   "cell_type": "markdown",
   "id": "b1a76de0",
   "metadata": {
    "id": "b1a76de0"
   },
   "source": [
    "DataFrames can be seen as fancy dictionaries. One feature is that columns and indices are accessed mostly by using their name."
   ]
  },
  {
   "cell_type": "code",
   "execution_count": null,
   "id": "d1074ece",
   "metadata": {
    "id": "d1074ece"
   },
   "outputs": [],
   "source": [
    "dfDipole['g10']"
   ]
  },
  {
   "cell_type": "markdown",
   "id": "55cc34cb",
   "metadata": {
    "id": "55cc34cb"
   },
   "source": [
    "To save a DataFrame to a file, we use the **to_excel** method: "
   ]
  },
  {
   "cell_type": "code",
   "execution_count": null,
   "id": "d644ceb0",
   "metadata": {
    "id": "d644ceb0"
   },
   "outputs": [],
   "source": [
    "dfDipole.to_excel(fpath+'dfDipole.xlsx', index=False)"
   ]
  },
  {
   "cell_type": "markdown",
   "id": "0aca5175",
   "metadata": {
    "id": "0aca5175"
   },
   "source": [
    "Without the argument **index=False**, there is an annoying extra column with all the DataFrame's index numbers, with **index** set to False, these do not appear.  You can check it out with excel or something.  \n",
    "\n",
    "Also, there are many other file formats besides 'excel spreadsheet' (.xlsx) which can be saved using the **to_csv** method with varying **sep** arguments.  **sep** stands for \"separator\".   For example, sep='\\t' makes it a tab delimited (separated) file: "
   ]
  },
  {
   "cell_type": "markdown",
   "id": "4f59a24f",
   "metadata": {
    "id": "4f59a24f"
   },
   "source": [
    "## Playing with Pandas"
   ]
  },
  {
   "cell_type": "markdown",
   "id": "1ab0af49",
   "metadata": {
    "id": "1ab0af49"
   },
   "source": [
    "We can also edit and transform dataframes. First thing we should do is add a column with dipole moment."
   ]
  },
  {
   "cell_type": "code",
   "execution_count": null,
   "id": "14eba885",
   "metadata": {
    "id": "14eba885"
   },
   "outputs": [],
   "source": [
    "# adding dipole moment column, recall formula from lecture\n",
    "dfDipole['moment'] = np.sqrt(dfDipole['g10']**2 + dfDipole['g11']**2 + dfDipole['h11']**2)\n",
    "dfDipole.head()"
   ]
  },
  {
   "cell_type": "markdown",
   "id": "7d121c20",
   "metadata": {
    "id": "7d121c20"
   },
   "source": [
    "We can slice and filter DataFrames similar to how we access numpy arrays. There are some nuances.<br><br>Based on my experience, using the ***.loc*** method has been the most reliable, if verbose, way of filtering data."
   ]
  },
  {
   "cell_type": "markdown",
   "id": "ef3c6e06",
   "metadata": {
    "id": "ef3c6e06"
   },
   "source": [
    "Let's only return rows where the dipole moment is greater than 61 but less than or equal to 64 $\\mu$T."
   ]
  },
  {
   "cell_type": "code",
   "execution_count": null,
   "id": "e8e31bda",
   "metadata": {
    "id": "e8e31bda"
   },
   "outputs": [],
   "source": [
    "# note the square braces!!, parantheses around filtering instruction, and '&' showing the AND conditional\n",
    "dfDipole.loc[(dfDipole['moment']>61)&(dfDipole['moment']<=64)] "
   ]
  },
  {
   "cell_type": "markdown",
   "id": "a3f70ce1",
   "metadata": {
    "id": "a3f70ce1"
   },
   "source": [
    "and if we only want certain columns:"
   ]
  },
  {
   "cell_type": "code",
   "execution_count": null,
   "id": "653ca0b4",
   "metadata": {
    "id": "653ca0b4"
   },
   "outputs": [],
   "source": [
    "dfDipole.loc[(dfDipole['moment']>61)&(dfDipole['moment']<=64),['g10','moment']] "
   ]
  },
  {
   "cell_type": "markdown",
   "id": "e2247d21",
   "metadata": {
    "id": "e2247d21"
   },
   "source": [
    "Let's add two more columns, this time with pole latitude and longitude:"
   ]
  },
  {
   "cell_type": "markdown",
   "id": "0f4d11af",
   "metadata": {
    "id": "0f4d11af"
   },
   "source": [
    "First, we need a function to return pole lat. and long. given g10, g11 and h11."
   ]
  },
  {
   "cell_type": "code",
   "execution_count": null,
   "id": "4f5da63e",
   "metadata": {
    "id": "4f5da63e"
   },
   "outputs": [],
   "source": [
    "def gauss2pole(g10,g11,h11):\n",
    "    \"\"\"\n",
    "    Returns pole latitude and pole longitude given dipole gauss coeffs g10, g11 and h11.\n",
    "    \"\"\"\n",
    "    # remember equation from lecture returns colat from north pole\n",
    "    plat = 90 - np.degrees(np.arccos(g10/np.sqrt(g10**2+g11**2+h11**2)))\n",
    "    \n",
    "    plon = np.degrees(np.arctan2(h11,g11))  # note arctan2 is better than arccos at dealing with quadrant issues\n",
    "    \n",
    "    return plat,plon\n",
    "    "
   ]
  },
  {
   "cell_type": "markdown",
   "id": "d978a628",
   "metadata": {
    "id": "d978a628"
   },
   "source": [
    "Okay, let's run this function. Note that since numpy and pandas play nice together, numpy treats Series as arrays."
   ]
  },
  {
   "cell_type": "code",
   "execution_count": null,
   "id": "764b8cb3",
   "metadata": {
    "id": "764b8cb3"
   },
   "outputs": [],
   "source": [
    "dfDipole['plat'],dfDipole['plon'] = gauss2pole(dfDipole['g10'],dfDipole['g11'],dfDipole['h11'])\n",
    "dfDipole.head()"
   ]
  },
  {
   "cell_type": "markdown",
   "id": "bf8cdd94",
   "metadata": {
    "id": "bf8cdd94"
   },
   "source": [
    "Also, note how we split the two returns (a tuple) into two separate columns -- we essentially specified the LHS of the assignment as its own tuple."
   ]
  },
  {
   "cell_type": "markdown",
   "id": "3256d736",
   "metadata": {
    "id": "3256d736"
   },
   "source": [
    "Let's add another column, we can make it a boolean for whether the field is normal or reverse polarity. Technically, this can be done as a one-line command, but I want to show a powerful way to loop through DataFrames."
   ]
  },
  {
   "cell_type": "code",
   "execution_count": null,
   "id": "f34ac8d5",
   "metadata": {
    "id": "f34ac8d5"
   },
   "outputs": [],
   "source": [
    "\"\"\"\n",
    "this loops through two returns at each step, the dataframe row's index and row contents. \n",
    "Note the \"iterrows\" -- while you can loop through dataframes without iterrows, but it can lead to unexpected behavior\n",
    "\"\"\"\n",
    "polBool = [] # collector list for polarity assignments\n",
    "for idx,row in dfDipole.iterrows():\n",
    "    # each loop returns a new index (idx) and dataframe row (row)\n",
    "    # rows are Pandas Series and columns can be accessed like dictionaries\n",
    "    if row['plat']>=0:\n",
    "        # if row polarity is >0, normal polarity\n",
    "        polBool.append(True)\n",
    "    else:\n",
    "        polBool.append(False)\n",
    "dfDipole['normal'] = polBool    "
   ]
  },
  {
   "cell_type": "markdown",
   "id": "6713bfd6",
   "metadata": {
    "id": "6713bfd6"
   },
   "source": [
    "Note that you should never modify something you are iterating over. This is not guaranteed to work in all cases. Depending on the data types, the iterator returns a copy and not a view, and writing to it will have no effect."
   ]
  },
  {
   "cell_type": "code",
   "execution_count": null,
   "id": "fc00a0bd",
   "metadata": {
    "id": "fc00a0bd"
   },
   "outputs": [],
   "source": [
    "dfDipole"
   ]
  },
  {
   "cell_type": "markdown",
   "id": "e2b1aa11",
   "metadata": {
    "id": "e2b1aa11"
   },
   "source": [
    "## Plotting"
   ]
  },
  {
   "cell_type": "markdown",
   "id": "e6955f31",
   "metadata": {
    "id": "e6955f31"
   },
   "source": [
    "Let's make some simple time series plots for now. We can try making polar wander maps when we discuss mapping modules such as cartopy"
   ]
  },
  {
   "cell_type": "markdown",
   "id": "3e27122b",
   "metadata": {
    "id": "3e27122b"
   },
   "source": [
    "First, a simple plot of axial dipole term 'g10'"
   ]
  },
  {
   "cell_type": "code",
   "execution_count": null,
   "id": "9138b2b1",
   "metadata": {
    "id": "9138b2b1"
   },
   "outputs": [],
   "source": [
    "plt.plot(dfDipole['g10'])"
   ]
  },
  {
   "cell_type": "markdown",
   "id": "0cb77956",
   "metadata": {
    "id": "0cb77956"
   },
   "source": [
    "We can use markers instead of lines:"
   ]
  },
  {
   "cell_type": "code",
   "execution_count": null,
   "id": "8c909285",
   "metadata": {
    "id": "8c909285"
   },
   "outputs": [],
   "source": [
    "plt.plot(dfDipole['g10'],'o')"
   ]
  },
  {
   "cell_type": "markdown",
   "id": "73322312",
   "metadata": {
    "id": "73322312"
   },
   "source": [
    "Okay, so far so good but it's not very useful. It needs axes labels, and maybe we can make it look nicer."
   ]
  },
  {
   "cell_type": "code",
   "execution_count": null,
   "id": "df53ec8c",
   "metadata": {
    "id": "df53ec8c"
   },
   "outputs": [],
   "source": [
    "# using the following set up gives you more control with how you create your figures\n",
    "\n",
    "# creates figure object, sets dimensions (for matlab people, this is what would be returned if you ran 'gcf')\n",
    "fig = plt.figure(figsize=(6,4)) \n",
    "# defines first set of axes for plotting (matlab people, this is 'gca')\n",
    "ax = fig.subplots(1,1) \n",
    "\n",
    "ax.plot(dfDipole['g10'],color='black',linewidth=0.75,linestyle='-')\n",
    "ax.set_xlabel('Time (unitless)')\n",
    "ax.set_ylabel('$g_1^0$ ($\\mu$T)') # some latex for fun\n"
   ]
  },
  {
   "cell_type": "markdown",
   "id": "3b6ee893",
   "metadata": {
    "id": "3b6ee893"
   },
   "source": [
    "Let's see how adding extra lines looks:"
   ]
  },
  {
   "cell_type": "code",
   "execution_count": null,
   "id": "c3cfe564",
   "metadata": {
    "id": "c3cfe564"
   },
   "outputs": [],
   "source": [
    "# using the following set up gives you more control with how you create your figures\n",
    "\n",
    "# creates figure object, sets dimensions (for matlab people, this is what would be returned if you ran 'gcf')\n",
    "fig = plt.figure(figsize=(6,4)) \n",
    "# defines first set of axes for plotting (matlab people, this is 'gca')\n",
    "ax = fig.subplots(1,1) \n",
    "\n",
    "ax.plot(dfDipole['g10'],color='black',linewidth=0.75,linestyle='-',label='g10')\n",
    "\n",
    "ax.plot(dfDipole['g11'],label='g11')\n",
    "ax.plot(dfDipole['h11'],label='h11')\n",
    "\n",
    "\n",
    "ax.legend()\n",
    "ax.set_xlabel('Time (unitless)')\n",
    "ax.set_ylabel('$g_1^0$ ($\\mu$T)'); # some latex for fun\n"
   ]
  },
  {
   "cell_type": "markdown",
   "id": "0752f9c6",
   "metadata": {
    "id": "0752f9c6"
   },
   "source": [
    "We can also make multiple panels in the same figure. Those panels can be independent or shares parts of their axes. Here, we will use the same x-axis since it represents time."
   ]
  },
  {
   "cell_type": "code",
   "execution_count": null,
   "id": "989ca58b",
   "metadata": {
    "id": "989ca58b"
   },
   "outputs": [],
   "source": [
    "fig = plt.figure(figsize=(6,12)) # note the new size\n",
    "ax = fig.subplots(3,1,sharex=True) # and new numbers: #rows, #columns of subfigures\n",
    "\n",
    "# now that there are multiple subplots, ax is a list and needs to be indexed to access each axes\n",
    "ax[0].plot(dfDipole['plat'],color='black',linewidth=0.75,linestyle='-')\n",
    "ax[0].set_title('Pole latitude')\n",
    "\n",
    "ax[1].plot(dfDipole['plon'],color='black',linewidth=0.75,linestyle='-')\n",
    "ax[1].set_title('Pole longitude')\n",
    "\n",
    "ax[2].plot(dfDipole['moment'],color='black',linewidth=0.75,linestyle='-')\n",
    "ax[2].set_title('Dipole Moment')\n",
    "\n",
    "ax[-1].set_xlabel('Time (unitless)') # regular list indexing rules apply still\n",
    "\n",
    "fig.tight_layout(); # this moves subplots around so things look neat "
   ]
  },
  {
   "cell_type": "markdown",
   "id": "2f0c0183",
   "metadata": {
    "id": "2f0c0183"
   },
   "source": [
    "Something looks interesting during the magnetic reversals -- let's directly compare pole latitude and moment. But if we plot both lines on top of each other, the different scales will make it hard to see what's going on. Let's generate twin axes to plot on different scales."
   ]
  },
  {
   "cell_type": "code",
   "execution_count": null,
   "id": "f5309f03",
   "metadata": {
    "id": "f5309f03"
   },
   "outputs": [],
   "source": [
    "# using the following set up gives you more control with how you create your figures\n",
    "\n",
    "# creates figure object, sets dimensions (for matlab people, this is what would be returned if you ran 'gcf')\n",
    "fig = plt.figure(figsize=(6,4)) \n",
    "# defines first set of axes for plotting (matlab people, this is 'gca')\n",
    "ax = fig.subplots(1,1) \n",
    "\n",
    "ax.plot(dfDipole['plat'],color='black',linewidth=0.75,linestyle='-',label='pole lat.')\n",
    "ax.set_xlabel('Time (unitless)')\n",
    "ax.set_ylabel('degree')\n",
    "\n",
    "ax2 = ax.twinx()\n",
    "ax2.plot(dfDipole['moment'],color='red',linewidth=0.75,linestyle='-',label='dipole moment')\n",
    "ax2.set_ylabel('moment');"
   ]
  },
  {
   "cell_type": "markdown",
   "id": "9605a511",
   "metadata": {
    "id": "9605a511"
   },
   "source": [
    "It looks like the weakest field strengths happen during reversals and excursions!"
   ]
  },
  {
   "cell_type": "code",
   "execution_count": null,
   "id": "39d513a1",
   "metadata": {},
   "outputs": [],
   "source": []
  }
 ],
 "metadata": {
  "colab": {
   "include_colab_link": true,
   "provenance": []
  },
  "kernelspec": {
   "display_name": "Python 3 (ipykernel)",
   "language": "python",
   "name": "python3"
  },
  "language_info": {
   "codemirror_mode": {
    "name": "ipython",
    "version": 3
   },
   "file_extension": ".py",
   "mimetype": "text/x-python",
   "name": "python",
   "nbconvert_exporter": "python",
   "pygments_lexer": "ipython3",
   "version": "3.8.11"
  }
 },
 "nbformat": 4,
 "nbformat_minor": 5
}
