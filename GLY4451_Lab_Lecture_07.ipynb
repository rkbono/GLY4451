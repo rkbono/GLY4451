{
  "cells": [
    {
      "cell_type": "markdown",
      "metadata": {
        "id": "view-in-github",
        "colab_type": "text"
      },
      "source": [
        "<a href=\"https://colab.research.google.com/github/rkbono/GLY4451/blob/main/GLY4451_Lab_Lecture_07.ipynb\" target=\"_parent\"><img src=\"https://colab.research.google.com/assets/colab-badge.svg\" alt=\"Open In Colab\"/></a>"
      ]
    },
    {
      "cell_type": "code",
      "execution_count": null,
      "id": "d7bd45f1",
      "metadata": {
        "id": "d7bd45f1"
      },
      "outputs": [],
      "source": [
        "# Let's get some basic modules imported\n",
        "import numpy as np\n",
        "import matplotlib.pyplot as plt\n",
        "from IPython.display import Image \n",
        "import os"
      ]
    },
    {
      "cell_type": "code",
      "execution_count": null,
      "id": "975fe9ba",
      "metadata": {
        "id": "975fe9ba",
        "outputId": "72e8da63-d254-4225-edc7-ce1ad34224dc"
      },
      "outputs": [
        {
          "name": "stdout",
          "output_type": "stream",
          "text": [
            "Not running on CoLab\n"
          ]
        }
      ],
      "source": [
        "if 'google.colab' in str(get_ipython()):\n",
        "    print('Running on CoLab')\n",
        "    !git clone https://github.com/rkbono/GLY4451.git\n",
        "    fpath = './GLY4451/'\n",
        "else:\n",
        "    print('Not running on CoLab')\n",
        "    fpath = './'"
      ]
    },
    {
      "cell_type": "markdown",
      "id": "5cb8e882",
      "metadata": {
        "id": "5cb8e882"
      },
      "source": [
        "# Lecture 7:\n",
        "\n",
        "- Learn more about **NumPy** and **matplotlib**\n",
        "- Learn more about **NumPy** arrays.  \n",
        " \n",
        "\n"
      ]
    },
    {
      "cell_type": "markdown",
      "id": "b93d0c59",
      "metadata": {
        "id": "b93d0c59"
      },
      "source": [
        "\n",
        "### NumPy and N-dimensional arrays\n",
        "\n",
        "We briefly mentioned **arrays** in the last lecture but quickly moved into plotting (because that is more fun). But **arrays** are essential to our computational happiness, so we need to bite the bullet and learn about them now. \n",
        "\n",
        "**Arrays**  in **Numpy**  are somewhat  similar to  lists but there are important differences with advantages and disadvantages.\n",
        "Unlike lists,   **arrays** are usually all of the same data type (**dtype**), usually numbers (integers or floats) and at times characters.  A \"feature\" of arrays is that the size,  shape and type are fixed when it's created. \n",
        "\n",
        "Remember, we can define a list:\n",
        "\n",
        "L=\\[ \\]\n",
        "\n",
        "then append to it as desired using the **L.append( )** method. It is more complicated (but still possible) to **extend**   arrays. \n",
        "\n",
        "Why use arrays when you can use lists?  Arrays are far more computationally efficient than lists, particularly for things like matrix math.  You can perform calculations on the entire array in one go instead of looping through element by element as for lists.  \n",
        "\n",
        "To make things a little confusing, there are  several different data objects that are loosely called arrays, e.g., arrays, character arrays and matrices.  These are all subclasses of **ndarray** (N-dimensional array).  We will just worry about **arrays** in this course.  \n",
        "\n",
        "Apart from reading in a data file with **NumPy**, as we did in the last lecture, there are many different ways of creating arrays.  Here are a few examples:"
      ]
    },
    {
      "cell_type": "code",
      "execution_count": null,
      "id": "fbc5aa00",
      "metadata": {
        "id": "fbc5aa00",
        "outputId": "82a69901-a4b3-4ccc-ba3e-6a681177597f"
      },
      "outputs": [
        {
          "name": "stdout",
          "output_type": "stream",
          "text": [
            "[[1 2 3]\n",
            " [4 2 0]\n",
            " [1 1 2]]\n"
          ]
        }
      ],
      "source": [
        "# define the values with the function array( ). For example a 3x3 array\n",
        "A= np.array([[1, 2, 3],[4,2,0],[1,1,2]])\n",
        "print (A)\n",
        "\n",
        "# notice how there are no commas in arrays  "
      ]
    },
    {
      "cell_type": "markdown",
      "id": "bb7ed508",
      "metadata": {
        "id": "bb7ed508"
      },
      "source": [
        "As we learned in the last lecture, **NumPy** can also generate an array using the **np.arange( )** function which works in a manner similar to **range( )** but creates an array with floats or integers.  **range( )** makes a list generator.  \n",
        "\n",
        "This is just a reminder from Lecture 6:"
      ]
    },
    {
      "cell_type": "code",
      "execution_count": null,
      "id": "279a77ba",
      "metadata": {
        "id": "279a77ba",
        "outputId": "8b6343d4-2d13-4dda-aaed-1aacb2854320"
      },
      "outputs": [
        {
          "name": "stdout",
          "output_type": "stream",
          "text": [
            "List made by 'range':  [0, 1, 2, 3, 4, 5, 6, 7, 8, 9]\n",
            "Array made by np.arange( ):  [0 1 2 3 4 5 6 7 8 9]\n",
            "Array with real numbers: \n",
            " [0.  0.2 0.4 0.6 0.8 1.  1.2 1.4 1.6 1.8 2.  2.2 2.4 2.6 2.8 3.  3.2 3.4\n",
            " 3.6 3.8 4.  4.2 4.4 4.6 4.8 5.  5.2 5.4 5.6 5.8 6.  6.2 6.4 6.6 6.8 7.\n",
            " 7.2 7.4 7.6 7.8 8.  8.2 8.4 8.6 8.8 9.  9.2 9.4 9.6 9.8]\n"
          ]
        }
      ],
      "source": [
        "# use list(range( )) to generate a one-dimensional (1D) list that ranges \n",
        "# from the first arguement up to (but not including) the second, that\n",
        "# increments by the third:\n",
        "#we learned that range( ) creates a list generator for integers\n",
        "B=list(range(10)) \n",
        "print (\"List made by 'range': \",B)\n",
        "B_integers=np.arange(0,10,1) #arange( ) is an np function that creates an array of integers\n",
        "print (\"Array made by np.arange( ): \", B_integers)\n",
        "B_real=np.arange(0,10,.2) #  and with floats\n",
        "print (\"Array with real numbers: \\n\",B_real) # notice the \"\\n\"? that creates a new line in the text string?\n",
        "# Notice that while \"range\" makes a list of integers, arange makes an array of integers \n",
        "#   or real numbers.  "
      ]
    },
    {
      "cell_type": "markdown",
      "id": "ec5c9308",
      "metadata": {
        "id": "ec5c9308"
      },
      "source": [
        "There are several ways to create special arrays, for example, arrays initialized by zeroes, ones, or any other value: "
      ]
    },
    {
      "cell_type": "code",
      "execution_count": null,
      "id": "e17c5f62",
      "metadata": {
        "id": "e17c5f62",
        "outputId": "50b43324-5dfc-47f9-b815-639949d79a42"
      },
      "outputs": [
        {
          "name": "stdout",
          "output_type": "stream",
          "text": [
            "[[0. 0. 0.]\n",
            " [0. 0. 0.]]\n"
          ]
        }
      ],
      "source": [
        "D=np.zeros((2,3)) # Notice the size is specified by a tuple of numbers of rows and columns.\n",
        "print (D)"
      ]
    },
    {
      "cell_type": "code",
      "execution_count": null,
      "id": "24c4a425",
      "metadata": {
        "id": "24c4a425",
        "outputId": "c724aefd-dd90-4cfa-cd9a-ad83a96bfbcf"
      },
      "outputs": [
        {
          "name": "stdout",
          "output_type": "stream",
          "text": [
            "[[1. 1. 1.]\n",
            " [1. 1. 1.]]\n"
          ]
        }
      ],
      "source": [
        "E=np.ones((2,3))\n",
        "print (E)"
      ]
    },
    {
      "cell_type": "markdown",
      "id": "b8d3ddfd",
      "metadata": {
        "id": "b8d3ddfd"
      },
      "source": [
        "You can quickly create arrays that same shape as others as well:"
      ]
    },
    {
      "cell_type": "code",
      "execution_count": null,
      "id": "5f3bf267",
      "metadata": {
        "id": "5f3bf267",
        "outputId": "e87d05fd-e295-4eef-cdbc-c9f073d8d803"
      },
      "outputs": [
        {
          "name": "stdout",
          "output_type": "stream",
          "text": [
            "[[1. 1. 1.]\n",
            " [1. 1. 1.]]\n"
          ]
        }
      ],
      "source": [
        "R = np.ones_like(E)\n",
        "print(R)"
      ]
    },
    {
      "cell_type": "markdown",
      "id": "191acbc4",
      "metadata": {
        "id": "191acbc4"
      },
      "source": [
        "To get any other value, just multiply your \"ones\" array by whatever number you want:"
      ]
    },
    {
      "cell_type": "code",
      "execution_count": null,
      "id": "8f776cc3",
      "metadata": {
        "id": "8f776cc3",
        "outputId": "f35ca81c-3dc7-4b8a-e6e4-376e2ca0e5f8"
      },
      "outputs": [
        {
          "name": "stdout",
          "output_type": "stream",
          "text": [
            "[[42. 42. 42.]\n",
            " [42. 42. 42.]]\n"
          ]
        }
      ],
      "source": [
        "print (E*42)"
      ]
    },
    {
      "cell_type": "markdown",
      "id": "691b8169",
      "metadata": {
        "id": "691b8169"
      },
      "source": [
        "As you might have guessed, **np.arange(start, end, step)** generates numbers between two endpoints (**start** and up to but not including **end**) that are spaced by **step**. \n",
        "\n",
        "At times, it is useful to have __N__ numbers equally spaced between two endpoints. For this, we use the function **np.linspace(start,end,N)** which generates an array starting with **start**, going up to (and including!)  **end** with $N$ linearly spaced elements:  "
      ]
    },
    {
      "cell_type": "code",
      "execution_count": null,
      "id": "53ffc50d",
      "metadata": {
        "id": "53ffc50d",
        "outputId": "8374eb12-ca7a-48ea-9299-12216abba325"
      },
      "outputs": [
        {
          "name": "stdout",
          "output_type": "stream",
          "text": [
            "[ 0.          0.76923077  1.53846154  2.30769231  3.07692308  3.84615385\n",
            "  4.61538462  5.38461538  6.15384615  6.92307692  7.69230769  8.46153846\n",
            "  9.23076923 10.        ]\n",
            "14\n"
          ]
        }
      ],
      "source": [
        "F=np.linspace(0,10,14) # give me 14 numbers from 0 to 10, including 0 and 10.\n",
        "print  (F)\n",
        "print (len(F))\n"
      ]
    },
    {
      "cell_type": "markdown",
      "id": "d00bfaea",
      "metadata": {
        "id": "d00bfaea"
      },
      "source": [
        "To summarize: \n",
        "\n",
        "**np.linspace( )** creates an array with $N$ evenly spaced elements starting at **start** and including the **end** value,\n",
        "while **np.arange( )** creates an array with elements at **step** intervals between  **start** up to but NOT including the  **end** value.  "
      ]
    },
    {
      "cell_type": "markdown",
      "id": "d769d4f3",
      "metadata": {
        "id": "d769d4f3"
      },
      "source": [
        "Another trick for creating arrays, is to use the **np.loadtxt( )** function.   It reads  a data file into an array.   This example uses a 'pathname' which we  learned about in Lecture 1. "
      ]
    },
    {
      "cell_type": "code",
      "execution_count": null,
      "id": "e93e1d15",
      "metadata": {
        "id": "e93e1d15",
        "outputId": "5d189ab2-866d-4bd8-8daa-88f00d78b814"
      },
      "outputs": [
        {
          "data": {
            "text/plain": [
              "array([[6.58531422e+00, 2.37279990e+01, 1.74726104e+00],\n",
              "       [2.87260249e+01, 1.60151718e+00, 1.47666039e+01],\n",
              "       [3.49518475e+01, 5.26595410e+01, 1.01183933e+01],\n",
              "       [3.63375760e+00, 9.09754724e+01, 1.64192803e+00],\n",
              "       [1.35811817e+01, 1.56291931e+01, 4.58894125e+01],\n",
              "       [4.46303108e+01, 1.16088267e+01, 6.42195235e+00],\n",
              "       [1.78837439e+01, 3.57918979e+01, 1.49824089e+01],\n",
              "       [6.72312746e+01, 4.60471111e+00, 5.71282749e+01],\n",
              "       [7.08362591e-02, 4.35420892e+01, 3.60031863e+00],\n",
              "       [5.49009894e+01, 2.40279841e+01, 2.12138573e+00],\n",
              "       [5.57052157e+00, 1.05660235e+01, 1.67941017e+01],\n",
              "       [1.29618533e+01, 8.72235949e+00, 8.79839684e+00],\n",
              "       [2.72687775e+01, 9.95690650e+00, 3.84072635e+00],\n",
              "       [7.18581293e+01, 1.50638055e+01, 2.22559402e+01],\n",
              "       [5.61482157e+01, 5.10377558e+01, 3.77602053e+01],\n",
              "       [7.18965505e+00, 1.05875771e+00, 1.65755785e+00],\n",
              "       [2.92483167e+01, 5.17948964e+00, 4.78645577e+01],\n",
              "       [7.28831107e+01, 1.25717345e+01, 4.04885867e+00],\n",
              "       [1.48018991e+01, 6.42776757e+01, 3.06350517e+01],\n",
              "       [6.36406449e+01, 9.39335703e+01, 7.28196833e+01],\n",
              "       [5.75774833e-01, 3.94568262e+01, 1.80394107e+01],\n",
              "       [2.66092879e+01, 5.09023597e+01, 4.09147434e+00],\n",
              "       [4.70209272e+01, 7.12157946e+01, 4.28798933e+00],\n",
              "       [1.71663986e+01, 3.15326353e+00, 2.22369215e+01],\n",
              "       [1.46225164e+01, 2.08013024e+01, 5.18340887e+01]])"
            ]
          },
          "execution_count": 20,
          "metadata": {},
          "output_type": "execute_result"
        }
      ],
      "source": [
        "newarray = np.loadtxt(fpath+'Datasets/random_numbers.txt')\n",
        "newarray"
      ]
    },
    {
      "cell_type": "markdown",
      "id": "cc5eecaf",
      "metadata": {
        "id": "cc5eecaf"
      },
      "source": [
        "### A few words about array types\n",
        "\n",
        "In the last example, **NumPy** figured out what array type was required - it decided to make  a floating point array without our having to specify the type.  But what if we wanted an integer array with numbers from 0. to 9. instead?  \n",
        "\n",
        "There are a few solutions to this.  First, we could use integers in the **np.arange( )** call:"
      ]
    },
    {
      "cell_type": "code",
      "execution_count": null,
      "id": "d4a6cbec",
      "metadata": {
        "id": "d4a6cbec",
        "outputId": "99896caa-96b4-434d-d3e1-620f0ba99a38"
      },
      "outputs": [
        {
          "data": {
            "text/plain": [
              "array([0., 1., 2., 3., 4., 5., 6., 7., 8., 9.])"
            ]
          },
          "execution_count": 21,
          "metadata": {},
          "output_type": "execute_result"
        }
      ],
      "source": [
        "np.arange(0.,10,1)"
      ]
    },
    {
      "cell_type": "markdown",
      "id": "996ecdcb",
      "metadata": {
        "id": "996ecdcb"
      },
      "source": [
        "Or, we could specify the array type with the _dtype_ argument, where _dtype_ can be _int_, _float_, _str_, among others. "
      ]
    },
    {
      "cell_type": "code",
      "execution_count": null,
      "id": "bc4ae703",
      "metadata": {
        "id": "bc4ae703",
        "outputId": "9e3945f7-71f8-4df0-ceba-0182310caecd"
      },
      "outputs": [
        {
          "name": "stdout",
          "output_type": "stream",
          "text": [
            "[0. 1. 2. 3. 4. 5. 6. 7. 8. 9.]\n",
            "[0 1 2 3 4 5 6 7 8 9]\n"
          ]
        }
      ],
      "source": [
        "print (np.arange(0,10,1,dtype='float'))\n",
        "print (np.arange(0,10,1,dtype='int'))"
      ]
    },
    {
      "cell_type": "markdown",
      "id": "bc2c6e5d",
      "metadata": {
        "id": "bc2c6e5d"
      },
      "source": [
        "So, what is an _object_ array?  That would be an array that allows different data types:\n"
      ]
    },
    {
      "cell_type": "code",
      "execution_count": null,
      "id": "4f5839d5",
      "metadata": {
        "id": "4f5839d5",
        "outputId": "cc5403de-ab70-49ad-8417-7eb20ea2246e"
      },
      "outputs": [
        {
          "data": {
            "text/plain": [
              "array([[1, 2, 3],\n",
              "       [4, 2, 0],\n",
              "       ['Ashley', 'Luther', 'Zayd']], dtype=object)"
            ]
          },
          "execution_count": 24,
          "metadata": {},
          "output_type": "execute_result"
        }
      ],
      "source": [
        "np.array([[1, 2, 3],[4,2,0],['Ashley', 'Luther','Zayd']],dtype='object')"
      ]
    },
    {
      "cell_type": "markdown",
      "id": "3e3ced69",
      "metadata": {
        "id": "3e3ced69"
      },
      "source": [
        "But object arrays have their own limitations, e.g., you can't multiply the array by anything.  "
      ]
    },
    {
      "cell_type": "markdown",
      "id": "f823905a",
      "metadata": {
        "id": "f823905a"
      },
      "source": [
        "Array attributes\n",
        "Like other Python objects we have already encountered, arrays also have attributes and methods. As before, attributes do not have parentheses while methods do.\n",
        "\n",
        "We will start by looking at array attributes which report on the state of the array.\n",
        "\n",
        "As an example of the use of an attribute, we can find out what the data type of an array is with the attribute array.dtype:"
      ]
    },
    {
      "cell_type": "code",
      "execution_count": null,
      "id": "e7391dea",
      "metadata": {
        "id": "e7391dea",
        "outputId": "3436820a-8c18-4a1d-e7c4-31f70adfe779"
      },
      "outputs": [
        {
          "data": {
            "text/plain": [
              "dtype('float64')"
            ]
          },
          "execution_count": 30,
          "metadata": {},
          "output_type": "execute_result"
        }
      ],
      "source": [
        "D.dtype"
      ]
    },
    {
      "cell_type": "markdown",
      "id": "50e2355e",
      "metadata": {
        "id": "50e2355e"
      },
      "source": [
        "As you may have already figured out, arrays have dimensions and shape. Dimensions define the number of axes, as in the illustration below. \n",
        "\n",
        "Rember our first array, $A$?  It  had two dimensions (axis 0 and 1).   We can use the attribute **ndim** to find find this out:\n",
        "   \n",
        "\n"
      ]
    },
    {
      "cell_type": "code",
      "execution_count": null,
      "id": "d49cb0cd",
      "metadata": {
        "id": "d49cb0cd",
        "outputId": "87d3e0f4-0e50-4696-fd75-55c6b1c6729d"
      },
      "outputs": [
        {
          "data": {
            "image/jpeg": "[encoded data removed]",
            "text/plain": [
              "<IPython.core.display.Image object>"
            ]
          },
          "execution_count": 33,
          "metadata": {},
          "output_type": "execute_result"
        }
      ],
      "source": [
        "Image(filename=fpath+'Figures/ndim.jpg') # just ignore this - i just want to show you the pretty picture."
      ]
    },
    {
      "cell_type": "code",
      "execution_count": null,
      "id": "5dad0f75",
      "metadata": {
        "id": "5dad0f75",
        "outputId": "f01d5f00-bc5f-4ad9-fa62-025d8989b915"
      },
      "outputs": [
        {
          "name": "stdout",
          "output_type": "stream",
          "text": [
            "the dimensions of A are:  2\n"
          ]
        }
      ],
      "source": [
        "A= np.array([[1,2,3],[4,2,0],[1,1,2]]) # just to remind you\n",
        "print (\"the dimensions of A are: \",A.ndim)"
      ]
    },
    {
      "cell_type": "markdown",
      "id": "340f4515",
      "metadata": {
        "id": "340f4515"
      },
      "source": [
        "\n",
        "Notice how **np.zeros( )**, **np.ones( )** and **np.ndarray( )** used a shape tuple in order to define the arrays in the examples above.   The shape of an array tells us how many elements are along each axis.  Python returns a tuple with the shape information if we use the **shape** _attribute_:  \n",
        "\n"
      ]
    },
    {
      "cell_type": "code",
      "execution_count": null,
      "id": "f1be1199",
      "metadata": {
        "id": "f1be1199",
        "outputId": "883a04c0-7d8e-4b63-af95-3e3c73c1eb8d"
      },
      "outputs": [
        {
          "data": {
            "text/plain": [
              "(3, 3)"
            ]
          },
          "execution_count": 35,
          "metadata": {},
          "output_type": "execute_result"
        }
      ],
      "source": [
        "A.shape"
      ]
    },
    {
      "cell_type": "markdown",
      "id": "6bef44d2",
      "metadata": {
        "id": "6bef44d2"
      },
      "source": [
        "### Array methods\n",
        "\n",
        "Arrays, like lists,   have a bunch of _methods_, but the _methods_ are different than the  _methods_ we learned about for lists.  For example, you can **append** to an array, but the results may surprise you. \n",
        "\n"
      ]
    },
    {
      "cell_type": "code",
      "execution_count": null,
      "id": "8fa6c84c",
      "metadata": {
        "id": "8fa6c84c",
        "outputId": "94b32b6c-cb30-40d7-b876-8501afacf0ea"
      },
      "outputs": [
        {
          "name": "stdout",
          "output_type": "stream",
          "text": [
            "D: \n",
            " [[0. 0. 0.]\n",
            " [0. 0. 0.]]\n",
            "\n",
            "\n",
            "D after append: \n",
            " [0. 0. 0. 0. 0. 0. 2. 2. 2.]\n"
          ]
        }
      ],
      "source": [
        "print ('D: \\n',D)\n",
        "print ('\\n')\n",
        "print ('D after append: \\n',np.append(D,[2,2,2]))"
      ]
    },
    {
      "cell_type": "markdown",
      "id": "b4a4688d",
      "metadata": {
        "id": "b4a4688d"
      },
      "source": [
        "See how we now have a 1-D array?  Not exactly what you expected?  We can deal with that problem by reshaping the array, as we shall see.  But first, you can also **concatenate** arrays which may be a simpler way to extend your array: "
      ]
    },
    {
      "cell_type": "code",
      "execution_count": null,
      "id": "09d77e96",
      "metadata": {
        "scrolled": true,
        "id": "09d77e96",
        "outputId": "5b1a8284-7035-40df-ab3e-994af0ba1600"
      },
      "outputs": [
        {
          "name": "stdout",
          "output_type": "stream",
          "text": [
            "[[0. 0. 0.]\n",
            " [0. 0. 0.]\n",
            " [1. 1. 1.]\n",
            " [1. 1. 1.]]\n"
          ]
        }
      ],
      "source": [
        "print (np.concatenate((D,E)))"
      ]
    },
    {
      "cell_type": "markdown",
      "id": "246cc2ed",
      "metadata": {
        "id": "246cc2ed"
      },
      "source": [
        "To solve the shape problem (2D versus 1D), you can  re-arrange a 1D array into a 2D array (as long as the total number of elements is the same).   To do that, we use the **array.reshape( )** _method_:"
      ]
    },
    {
      "cell_type": "code",
      "execution_count": null,
      "id": "9d394346",
      "metadata": {
        "scrolled": true,
        "id": "9d394346",
        "outputId": "4cfa2f2d-bda6-4f5b-af6b-791b210feecb"
      },
      "outputs": [
        {
          "name": "stdout",
          "output_type": "stream",
          "text": [
            "B_real: \n",
            " [0.  0.2 0.4 0.6 0.8 1.  1.2 1.4 1.6 1.8 2.  2.2 2.4 2.6 2.8 3.  3.2 3.4\n",
            " 3.6 3.8 4.  4.2 4.4 4.6 4.8 5.  5.2 5.4 5.6 5.8 6.  6.2 6.4 6.6 6.8 7.\n",
            " 7.2 7.4 7.6 7.8 8.  8.2 8.4 8.6 8.8 9.  9.2 9.4 9.6 9.8]\n",
            "\n",
            " B_real after reshaping: \n",
            " [[0.  0.2 0.4 0.6 0.8 1.  1.2 1.4 1.6 1.8]\n",
            " [2.  2.2 2.4 2.6 2.8 3.  3.2 3.4 3.6 3.8]\n",
            " [4.  4.2 4.4 4.6 4.8 5.  5.2 5.4 5.6 5.8]\n",
            " [6.  6.2 6.4 6.6 6.8 7.  7.2 7.4 7.6 7.8]\n",
            " [8.  8.2 8.4 8.6 8.8 9.  9.2 9.4 9.6 9.8]]\n"
          ]
        }
      ],
      "source": [
        "# we can take a 1D array with 50 elements and reshape it into, say a 5 X 10 2-D array:\n",
        "B_real_2D=B_real.reshape((5,10))\n",
        "print ('B_real: \\n',B_real)\n",
        "print ('\\n B_real after reshaping: \\n',B_real_2D)\n"
      ]
    },
    {
      "cell_type": "markdown",
      "id": "6e305649",
      "metadata": {
        "id": "6e305649"
      },
      "source": [
        "You can go the other way, by taking a 2D (or more) array and turning it into one long 1D array using **array.flatten( )**.  "
      ]
    },
    {
      "cell_type": "code",
      "execution_count": null,
      "id": "7e78b38f",
      "metadata": {
        "id": "7e78b38f",
        "outputId": "41b7900c-e5af-4436-c9a2-0227d52248e0"
      },
      "outputs": [
        {
          "name": "stdout",
          "output_type": "stream",
          "text": [
            "[0.  0.2 0.4 0.6 0.8 1.  1.2 1.4 1.6 1.8 2.  2.2 2.4 2.6 2.8 3.  3.2 3.4\n",
            " 3.6 3.8 4.  4.2 4.4 4.6 4.8 5.  5.2 5.4 5.6 5.8 6.  6.2 6.4 6.6 6.8 7.\n",
            " 7.2 7.4 7.6 7.8 8.  8.2 8.4 8.6 8.8 9.  9.2 9.4 9.6 9.8]\n"
          ]
        }
      ],
      "source": [
        "B_real_1D=B_real_2D.flatten()\n",
        "print (B_real_1D)"
      ]
    },
    {
      "cell_type": "markdown",
      "id": "a209b82c",
      "metadata": {
        "id": "a209b82c"
      },
      "source": [
        "Another super useful array method is **array.transpose( )** \\[equivalent to **array.T( )**\\] which swaps rows and columns:"
      ]
    },
    {
      "cell_type": "code",
      "execution_count": null,
      "id": "e1eeaf83",
      "metadata": {
        "id": "e1eeaf83",
        "outputId": "ec679836-f89a-4c66-8c6f-afe3a90ee121"
      },
      "outputs": [
        {
          "name": "stdout",
          "output_type": "stream",
          "text": [
            "B_real_2D: \n",
            " [[0.  0.2 0.4 0.6 0.8 1.  1.2 1.4 1.6 1.8]\n",
            " [2.  2.2 2.4 2.6 2.8 3.  3.2 3.4 3.6 3.8]\n",
            " [4.  4.2 4.4 4.6 4.8 5.  5.2 5.4 5.6 5.8]\n",
            " [6.  6.2 6.4 6.6 6.8 7.  7.2 7.4 7.6 7.8]\n",
            " [8.  8.2 8.4 8.6 8.8 9.  9.2 9.4 9.6 9.8]]\n",
            "\n",
            " B_real_2D transposed: \n",
            " [[0.  2.  4.  6.  8. ]\n",
            " [0.2 2.2 4.2 6.2 8.2]\n",
            " [0.4 2.4 4.4 6.4 8.4]\n",
            " [0.6 2.6 4.6 6.6 8.6]\n",
            " [0.8 2.8 4.8 6.8 8.8]\n",
            " [1.  3.  5.  7.  9. ]\n",
            " [1.2 3.2 5.2 7.2 9.2]\n",
            " [1.4 3.4 5.4 7.4 9.4]\n",
            " [1.6 3.6 5.6 7.6 9.6]\n",
            " [1.8 3.8 5.8 7.8 9.8]]\n"
          ]
        }
      ],
      "source": [
        "print ('B_real_2D: \\n',B_real_2D)\n",
        "print ('\\n B_real_2D transposed: \\n',B_real_2D.transpose())\n"
      ]
    },
    {
      "cell_type": "markdown",
      "id": "897e56f1",
      "metadata": {
        "id": "897e56f1"
      },
      "source": [
        "### Slicing and indexing ndarrays \n",
        "\n",
        "The syntax for slicing an array is similar to that for a list:  "
      ]
    },
    {
      "cell_type": "code",
      "execution_count": null,
      "id": "2e02471d",
      "metadata": {
        "id": "2e02471d",
        "outputId": "711ff492-7778-41eb-f9e9-5fa94261e2da"
      },
      "outputs": [
        {
          "name": "stdout",
          "output_type": "stream",
          "text": [
            "[[1 2 3]\n",
            " [4 2 0]]\n"
          ]
        }
      ],
      "source": [
        "B=A[0:2] # access the top two lines  of matrix A \n",
        "print (B)"
      ]
    },
    {
      "cell_type": "markdown",
      "id": "2d17d750",
      "metadata": {
        "id": "2d17d750"
      },
      "source": [
        "### Masking Arrays\n",
        "\n",
        "We can also 'mask' arrays. This is a handy thing a bit like doing an **if** statement for an array. For example, we could make an array of numbers,  say, times, between 0 and 10 minutes and then search just for the times greater than 5 minutes."
      ]
    },
    {
      "cell_type": "code",
      "execution_count": null,
      "id": "10b48fd7",
      "metadata": {
        "ExecuteTime": {
          "end_time": "2020-03-11T01:42:51.363862Z",
          "start_time": "2020-03-11T01:42:51.345503Z"
        },
        "id": "10b48fd7",
        "outputId": "d824d180-ec1b-4cc2-f4ae-9c350d9c5ad1"
      },
      "outputs": [
        {
          "name": "stdout",
          "output_type": "stream",
          "text": [
            "[ 6.  7.  8.  9. 10.]\n"
          ]
        }
      ],
      "source": [
        "time=np.linspace(0,10,11)\n",
        "lateTime=time[time>5]\n",
        "print(lateTime)"
      ]
    },
    {
      "cell_type": "markdown",
      "id": "03b2edc0",
      "metadata": {
        "id": "03b2edc0"
      },
      "source": [
        "If two arrays are the same shape, we can use one array to mask another array. For example, we could make an array of distances traveled at a constant speed of 20 miles per hour, and mask to show only the distances for the last 5 minutes."
      ]
    },
    {
      "cell_type": "code",
      "execution_count": null,
      "id": "93229142",
      "metadata": {
        "ExecuteTime": {
          "end_time": "2020-03-11T01:45:53.159150Z",
          "start_time": "2020-03-11T01:45:53.152847Z"
        },
        "id": "93229142",
        "outputId": "98ad5922-f89b-4d8f-bcd2-cdf8333dab30"
      },
      "outputs": [
        {
          "name": "stdout",
          "output_type": "stream",
          "text": [
            "[2.         2.33333333 2.66666667 3.         3.33333333]\n"
          ]
        }
      ],
      "source": [
        "distance=time/3\n",
        "lateDistance=distance[time>5]\n",
        "print(lateDistance)"
      ]
    },
    {
      "cell_type": "markdown",
      "id": "65402f1d",
      "metadata": {
        "id": "65402f1d"
      },
      "source": [
        "How does this work? We can peek into this by looking at the result when we print (time>5). It turns out that this creates an array of True and False which tells the program what elements of the array to choose."
      ]
    },
    {
      "cell_type": "code",
      "execution_count": null,
      "id": "182443ae",
      "metadata": {
        "ExecuteTime": {
          "end_time": "2020-03-11T01:48:53.391190Z",
          "start_time": "2020-03-11T01:48:53.384706Z"
        },
        "id": "182443ae",
        "outputId": "d62a0203-1ad7-4d59-828b-731e51832ba6"
      },
      "outputs": [
        {
          "name": "stdout",
          "output_type": "stream",
          "text": [
            "[False False False False False False  True  True  True  True  True]\n"
          ]
        }
      ],
      "source": [
        "boolTime=time>5\n",
        "print(boolTime)"
      ]
    },
    {
      "cell_type": "markdown",
      "id": "32fa688f",
      "metadata": {
        "id": "32fa688f"
      },
      "source": [
        "\n",
        "\n",
        "For many more methods and attributes of ndarrays, visit the NumPy Reference website:  http://docs.scipy.org/doc/numpy/reference/.   \n"
      ]
    },
    {
      "cell_type": "markdown",
      "id": "43315ada",
      "metadata": {
        "id": "43315ada"
      },
      "source": [
        "### Converting between Data Structures\n",
        "\n",
        "We can convert from an array to a list:"
      ]
    },
    {
      "cell_type": "code",
      "execution_count": null,
      "id": "b5b5efe9",
      "metadata": {
        "id": "b5b5efe9",
        "outputId": "01b8e6ec-fdd5-48ef-b73c-b2abb56aef51"
      },
      "outputs": [
        {
          "name": "stdout",
          "output_type": "stream",
          "text": [
            "Original array: \t <class 'numpy.ndarray'>\n",
            "List form: \t\t <class 'list'>\n",
            "[[1 2 3]\n",
            " [4 2 0]\n",
            " [1 1 2]]\n",
            "[[1, 2, 3], [4, 2, 0], [1, 1, 2]]\n"
          ]
        }
      ],
      "source": [
        "L=A.tolist()\n",
        "print (\"Original array: \\t\", type(A)) # the '\\t' inserts a tab\n",
        "print (\"List form: \\t\\t\", type(L))\n",
        "print (A)\n",
        "print (L)\n",
        "\n",
        "# notice the commas, the array turned into  a list of three lists"
      ]
    },
    {
      "cell_type": "markdown",
      "id": "0556cf0e",
      "metadata": {
        "id": "0556cf0e"
      },
      "source": [
        "From a list to an array:"
      ]
    },
    {
      "cell_type": "code",
      "execution_count": null,
      "id": "1075f77e",
      "metadata": {
        "id": "1075f77e",
        "outputId": "c6982261-ef04-4f54-9018-7d2a9bf62168"
      },
      "outputs": [
        {
          "name": "stdout",
          "output_type": "stream",
          "text": [
            "AfromL: \n",
            "[[1 2 3]\n",
            " [4 2 0]\n",
            " [1 1 2]]\n"
          ]
        }
      ],
      "source": [
        "AfromL=np.array(L)# from a list\n",
        "print ('AfromL: ')\n",
        "print (AfromL)\n",
        "\n"
      ]
    },
    {
      "cell_type": "markdown",
      "id": "cb161afc",
      "metadata": {
        "id": "cb161afc"
      },
      "source": [
        "Or from a tuple to an array:\n"
      ]
    },
    {
      "cell_type": "code",
      "execution_count": null,
      "id": "09a70711",
      "metadata": {
        "id": "09a70711",
        "outputId": "ea0d5905-0eb2-4333-a28b-b6317a3ef578"
      },
      "outputs": [
        {
          "name": "stdout",
          "output_type": "stream",
          "text": [
            "AfromT: \n",
            "[4 2]\n"
          ]
        }
      ],
      "source": [
        "AfromT=np.array((4,2)) # from a tuple \n",
        "print ('AfromT: ')\n",
        "print (AfromT)"
      ]
    },
    {
      "cell_type": "markdown",
      "id": "ffe52b39",
      "metadata": {
        "id": "ffe52b39"
      },
      "source": [
        "### Saving NumPy arrays as text files\n",
        "\n",
        "Having created, sliced and diced an array, it is often handy to save the data to a file for later use.  We can do that with the command **np.savetxt( )**.  \n",
        "\n",
        "Let's save our **A** array to a file called _A.txt_."
      ]
    },
    {
      "cell_type": "code",
      "execution_count": null,
      "id": "f18d72ac",
      "metadata": {
        "id": "f18d72ac"
      },
      "outputs": [],
      "source": [
        "np.savetxt(fpath+'A.txt',A)"
      ]
    },
    {
      "cell_type": "code",
      "execution_count": null,
      "id": "e39fe265",
      "metadata": {
        "id": "e39fe265"
      },
      "outputs": [],
      "source": [
        "#and clean up\n",
        "os.remove(fpath+'A.txt')"
      ]
    },
    {
      "cell_type": "markdown",
      "id": "691b6525",
      "metadata": {
        "id": "691b6525"
      },
      "source": [
        "# Lecture 8: Pandas"
      ]
    },
    {
      "cell_type": "markdown",
      "id": "d3d8490a",
      "metadata": {
        "id": "d3d8490a"
      },
      "source": [
        "\n",
        "### The Joy of Pandas\n",
        "\n",
        "**Pandas** is a relatively new package for Python.  It allows us to read in more complicated data file formats than **NumPy**, and  wrangle the data in powerful ways. It also provides many useful data analysis tools.\n",
        "\n",
        "There are two basic data structures in **Pandas**, the **DataFrame**, which is essentially a spreadsheet with multiple columns while the **Series**  is a single column of data. A **Series** is like a **list** or **array** on steroids. \n",
        "\n",
        "The dipole_coeffs file includes column headers (strings) as the first row.  This kind of file does not play nicely with **np.loadtxt( )**,  but we can use the **Pandas** function, **read_excel( )** to read in the datafile.  This function not only reads in 'comma separated variable' files (.csv), but also other data formats once we tell it how the file is delimited.  \n",
        "\n",
        "Of course we must first import **Pandas** into the notebook:"
      ]
    },
    {
      "cell_type": "code",
      "execution_count": null,
      "id": "3b629711",
      "metadata": {
        "id": "3b629711"
      },
      "outputs": [],
      "source": [
        "import pandas as pd"
      ]
    },
    {
      "cell_type": "code",
      "execution_count": null,
      "id": "dab7f77f",
      "metadata": {
        "id": "dab7f77f",
        "outputId": "8c42a87a-b382-4ab1-9c46-fa8d4be3cfaa"
      },
      "outputs": [
        {
          "data": {
            "text/html": [
              "<div>\n",
              "<style scoped>\n",
              "    .dataframe tbody tr th:only-of-type {\n",
              "        vertical-align: middle;\n",
              "    }\n",
              "\n",
              "    .dataframe tbody tr th {\n",
              "        vertical-align: top;\n",
              "    }\n",
              "\n",
              "    .dataframe thead th {\n",
              "        text-align: right;\n",
              "    }\n",
              "</style>\n",
              "<table border=\"1\" class=\"dataframe\">\n",
              "  <thead>\n",
              "    <tr style=\"text-align: right;\">\n",
              "      <th></th>\n",
              "      <th>g10</th>\n",
              "      <th>g11</th>\n",
              "      <th>h11</th>\n",
              "    </tr>\n",
              "    <tr>\n",
              "      <th>step</th>\n",
              "      <th></th>\n",
              "      <th></th>\n",
              "      <th></th>\n",
              "    </tr>\n",
              "  </thead>\n",
              "  <tbody>\n",
              "    <tr>\n",
              "      <th>0</th>\n",
              "      <td>60.000000</td>\n",
              "      <td>5.151744</td>\n",
              "      <td>1.894036</td>\n",
              "    </tr>\n",
              "    <tr>\n",
              "      <th>1</th>\n",
              "      <td>60.520044</td>\n",
              "      <td>4.741847</td>\n",
              "      <td>-1.231164</td>\n",
              "    </tr>\n",
              "    <tr>\n",
              "      <th>2</th>\n",
              "      <td>61.614082</td>\n",
              "      <td>4.553465</td>\n",
              "      <td>-3.942043</td>\n",
              "    </tr>\n",
              "    <tr>\n",
              "      <th>3</th>\n",
              "      <td>63.073122</td>\n",
              "      <td>4.612254</td>\n",
              "      <td>-6.172538</td>\n",
              "    </tr>\n",
              "    <tr>\n",
              "      <th>4</th>\n",
              "      <td>64.689148</td>\n",
              "      <td>4.943872</td>\n",
              "      <td>-7.856656</td>\n",
              "    </tr>\n",
              "  </tbody>\n",
              "</table>\n",
              "</div>"
            ],
            "text/plain": [
              "            g10       g11       h11\n",
              "step                               \n",
              "0     60.000000  5.151744  1.894036\n",
              "1     60.520044  4.741847 -1.231164\n",
              "2     61.614082  4.553465 -3.942043\n",
              "3     63.073122  4.612254 -6.172538\n",
              "4     64.689148  4.943872 -7.856656"
            ]
          },
          "execution_count": 97,
          "metadata": {},
          "output_type": "execute_result"
        }
      ],
      "source": [
        "dfDipole = pd.read_excel(fpath+'Datasets/dipole_coeffs.xlsx',index_col=0,header=0)\n",
        "dfDipole.head()"
      ]
    },
    {
      "cell_type": "markdown",
      "id": "ffa542db",
      "metadata": {
        "id": "ffa542db"
      },
      "source": [
        "**dfDipole** is now a Pandas **DataFrame**.  \n",
        "\n",
        "So what is a **DataFrame**?   It is a new data container that is more sophisticated than any we have learned about so far (**lists, tuples, sets, dictionaries, arrays**).   \n",
        "It has named columns (like an Excel spreadsheet) and identifies the rows by _indices_ starting with 0. \n",
        "\n",
        "The file we read in included column headers and **Pandas** knows which line they were in (after the header or skiprows arguments).  \n",
        "\n",
        "If we want to be sure, we can use the **DataFrame.columns** attribute on the dfDipole DataFrame:\n"
      ]
    },
    {
      "cell_type": "code",
      "execution_count": null,
      "id": "9c9ed31e",
      "metadata": {
        "id": "9c9ed31e",
        "outputId": "5407d82b-4bd8-4fc6-fedd-be4ecf5834ad"
      },
      "outputs": [
        {
          "data": {
            "text/plain": [
              "Index(['g10', 'g11', 'h11'], dtype='object')"
            ]
          },
          "execution_count": 98,
          "metadata": {},
          "output_type": "execute_result"
        }
      ],
      "source": [
        "dfDipole.columns"
      ]
    },
    {
      "cell_type": "markdown",
      "id": "e5c8955a",
      "metadata": {
        "id": "e5c8955a"
      },
      "source": [
        "Notice that a **DataFrame** is of type _object_, similar to one of the **NumPy** array types that mixed data types we briefly encountered before. Let's explore these objects with Pandas DataFrames.  \n",
        "\n",
        "We see that the  columns of **dfDipole**  are: \n",
        "- \"g10\": the axial dipole component\n",
        "- \"g11\": the equatorial dipole along prime meridian\n",
        "- \"h11\": the  equatorial dipole perpendicular to prime meridian\n",
        "\n",
        "Each one of these columns is a **Pandas Series.**  So to review:, **DataFrames** are like Excel spreadsheets and **Series** are one column of the spreadsheet.  "
      ]
    },
    {
      "cell_type": "markdown",
      "id": "b1a76de0",
      "metadata": {
        "id": "b1a76de0"
      },
      "source": [
        "DataFrames can be seen as fancy dictionaries. One feature is that columns and indices are accessed mostly by using their name."
      ]
    },
    {
      "cell_type": "code",
      "execution_count": null,
      "id": "d1074ece",
      "metadata": {
        "id": "d1074ece",
        "outputId": "b03ef94e-6673-4dee-ad7c-b14cd68cecb0"
      },
      "outputs": [
        {
          "data": {
            "text/plain": [
              "step\n",
              "0        60.000000\n",
              "1        60.520044\n",
              "2        61.614082\n",
              "3        63.073122\n",
              "4        64.689148\n",
              "           ...    \n",
              "16448    99.764441\n",
              "16449    99.620092\n",
              "16450    99.488380\n",
              "16451    99.456789\n",
              "16452    99.613774\n",
              "Name: g10, Length: 16453, dtype: float64"
            ]
          },
          "execution_count": 100,
          "metadata": {},
          "output_type": "execute_result"
        }
      ],
      "source": [
        "dfDipole['g10']"
      ]
    },
    {
      "cell_type": "markdown",
      "id": "55cc34cb",
      "metadata": {
        "id": "55cc34cb"
      },
      "source": [
        "To save a DataFrame to a file, we use the **to_excel** method: "
      ]
    },
    {
      "cell_type": "code",
      "execution_count": null,
      "id": "d644ceb0",
      "metadata": {
        "id": "d644ceb0"
      },
      "outputs": [],
      "source": [
        "dfDipole.to_excel(fpath+'dfDipole.xlsx', index=False)"
      ]
    },
    {
      "cell_type": "markdown",
      "id": "0aca5175",
      "metadata": {
        "id": "0aca5175"
      },
      "source": [
        "Without the argument **index=False**, there is an annoying extra column with all the DataFrame's index numbers, with **index** set to False, these do not appear.  You can check it out with excel or something.  \n",
        "\n",
        "Also, there are many other file formats besides 'excel spreadsheet' (.xlsx) which can be saved using the **to_csv** method with varying **sep** arguments.  **sep** stands for \"separator\".   For example, sep='\\t' makes it a tab delimited (separated) file: "
      ]
    },
    {
      "cell_type": "markdown",
      "id": "4f59a24f",
      "metadata": {
        "id": "4f59a24f"
      },
      "source": [
        "## Playing with Pandas"
      ]
    },
    {
      "cell_type": "markdown",
      "id": "1ab0af49",
      "metadata": {
        "id": "1ab0af49"
      },
      "source": [
        "We can also edit and transform dataframes. First thing we should do is add a column with dipole moment."
      ]
    },
    {
      "cell_type": "code",
      "execution_count": null,
      "id": "14eba885",
      "metadata": {
        "id": "14eba885",
        "outputId": "27be8176-c9ea-4356-ff81-fa10025165b5"
      },
      "outputs": [
        {
          "data": {
            "text/html": [
              "<div>\n",
              "<style scoped>\n",
              "    .dataframe tbody tr th:only-of-type {\n",
              "        vertical-align: middle;\n",
              "    }\n",
              "\n",
              "    .dataframe tbody tr th {\n",
              "        vertical-align: top;\n",
              "    }\n",
              "\n",
              "    .dataframe thead th {\n",
              "        text-align: right;\n",
              "    }\n",
              "</style>\n",
              "<table border=\"1\" class=\"dataframe\">\n",
              "  <thead>\n",
              "    <tr style=\"text-align: right;\">\n",
              "      <th></th>\n",
              "      <th>g10</th>\n",
              "      <th>g11</th>\n",
              "      <th>h11</th>\n",
              "      <th>moment</th>\n",
              "    </tr>\n",
              "    <tr>\n",
              "      <th>step</th>\n",
              "      <th></th>\n",
              "      <th></th>\n",
              "      <th></th>\n",
              "      <th></th>\n",
              "    </tr>\n",
              "  </thead>\n",
              "  <tbody>\n",
              "    <tr>\n",
              "      <th>0</th>\n",
              "      <td>60.000000</td>\n",
              "      <td>5.151744</td>\n",
              "      <td>1.894036</td>\n",
              "      <td>60.250542</td>\n",
              "    </tr>\n",
              "    <tr>\n",
              "      <th>1</th>\n",
              "      <td>60.520044</td>\n",
              "      <td>4.741847</td>\n",
              "      <td>-1.231164</td>\n",
              "      <td>60.718009</td>\n",
              "    </tr>\n",
              "    <tr>\n",
              "      <th>2</th>\n",
              "      <td>61.614082</td>\n",
              "      <td>4.553465</td>\n",
              "      <td>-3.942043</td>\n",
              "      <td>61.907744</td>\n",
              "    </tr>\n",
              "    <tr>\n",
              "      <th>3</th>\n",
              "      <td>63.073122</td>\n",
              "      <td>4.612254</td>\n",
              "      <td>-6.172538</td>\n",
              "      <td>63.542048</td>\n",
              "    </tr>\n",
              "    <tr>\n",
              "      <th>4</th>\n",
              "      <td>64.689148</td>\n",
              "      <td>4.943872</td>\n",
              "      <td>-7.856656</td>\n",
              "      <td>65.351777</td>\n",
              "    </tr>\n",
              "  </tbody>\n",
              "</table>\n",
              "</div>"
            ],
            "text/plain": [
              "            g10       g11       h11     moment\n",
              "step                                          \n",
              "0     60.000000  5.151744  1.894036  60.250542\n",
              "1     60.520044  4.741847 -1.231164  60.718009\n",
              "2     61.614082  4.553465 -3.942043  61.907744\n",
              "3     63.073122  4.612254 -6.172538  63.542048\n",
              "4     64.689148  4.943872 -7.856656  65.351777"
            ]
          },
          "execution_count": 102,
          "metadata": {},
          "output_type": "execute_result"
        }
      ],
      "source": [
        "# adding dipole moment column, recall formula from lecture\n",
        "dfDipole['moment'] = np.sqrt(dfDipole['g10']**2 + dfDipole['g11']**2 + dfDipole['h11']**2)\n",
        "dfDipole.head()"
      ]
    },
    {
      "cell_type": "markdown",
      "id": "7d121c20",
      "metadata": {
        "id": "7d121c20"
      },
      "source": [
        "We can slice and filter DataFrames similar to how we access numpy arrays. There are some nuances.<br><br>Based on my experience, using the ***.loc*** method has been the most reliable, if verbose, way of filtering data."
      ]
    },
    {
      "cell_type": "markdown",
      "id": "ef3c6e06",
      "metadata": {
        "id": "ef3c6e06"
      },
      "source": [
        "Let's only return rows where the dipole moment is greater than 61 but less than or equal to 64 $\\mu$T."
      ]
    },
    {
      "cell_type": "code",
      "execution_count": null,
      "id": "e8e31bda",
      "metadata": {
        "id": "e8e31bda",
        "outputId": "ee9617ef-3a74-4776-f0bc-1c8cbc55f610"
      },
      "outputs": [
        {
          "data": {
            "text/html": [
              "<div>\n",
              "<style scoped>\n",
              "    .dataframe tbody tr th:only-of-type {\n",
              "        vertical-align: middle;\n",
              "    }\n",
              "\n",
              "    .dataframe tbody tr th {\n",
              "        vertical-align: top;\n",
              "    }\n",
              "\n",
              "    .dataframe thead th {\n",
              "        text-align: right;\n",
              "    }\n",
              "</style>\n",
              "<table border=\"1\" class=\"dataframe\">\n",
              "  <thead>\n",
              "    <tr style=\"text-align: right;\">\n",
              "      <th></th>\n",
              "      <th>g10</th>\n",
              "      <th>g11</th>\n",
              "      <th>h11</th>\n",
              "      <th>moment</th>\n",
              "    </tr>\n",
              "    <tr>\n",
              "      <th>step</th>\n",
              "      <th></th>\n",
              "      <th></th>\n",
              "      <th></th>\n",
              "      <th></th>\n",
              "    </tr>\n",
              "  </thead>\n",
              "  <tbody>\n",
              "    <tr>\n",
              "      <th>2</th>\n",
              "      <td>61.614082</td>\n",
              "      <td>4.553465</td>\n",
              "      <td>-3.942043</td>\n",
              "      <td>61.907744</td>\n",
              "    </tr>\n",
              "    <tr>\n",
              "      <th>3</th>\n",
              "      <td>63.073122</td>\n",
              "      <td>4.612254</td>\n",
              "      <td>-6.172538</td>\n",
              "      <td>63.542048</td>\n",
              "    </tr>\n",
              "    <tr>\n",
              "      <th>24</th>\n",
              "      <td>60.251274</td>\n",
              "      <td>13.907251</td>\n",
              "      <td>-14.440758</td>\n",
              "      <td>63.499316</td>\n",
              "    </tr>\n",
              "    <tr>\n",
              "      <th>25</th>\n",
              "      <td>59.827948</td>\n",
              "      <td>14.356968</td>\n",
              "      <td>-11.840099</td>\n",
              "      <td>62.655357</td>\n",
              "    </tr>\n",
              "    <tr>\n",
              "      <th>26</th>\n",
              "      <td>59.321512</td>\n",
              "      <td>14.722943</td>\n",
              "      <td>-9.769739</td>\n",
              "      <td>61.897130</td>\n",
              "    </tr>\n",
              "    <tr>\n",
              "      <th>...</th>\n",
              "      <td>...</td>\n",
              "      <td>...</td>\n",
              "      <td>...</td>\n",
              "      <td>...</td>\n",
              "    </tr>\n",
              "    <tr>\n",
              "      <th>12368</th>\n",
              "      <td>60.950175</td>\n",
              "      <td>3.496127</td>\n",
              "      <td>19.042616</td>\n",
              "      <td>63.951293</td>\n",
              "    </tr>\n",
              "    <tr>\n",
              "      <th>12379</th>\n",
              "      <td>60.995861</td>\n",
              "      <td>1.780117</td>\n",
              "      <td>15.009550</td>\n",
              "      <td>62.840675</td>\n",
              "    </tr>\n",
              "    <tr>\n",
              "      <th>12380</th>\n",
              "      <td>60.021385</td>\n",
              "      <td>1.158474</td>\n",
              "      <td>13.838090</td>\n",
              "      <td>61.606830</td>\n",
              "    </tr>\n",
              "    <tr>\n",
              "      <th>12393</th>\n",
              "      <td>60.703761</td>\n",
              "      <td>-2.442828</td>\n",
              "      <td>9.243619</td>\n",
              "      <td>61.452083</td>\n",
              "    </tr>\n",
              "    <tr>\n",
              "      <th>12394</th>\n",
              "      <td>62.582725</td>\n",
              "      <td>-2.148955</td>\n",
              "      <td>9.721282</td>\n",
              "      <td>63.369700</td>\n",
              "    </tr>\n",
              "  </tbody>\n",
              "</table>\n",
              "<p>241 rows × 4 columns</p>\n",
              "</div>"
            ],
            "text/plain": [
              "             g10        g11        h11     moment\n",
              "step                                             \n",
              "2      61.614082   4.553465  -3.942043  61.907744\n",
              "3      63.073122   4.612254  -6.172538  63.542048\n",
              "24     60.251274  13.907251 -14.440758  63.499316\n",
              "25     59.827948  14.356968 -11.840099  62.655357\n",
              "26     59.321512  14.722943  -9.769739  61.897130\n",
              "...          ...        ...        ...        ...\n",
              "12368  60.950175   3.496127  19.042616  63.951293\n",
              "12379  60.995861   1.780117  15.009550  62.840675\n",
              "12380  60.021385   1.158474  13.838090  61.606830\n",
              "12393  60.703761  -2.442828   9.243619  61.452083\n",
              "12394  62.582725  -2.148955   9.721282  63.369700\n",
              "\n",
              "[241 rows x 4 columns]"
            ]
          },
          "execution_count": 104,
          "metadata": {},
          "output_type": "execute_result"
        }
      ],
      "source": [
        "# note the square braces!!, parantheses around filtering instruction, and '&' showing the AND conditional\n",
        "dfDipole.loc[(dfDipole['moment']>61)&(dfDipole['moment']<=64)] "
      ]
    },
    {
      "cell_type": "markdown",
      "id": "a3f70ce1",
      "metadata": {
        "id": "a3f70ce1"
      },
      "source": [
        "and if we only want certain columns:"
      ]
    },
    {
      "cell_type": "code",
      "execution_count": null,
      "id": "653ca0b4",
      "metadata": {
        "id": "653ca0b4",
        "outputId": "fbc492ff-3034-46e8-e326-1a0aeb9071c4"
      },
      "outputs": [
        {
          "data": {
            "text/html": [
              "<div>\n",
              "<style scoped>\n",
              "    .dataframe tbody tr th:only-of-type {\n",
              "        vertical-align: middle;\n",
              "    }\n",
              "\n",
              "    .dataframe tbody tr th {\n",
              "        vertical-align: top;\n",
              "    }\n",
              "\n",
              "    .dataframe thead th {\n",
              "        text-align: right;\n",
              "    }\n",
              "</style>\n",
              "<table border=\"1\" class=\"dataframe\">\n",
              "  <thead>\n",
              "    <tr style=\"text-align: right;\">\n",
              "      <th></th>\n",
              "      <th>g10</th>\n",
              "      <th>moment</th>\n",
              "    </tr>\n",
              "    <tr>\n",
              "      <th>step</th>\n",
              "      <th></th>\n",
              "      <th></th>\n",
              "    </tr>\n",
              "  </thead>\n",
              "  <tbody>\n",
              "    <tr>\n",
              "      <th>2</th>\n",
              "      <td>61.614082</td>\n",
              "      <td>61.907744</td>\n",
              "    </tr>\n",
              "    <tr>\n",
              "      <th>3</th>\n",
              "      <td>63.073122</td>\n",
              "      <td>63.542048</td>\n",
              "    </tr>\n",
              "    <tr>\n",
              "      <th>24</th>\n",
              "      <td>60.251274</td>\n",
              "      <td>63.499316</td>\n",
              "    </tr>\n",
              "    <tr>\n",
              "      <th>25</th>\n",
              "      <td>59.827948</td>\n",
              "      <td>62.655357</td>\n",
              "    </tr>\n",
              "    <tr>\n",
              "      <th>26</th>\n",
              "      <td>59.321512</td>\n",
              "      <td>61.897130</td>\n",
              "    </tr>\n",
              "    <tr>\n",
              "      <th>...</th>\n",
              "      <td>...</td>\n",
              "      <td>...</td>\n",
              "    </tr>\n",
              "    <tr>\n",
              "      <th>12368</th>\n",
              "      <td>60.950175</td>\n",
              "      <td>63.951293</td>\n",
              "    </tr>\n",
              "    <tr>\n",
              "      <th>12379</th>\n",
              "      <td>60.995861</td>\n",
              "      <td>62.840675</td>\n",
              "    </tr>\n",
              "    <tr>\n",
              "      <th>12380</th>\n",
              "      <td>60.021385</td>\n",
              "      <td>61.606830</td>\n",
              "    </tr>\n",
              "    <tr>\n",
              "      <th>12393</th>\n",
              "      <td>60.703761</td>\n",
              "      <td>61.452083</td>\n",
              "    </tr>\n",
              "    <tr>\n",
              "      <th>12394</th>\n",
              "      <td>62.582725</td>\n",
              "      <td>63.369700</td>\n",
              "    </tr>\n",
              "  </tbody>\n",
              "</table>\n",
              "<p>241 rows × 2 columns</p>\n",
              "</div>"
            ],
            "text/plain": [
              "             g10     moment\n",
              "step                       \n",
              "2      61.614082  61.907744\n",
              "3      63.073122  63.542048\n",
              "24     60.251274  63.499316\n",
              "25     59.827948  62.655357\n",
              "26     59.321512  61.897130\n",
              "...          ...        ...\n",
              "12368  60.950175  63.951293\n",
              "12379  60.995861  62.840675\n",
              "12380  60.021385  61.606830\n",
              "12393  60.703761  61.452083\n",
              "12394  62.582725  63.369700\n",
              "\n",
              "[241 rows x 2 columns]"
            ]
          },
          "execution_count": 162,
          "metadata": {},
          "output_type": "execute_result"
        }
      ],
      "source": [
        "dfDipole.loc[(dfDipole['moment']>61)&(dfDipole['moment']<=64),['g10','moment']] "
      ]
    },
    {
      "cell_type": "markdown",
      "id": "e2247d21",
      "metadata": {
        "id": "e2247d21"
      },
      "source": [
        "Let's add two more columns, this time with pole latitude and longitude:"
      ]
    },
    {
      "cell_type": "markdown",
      "id": "0f4d11af",
      "metadata": {
        "id": "0f4d11af"
      },
      "source": [
        "First, we need a function to return pole lat. and long. given g10, g11 and h11."
      ]
    },
    {
      "cell_type": "code",
      "execution_count": null,
      "id": "4f5da63e",
      "metadata": {
        "id": "4f5da63e"
      },
      "outputs": [],
      "source": [
        "def gauss2pole(g10,g11,h11):\n",
        "    \"\"\"\n",
        "    Returns pole latitude and pole longitude given dipole gauss coeffs g10, g11 and h11.\n",
        "    \"\"\"\n",
        "    # remember equation from lecture returns colat from north pole\n",
        "    plat = 90 - np.degrees(np.arccos(g10/np.sqrt(g10**2+g11**2+h11**2)))\n",
        "    \n",
        "    plon = np.degrees(np.arctan2(g11,h11))\n",
        "    \n",
        "    return plat,plon\n",
        "    "
      ]
    },
    {
      "cell_type": "markdown",
      "id": "d978a628",
      "metadata": {
        "id": "d978a628"
      },
      "source": [
        "Okay, let's run this function. Note that since numpy and pandas play nice together, numpy treats Series as arrays."
      ]
    },
    {
      "cell_type": "code",
      "execution_count": null,
      "id": "764b8cb3",
      "metadata": {
        "id": "764b8cb3",
        "outputId": "c750a724-786b-43b2-cece-4de72505e788"
      },
      "outputs": [
        {
          "data": {
            "text/html": [
              "<div>\n",
              "<style scoped>\n",
              "    .dataframe tbody tr th:only-of-type {\n",
              "        vertical-align: middle;\n",
              "    }\n",
              "\n",
              "    .dataframe tbody tr th {\n",
              "        vertical-align: top;\n",
              "    }\n",
              "\n",
              "    .dataframe thead th {\n",
              "        text-align: right;\n",
              "    }\n",
              "</style>\n",
              "<table border=\"1\" class=\"dataframe\">\n",
              "  <thead>\n",
              "    <tr style=\"text-align: right;\">\n",
              "      <th></th>\n",
              "      <th>g10</th>\n",
              "      <th>g11</th>\n",
              "      <th>h11</th>\n",
              "      <th>moment</th>\n",
              "      <th>plat</th>\n",
              "      <th>plon</th>\n",
              "      <th>normal</th>\n",
              "    </tr>\n",
              "    <tr>\n",
              "      <th>step</th>\n",
              "      <th></th>\n",
              "      <th></th>\n",
              "      <th></th>\n",
              "      <th></th>\n",
              "      <th></th>\n",
              "      <th></th>\n",
              "      <th></th>\n",
              "    </tr>\n",
              "  </thead>\n",
              "  <tbody>\n",
              "    <tr>\n",
              "      <th>0</th>\n",
              "      <td>60.000000</td>\n",
              "      <td>5.151744</td>\n",
              "      <td>1.894036</td>\n",
              "      <td>60.250542</td>\n",
              "      <td>84.773051</td>\n",
              "      <td>69.814079</td>\n",
              "      <td>True</td>\n",
              "    </tr>\n",
              "    <tr>\n",
              "      <th>1</th>\n",
              "      <td>60.520044</td>\n",
              "      <td>4.741847</td>\n",
              "      <td>-1.231164</td>\n",
              "      <td>60.718009</td>\n",
              "      <td>85.372025</td>\n",
              "      <td>104.554787</td>\n",
              "      <td>True</td>\n",
              "    </tr>\n",
              "    <tr>\n",
              "      <th>2</th>\n",
              "      <td>61.614082</td>\n",
              "      <td>4.553465</td>\n",
              "      <td>-3.942043</td>\n",
              "      <td>61.907744</td>\n",
              "      <td>84.417081</td>\n",
              "      <td>130.883522</td>\n",
              "      <td>True</td>\n",
              "    </tr>\n",
              "    <tr>\n",
              "      <th>3</th>\n",
              "      <td>63.073122</td>\n",
              "      <td>4.612254</td>\n",
              "      <td>-6.172538</td>\n",
              "      <td>63.542048</td>\n",
              "      <td>83.034913</td>\n",
              "      <td>143.232118</td>\n",
              "      <td>True</td>\n",
              "    </tr>\n",
              "    <tr>\n",
              "      <th>4</th>\n",
              "      <td>64.689148</td>\n",
              "      <td>4.943872</td>\n",
              "      <td>-7.856656</td>\n",
              "      <td>65.351777</td>\n",
              "      <td>81.833953</td>\n",
              "      <td>147.819469</td>\n",
              "      <td>True</td>\n",
              "    </tr>\n",
              "  </tbody>\n",
              "</table>\n",
              "</div>"
            ],
            "text/plain": [
              "            g10       g11       h11     moment       plat        plon  normal\n",
              "step                                                                         \n",
              "0     60.000000  5.151744  1.894036  60.250542  84.773051   69.814079    True\n",
              "1     60.520044  4.741847 -1.231164  60.718009  85.372025  104.554787    True\n",
              "2     61.614082  4.553465 -3.942043  61.907744  84.417081  130.883522    True\n",
              "3     63.073122  4.612254 -6.172538  63.542048  83.034913  143.232118    True\n",
              "4     64.689148  4.943872 -7.856656  65.351777  81.833953  147.819469    True"
            ]
          },
          "execution_count": 144,
          "metadata": {},
          "output_type": "execute_result"
        }
      ],
      "source": [
        "dfDipole['plat'],dfDipole['plon'] = gauss2pole(dfDipole['g10'],dfDipole['g11'],dfDipole['h11'])\n",
        "dfDipole.head()"
      ]
    },
    {
      "cell_type": "markdown",
      "id": "bf8cdd94",
      "metadata": {
        "id": "bf8cdd94"
      },
      "source": [
        "Also, note how we split the two returns (a tuple) into two separate columns -- we essentially specified the LHS of the assignment as its own tuple."
      ]
    },
    {
      "cell_type": "markdown",
      "id": "3256d736",
      "metadata": {
        "id": "3256d736"
      },
      "source": [
        "Let's add another column, we can make it a boolean for whether the field is normal or reverse polarity. Technically, this can be done as a one-line command, but I want to show a powerful way to loop through DataFrames."
      ]
    },
    {
      "cell_type": "code",
      "execution_count": null,
      "id": "f34ac8d5",
      "metadata": {
        "id": "f34ac8d5"
      },
      "outputs": [],
      "source": [
        "\"\"\"\n",
        "this loops through two returns at each step, the dataframe row's index and row contents. \n",
        "Note the \"iterrows\" -- while you can loop through dataframes without iterrows, but it can lead to unexpected behavior\n",
        "\"\"\"\n",
        "polBool = [] # collector list for polarity assignments\n",
        "for idx,row in dfDipole.iterrows():\n",
        "    # each loop returns a new index (idx) and dataframe row (row)\n",
        "    # rows are Pandas Series and columns can be accessed like dictionaries\n",
        "    if row['plat']>=0:\n",
        "        # if row polarity is >0, normal polarity\n",
        "        polBool.append(True)\n",
        "    else:\n",
        "        polBool.append(False)\n",
        "dfDipole['normal'] = polBool    "
      ]
    },
    {
      "cell_type": "markdown",
      "id": "6713bfd6",
      "metadata": {
        "id": "6713bfd6"
      },
      "source": [
        "Note that you should never modify something you are iterating over. This is not guaranteed to work in all cases. Depending on the data types, the iterator returns a copy and not a view, and writing to it will have no effect."
      ]
    },
    {
      "cell_type": "code",
      "execution_count": null,
      "id": "fc00a0bd",
      "metadata": {
        "id": "fc00a0bd",
        "outputId": "afa1c7cc-9a5e-42d1-8d97-afd529c180f0"
      },
      "outputs": [
        {
          "data": {
            "text/html": [
              "<div>\n",
              "<style scoped>\n",
              "    .dataframe tbody tr th:only-of-type {\n",
              "        vertical-align: middle;\n",
              "    }\n",
              "\n",
              "    .dataframe tbody tr th {\n",
              "        vertical-align: top;\n",
              "    }\n",
              "\n",
              "    .dataframe thead th {\n",
              "        text-align: right;\n",
              "    }\n",
              "</style>\n",
              "<table border=\"1\" class=\"dataframe\">\n",
              "  <thead>\n",
              "    <tr style=\"text-align: right;\">\n",
              "      <th></th>\n",
              "      <th>g10</th>\n",
              "      <th>g11</th>\n",
              "      <th>h11</th>\n",
              "      <th>moment</th>\n",
              "      <th>plat</th>\n",
              "      <th>plon</th>\n",
              "      <th>normal</th>\n",
              "    </tr>\n",
              "    <tr>\n",
              "      <th>step</th>\n",
              "      <th></th>\n",
              "      <th></th>\n",
              "      <th></th>\n",
              "      <th></th>\n",
              "      <th></th>\n",
              "      <th></th>\n",
              "      <th></th>\n",
              "    </tr>\n",
              "  </thead>\n",
              "  <tbody>\n",
              "    <tr>\n",
              "      <th>0</th>\n",
              "      <td>60.000000</td>\n",
              "      <td>5.151744</td>\n",
              "      <td>1.894036</td>\n",
              "      <td>60.250542</td>\n",
              "      <td>84.773051</td>\n",
              "      <td>69.814079</td>\n",
              "      <td>True</td>\n",
              "    </tr>\n",
              "    <tr>\n",
              "      <th>1</th>\n",
              "      <td>60.520044</td>\n",
              "      <td>4.741847</td>\n",
              "      <td>-1.231164</td>\n",
              "      <td>60.718009</td>\n",
              "      <td>85.372025</td>\n",
              "      <td>104.554787</td>\n",
              "      <td>True</td>\n",
              "    </tr>\n",
              "    <tr>\n",
              "      <th>2</th>\n",
              "      <td>61.614082</td>\n",
              "      <td>4.553465</td>\n",
              "      <td>-3.942043</td>\n",
              "      <td>61.907744</td>\n",
              "      <td>84.417081</td>\n",
              "      <td>130.883522</td>\n",
              "      <td>True</td>\n",
              "    </tr>\n",
              "    <tr>\n",
              "      <th>3</th>\n",
              "      <td>63.073122</td>\n",
              "      <td>4.612254</td>\n",
              "      <td>-6.172538</td>\n",
              "      <td>63.542048</td>\n",
              "      <td>83.034913</td>\n",
              "      <td>143.232118</td>\n",
              "      <td>True</td>\n",
              "    </tr>\n",
              "    <tr>\n",
              "      <th>4</th>\n",
              "      <td>64.689148</td>\n",
              "      <td>4.943872</td>\n",
              "      <td>-7.856656</td>\n",
              "      <td>65.351777</td>\n",
              "      <td>81.833953</td>\n",
              "      <td>147.819469</td>\n",
              "      <td>True</td>\n",
              "    </tr>\n",
              "    <tr>\n",
              "      <th>...</th>\n",
              "      <td>...</td>\n",
              "      <td>...</td>\n",
              "      <td>...</td>\n",
              "      <td>...</td>\n",
              "      <td>...</td>\n",
              "      <td>...</td>\n",
              "      <td>...</td>\n",
              "    </tr>\n",
              "    <tr>\n",
              "      <th>16448</th>\n",
              "      <td>99.764441</td>\n",
              "      <td>0.342416</td>\n",
              "      <td>22.738625</td>\n",
              "      <td>102.323536</td>\n",
              "      <td>77.158896</td>\n",
              "      <td>0.862739</td>\n",
              "      <td>True</td>\n",
              "    </tr>\n",
              "    <tr>\n",
              "      <th>16449</th>\n",
              "      <td>99.620092</td>\n",
              "      <td>-1.367153</td>\n",
              "      <td>21.511515</td>\n",
              "      <td>101.925351</td>\n",
              "      <td>77.791050</td>\n",
              "      <td>-3.636512</td>\n",
              "      <td>True</td>\n",
              "    </tr>\n",
              "    <tr>\n",
              "      <th>16450</th>\n",
              "      <td>99.488380</td>\n",
              "      <td>-3.133170</td>\n",
              "      <td>20.095925</td>\n",
              "      <td>101.546052</td>\n",
              "      <td>78.446055</td>\n",
              "      <td>-8.861683</td>\n",
              "      <td>True</td>\n",
              "    </tr>\n",
              "    <tr>\n",
              "      <th>16451</th>\n",
              "      <td>99.456789</td>\n",
              "      <td>-4.823256</td>\n",
              "      <td>18.229500</td>\n",
              "      <td>101.228609</td>\n",
              "      <td>79.264276</td>\n",
              "      <td>-14.820019</td>\n",
              "      <td>True</td>\n",
              "    </tr>\n",
              "    <tr>\n",
              "      <th>16452</th>\n",
              "      <td>99.613774</td>\n",
              "      <td>-6.305028</td>\n",
              "      <td>15.649740</td>\n",
              "      <td>101.032528</td>\n",
              "      <td>80.386753</td>\n",
              "      <td>-21.943711</td>\n",
              "      <td>True</td>\n",
              "    </tr>\n",
              "  </tbody>\n",
              "</table>\n",
              "<p>16453 rows × 7 columns</p>\n",
              "</div>"
            ],
            "text/plain": [
              "             g10       g11        h11      moment       plat        plon  \\\n",
              "step                                                                       \n",
              "0      60.000000  5.151744   1.894036   60.250542  84.773051   69.814079   \n",
              "1      60.520044  4.741847  -1.231164   60.718009  85.372025  104.554787   \n",
              "2      61.614082  4.553465  -3.942043   61.907744  84.417081  130.883522   \n",
              "3      63.073122  4.612254  -6.172538   63.542048  83.034913  143.232118   \n",
              "4      64.689148  4.943872  -7.856656   65.351777  81.833953  147.819469   \n",
              "...          ...       ...        ...         ...        ...         ...   \n",
              "16448  99.764441  0.342416  22.738625  102.323536  77.158896    0.862739   \n",
              "16449  99.620092 -1.367153  21.511515  101.925351  77.791050   -3.636512   \n",
              "16450  99.488380 -3.133170  20.095925  101.546052  78.446055   -8.861683   \n",
              "16451  99.456789 -4.823256  18.229500  101.228609  79.264276  -14.820019   \n",
              "16452  99.613774 -6.305028  15.649740  101.032528  80.386753  -21.943711   \n",
              "\n",
              "       normal  \n",
              "step           \n",
              "0        True  \n",
              "1        True  \n",
              "2        True  \n",
              "3        True  \n",
              "4        True  \n",
              "...       ...  \n",
              "16448    True  \n",
              "16449    True  \n",
              "16450    True  \n",
              "16451    True  \n",
              "16452    True  \n",
              "\n",
              "[16453 rows x 7 columns]"
            ]
          },
          "execution_count": 146,
          "metadata": {},
          "output_type": "execute_result"
        }
      ],
      "source": [
        "dfDipole"
      ]
    },
    {
      "cell_type": "markdown",
      "id": "e2b1aa11",
      "metadata": {
        "id": "e2b1aa11"
      },
      "source": [
        "## Plotting"
      ]
    },
    {
      "cell_type": "markdown",
      "id": "e6955f31",
      "metadata": {
        "id": "e6955f31"
      },
      "source": [
        "Let's make some simple time series plots for now. We can try making polar wander maps when we discuss mapping modules such as cartopy"
      ]
    },
    {
      "cell_type": "markdown",
      "id": "3e27122b",
      "metadata": {
        "id": "3e27122b"
      },
      "source": [
        "First, a simple plot of axial dipole term 'g10'"
      ]
    },
    {
      "cell_type": "code",
      "execution_count": null,
      "id": "9138b2b1",
      "metadata": {
        "id": "9138b2b1",
        "outputId": "79c69802-5bdd-456e-ef19-56ccb997763c"
      },
      "outputs": [
        {
          "data": {
            "text/plain": [
              "[<matplotlib.lines.Line2D at 0x1204422e0>]"
            ]
          },
          "execution_count": 147,
          "metadata": {},
          "output_type": "execute_result"
        },
        {
          "data": {
            "image/png": "[encoded data removed]",
            "text/plain": [
              "<Figure size 432x288 with 1 Axes>"
            ]
          },
          "metadata": {
            "needs_background": "light"
          },
          "output_type": "display_data"
        }
      ],
      "source": [
        "plt.plot(dfDipole['g10'])"
      ]
    },
    {
      "cell_type": "markdown",
      "id": "0cb77956",
      "metadata": {
        "id": "0cb77956"
      },
      "source": [
        "We can use markers instead of lines:"
      ]
    },
    {
      "cell_type": "code",
      "execution_count": null,
      "id": "8c909285",
      "metadata": {
        "id": "8c909285",
        "outputId": "3dd41374-8fdb-4023-9f72-319b2dc6f5fb"
      },
      "outputs": [
        {
          "data": {
            "text/plain": [
              "[<matplotlib.lines.Line2D at 0x120bbd7f0>]"
            ]
          },
          "execution_count": 166,
          "metadata": {},
          "output_type": "execute_result"
        },
        {
          "data": {
            "image/png": "[encoded data removed]",
            "text/plain": [
              "<Figure size 432x288 with 1 Axes>"
            ]
          },
          "metadata": {
            "needs_background": "light"
          },
          "output_type": "display_data"
        }
      ],
      "source": [
        "plt.plot(dfDipole['g10'],'o')"
      ]
    },
    {
      "cell_type": "markdown",
      "id": "73322312",
      "metadata": {
        "id": "73322312"
      },
      "source": [
        "Okay, so far so good but it's not very useful. It needs axes labels, and maybe we can make it look nicer."
      ]
    },
    {
      "cell_type": "code",
      "execution_count": null,
      "id": "df53ec8c",
      "metadata": {
        "id": "df53ec8c",
        "outputId": "4bf8e669-8d15-4c5d-82bb-caac3d20d672"
      },
      "outputs": [
        {
          "data": {
            "text/plain": [
              "Text(0, 0.5, '$g_1^0$ ($\\\\mu$T)')"
            ]
          },
          "execution_count": 148,
          "metadata": {},
          "output_type": "execute_result"
        },
        {
          "data": {
            "image/png": "[encoded data removed]",
            "text/plain": [
              "<Figure size 432x288 with 1 Axes>"
            ]
          },
          "metadata": {
            "needs_background": "light"
          },
          "output_type": "display_data"
        }
      ],
      "source": [
        "# using the following set up gives you more control with how you create your figures\n",
        "\n",
        "# creates figure object, sets dimensions (for matlab people, this is what would be returned if you ran 'gcf')\n",
        "fig = plt.figure(figsize=(6,4)) \n",
        "# defines first set of axes for plotting (matlab people, this is 'gca')\n",
        "ax = fig.subplots(1,1) \n",
        "\n",
        "ax.plot(dfDipole['g10'],color='black',linewidth=0.75,linestyle='-')\n",
        "ax.set_xlabel('Time (unitless)')\n",
        "ax.set_ylabel('$g_1^0$ ($\\mu$T)') # some latex for fun\n"
      ]
    },
    {
      "cell_type": "markdown",
      "id": "3b6ee893",
      "metadata": {
        "id": "3b6ee893"
      },
      "source": [
        "Let's see how adding extra lines looks:"
      ]
    },
    {
      "cell_type": "code",
      "execution_count": null,
      "id": "c3cfe564",
      "metadata": {
        "id": "c3cfe564",
        "outputId": "f9f7600b-530d-4e0f-b63d-c6b5d6c717f5"
      },
      "outputs": [
        {
          "data": {
            "image/png": "[encoded data removed]",
            "text/plain": [
              "<Figure size 432x288 with 1 Axes>"
            ]
          },
          "metadata": {
            "needs_background": "light"
          },
          "output_type": "display_data"
        }
      ],
      "source": [
        "# using the following set up gives you more control with how you create your figures\n",
        "\n",
        "# creates figure object, sets dimensions (for matlab people, this is what would be returned if you ran 'gcf')\n",
        "fig = plt.figure(figsize=(6,4)) \n",
        "# defines first set of axes for plotting (matlab people, this is 'gca')\n",
        "ax = fig.subplots(1,1) \n",
        "\n",
        "ax.plot(dfDipole['g10'],color='black',linewidth=0.75,linestyle='-',label='g10')\n",
        "\n",
        "ax.plot(dfDipole['g11'],label='g11')\n",
        "ax.plot(dfDipole['h11'],label='h11')\n",
        "\n",
        "\n",
        "ax.legend()\n",
        "ax.set_xlabel('Time (unitless)')\n",
        "ax.set_ylabel('$g_1^0$ ($\\mu$T)'); # some latex for fun\n"
      ]
    },
    {
      "cell_type": "markdown",
      "id": "0752f9c6",
      "metadata": {
        "id": "0752f9c6"
      },
      "source": [
        "We can also make multiple panels in the same figure. Those panels can be independent or shares parts of their axes. Here, we will use the same x-axis since it represents time."
      ]
    },
    {
      "cell_type": "code",
      "execution_count": null,
      "id": "989ca58b",
      "metadata": {
        "id": "989ca58b",
        "outputId": "9c708689-fad4-4264-c1a0-f0b59b1389ad"
      },
      "outputs": [
        {
          "data": {
            "image/png": "[encoded data removed]",
            "text/plain": [
              "<Figure size 432x864 with 3 Axes>"
            ]
          },
          "metadata": {
            "needs_background": "light"
          },
          "output_type": "display_data"
        }
      ],
      "source": [
        "fig = plt.figure(figsize=(6,12)) # note the new size\n",
        "ax = fig.subplots(3,1,sharex=True) # and new numbers: #rows, #columns of subfigures\n",
        "\n",
        "# now that there are multiple subplots, ax is a list and needs to be indexed to access each axes\n",
        "ax[0].plot(dfDipole['plat'],color='black',linewidth=0.75,linestyle='-')\n",
        "ax[0].set_title('Pole latitude')\n",
        "\n",
        "ax[1].plot(dfDipole['plon'],color='black',linewidth=0.75,linestyle='-')\n",
        "ax[1].set_title('Pole longitude')\n",
        "\n",
        "ax[2].plot(dfDipole['moment'],color='black',linewidth=0.75,linestyle='-')\n",
        "ax[2].set_title('Dipole Moment')\n",
        "\n",
        "ax[-1].set_xlabel('Time (unitless)') # regular list indexing rules apply still\n",
        "\n",
        "fig.tight_layout(); # this moves subplots around so things look neat "
      ]
    },
    {
      "cell_type": "markdown",
      "id": "2f0c0183",
      "metadata": {
        "id": "2f0c0183"
      },
      "source": [
        "Something looks interesting during the magnetic reversals -- let's directly compare pole latitude and moment. But if we plot both lines on top of each other, the different scales will make it hard to see what's going on. Let's generate twin axes to plot on different scales."
      ]
    },
    {
      "cell_type": "code",
      "execution_count": null,
      "id": "f5309f03",
      "metadata": {
        "id": "f5309f03",
        "outputId": "446efd21-20e0-4351-8ee9-6af798715eeb"
      },
      "outputs": [
        {
          "data": {
            "image/png": "[encoded data removed]",
            "text/plain": [
              "<Figure size 432x288 with 2 Axes>"
            ]
          },
          "metadata": {
            "needs_background": "light"
          },
          "output_type": "display_data"
        }
      ],
      "source": [
        "# using the following set up gives you more control with how you create your figures\n",
        "\n",
        "# creates figure object, sets dimensions (for matlab people, this is what would be returned if you ran 'gcf')\n",
        "fig = plt.figure(figsize=(6,4)) \n",
        "# defines first set of axes for plotting (matlab people, this is 'gca')\n",
        "ax = fig.subplots(1,1) \n",
        "\n",
        "ax.plot(dfDipole['plat'],color='black',linewidth=0.75,linestyle='-',label='pole lat.')\n",
        "ax.set_xlabel('Time (unitless)')\n",
        "ax.set_ylabel('degree')\n",
        "\n",
        "ax2 = ax.twinx()\n",
        "ax2.plot(dfDipole['moment'],color='red',linewidth=0.75,linestyle='-',label='dipole moment')\n",
        "ax2.set_ylabel('moment');"
      ]
    },
    {
      "cell_type": "markdown",
      "id": "9605a511",
      "metadata": {
        "id": "9605a511"
      },
      "source": [
        "It looks like the weakest field strengths happen during reversals and excursions!"
      ]
    },
    {
      "cell_type": "code",
      "execution_count": null,
      "id": "bc6e5c64",
      "metadata": {
        "id": "bc6e5c64"
      },
      "outputs": [],
      "source": []
    }
  ],
  "metadata": {
    "kernelspec": {
      "display_name": "Python 3 (ipykernel)",
      "language": "python",
      "name": "python3"
    },
    "language_info": {
      "codemirror_mode": {
        "name": "ipython",
        "version": 3
      },
      "file_extension": ".py",
      "mimetype": "text/x-python",
      "name": "python",
      "nbconvert_exporter": "python",
      "pygments_lexer": "ipython3",
      "version": "3.9.12"
    },
    "colab": {
      "provenance": [],
      "include_colab_link": true
    }
  },
  "nbformat": 4,
  "nbformat_minor": 5
}