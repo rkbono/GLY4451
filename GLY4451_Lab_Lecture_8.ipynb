{
 "cells": [
  {
   "cell_type": "markdown",
   "id": "cb60fe2b",
   "metadata": {
    "colab_type": "text",
    "id": "view-in-github"
   },
   "source": [
    "<a href=\"https://colab.research.google.com/github/rkbono/GLY4451/blob/main/GLY4451_Lab_Lecture_8.ipynb\" target=\"_parent\"><img src=\"https://colab.research.google.com/assets/colab-badge.svg\" alt=\"Open In Colab\"/></a>"
   ]
  },
  {
   "cell_type": "code",
   "execution_count": null,
   "id": "fd568dea",
   "metadata": {
    "id": "fd568dea"
   },
   "outputs": [],
   "source": [
    "# Let's get some basic modules imported\n",
    "import numpy as np\n",
    "import matplotlib.pyplot as plt\n",
    "from IPython.display import Image \n",
    "import os"
   ]
  },
  {
   "cell_type": "code",
   "execution_count": 1,
   "id": "ff667b2b",
   "metadata": {
    "id": "ff667b2b",
    "outputId": "2558bce9-33f5-40ae-e4c0-753ad3dfc3eb"
   },
   "outputs": [
    {
     "name": "stdout",
     "output_type": "stream",
     "text": [
      "Not running on CoLab\n"
     ]
    }
   ],
   "source": [
    "if 'google.colab' in str(get_ipython()):\n",
    "    print('Running on CoLab')\n",
    "    !git clone https://github.com/rkbono/GLY4451.git\n",
    "    !pip install cartopy\n",
    "    fpath = './GLY4451/'\n",
    "else:\n",
    "    print('Not running on CoLab')\n",
    "    fpath = './'"
   ]
  },
  {
   "cell_type": "markdown",
   "id": "8448b95f",
   "metadata": {
    "id": "8448b95f"
   },
   "source": [
    "# Lecture 8ish\n",
    "\n",
    "- better loops\n",
    "- list comprehension\n",
    "- lambda functions\n",
    "- map plots"
   ]
  },
  {
   "cell_type": "markdown",
   "id": "c38e28ca",
   "metadata": {
    "id": "c38e28ca"
   },
   "source": [
    "## Better loops\n",
    "\n",
    "Python loops have more options built in than other languages. Two I'd like to highlight are **enumerate** and **zip**.<br>\n",
    "\n",
    "### Enumerate\n",
    "Using the **enumerate()** function on your iterable will return two values, the element index and then the element value.<br>You can use this to keep track of indices while directly interacting with list values at the same time."
   ]
  },
  {
   "cell_type": "code",
   "execution_count": null,
   "id": "769bb839",
   "metadata": {
    "id": "769bb839",
    "outputId": "115bf325-86ae-4587-9da0-4d5ca4ba680b"
   },
   "outputs": [],
   "source": [
    "xx = np.random.randint(0,100+1e-5,size=15)\n",
    "print(xx)"
   ]
  },
  {
   "cell_type": "code",
   "execution_count": null,
   "id": "77fcd798",
   "metadata": {
    "id": "77fcd798",
    "outputId": "7e1b9d56-261f-4e79-91a2-e66ab4bd0bec"
   },
   "outputs": [],
   "source": [
    "for idx,val in enumerate(xx):\n",
    "    print(idx,val)"
   ]
  },
  {
   "cell_type": "markdown",
   "id": "1f614171",
   "metadata": {
    "id": "1f614171"
   },
   "source": [
    "Note this is essentially the same as this:"
   ]
  },
  {
   "cell_type": "code",
   "execution_count": null,
   "id": "cf3930ff",
   "metadata": {
    "id": "cf3930ff",
    "outputId": "a78feef3-5573-49ec-c1d7-9c406b16fec2"
   },
   "outputs": [],
   "source": [
    "for idx in range(len(xx)):\n",
    "    print(idx,xx[idx])"
   ]
  },
  {
   "cell_type": "markdown",
   "id": "48184786",
   "metadata": {
    "id": "48184786"
   },
   "source": [
    "or this:"
   ]
  },
  {
   "cell_type": "code",
   "execution_count": null,
   "id": "49dcc377",
   "metadata": {
    "id": "49dcc377",
    "outputId": "a2547ce5-7fed-49a6-8bdd-352ef542ad6a"
   },
   "outputs": [],
   "source": [
    "idx = 0\n",
    "for val in xx:\n",
    "    print(idx,val)\n",
    "    idx += 1"
   ]
  },
  {
   "cell_type": "markdown",
   "id": "b7338cde",
   "metadata": {
    "id": "b7338cde"
   },
   "source": [
    "### Zip\n",
    "The **zip()** function returns an iterator of tuples based on the iterable objects.\n",
    "\n",
    "If we do not pass any parameter, **zip()** returns an empty iterator\n",
    "If a single iterable is passed, **zip()** returns an iterator of tuples with each tuple having only one element.\n",
    "If multiple iterables are passed, **zip()** returns an iterator of tuples with each tuple having elements from all the iterables.\n",
    "\n",
    "Suppose, two iterables are passed to **zip()**; one iterable containing three and other containing five elements. Then, the returned iterator will contain three tuples. It's because the iterator stops when the shortest iterable is exhausted."
   ]
  },
  {
   "cell_type": "code",
   "execution_count": null,
   "id": "c1dbd3dc",
   "metadata": {
    "id": "c1dbd3dc",
    "outputId": "26a82302-0f9e-4ecd-ab24-5bea77b70506"
   },
   "outputs": [],
   "source": [
    "yy = np.random.randint(100,200+1e-5,size=15)\n",
    "\n",
    "for x,y in zip(xx,yy):\n",
    "    print('%d + %d = %d'%(x,y,x+y))"
   ]
  },
  {
   "cell_type": "markdown",
   "id": "c08993e3",
   "metadata": {
    "id": "c08993e3"
   },
   "source": [
    "Any iterable can be **enumerate**d, including zip objects:"
   ]
  },
  {
   "cell_type": "code",
   "execution_count": null,
   "id": "fb2d7f1b",
   "metadata": {
    "id": "fb2d7f1b",
    "outputId": "d780dcc4-9053-4885-c03e-f9c138b6873d"
   },
   "outputs": [],
   "source": [
    "for idx,(x,y) in enumerate(zip(xx,yy)):\n",
    "    print(idx,x+y)"
   ]
  },
  {
   "cell_type": "markdown",
   "id": "69a13a40",
   "metadata": {
    "id": "69a13a40"
   },
   "source": [
    "## List comprehension\n",
    "\n",
    "A succinct way to iterate over sequences and apply different operations, is through List, Dictionary, and Set comprehensions.\n",
    "\n",
    "A List comprehension is a convenient way of applying an operation to a collection of objects.  It takes this basic form:\n",
    "\n",
    "\\[**expression for** element **in** collection **if** condition\\]"
   ]
  },
  {
   "cell_type": "markdown",
   "id": "b567bdd0",
   "metadata": {
    "id": "b567bdd0"
   },
   "source": [
    "### Example 1:\n",
    "Square each element in a list of numbers."
   ]
  },
  {
   "cell_type": "code",
   "execution_count": null,
   "id": "f889fa0d",
   "metadata": {
    "id": "f889fa0d",
    "outputId": "ed7f7602-5ee1-4de4-880d-53905c18076d"
   },
   "outputs": [],
   "source": [
    "[x**2 for x in xx]"
   ]
  },
  {
   "cell_type": "markdown",
   "id": "c17ea860",
   "metadata": {
    "id": "c17ea860"
   },
   "source": [
    "### Example 2:\n",
    "Display each **odd** element in a list of numbers."
   ]
  },
  {
   "cell_type": "code",
   "execution_count": null,
   "id": "6effb215",
   "metadata": {
    "id": "6effb215",
    "outputId": "b3170927-e15a-4d13-c8b2-f47360c80279"
   },
   "outputs": [],
   "source": [
    "[x for x in xx if x%2==1]"
   ]
  },
  {
   "cell_type": "markdown",
   "id": "63150d59",
   "metadata": {
    "id": "63150d59"
   },
   "source": [
    "### Example 3:\n",
    "You can apply conditionals to each returned element.<br>\n",
    "Syntax is a little tricky:<br>\n",
    "[expression when true **if** condition **else** expression when false **for** element **in** collection]<br>\n",
    "Print 'odd' or 'even' for each element in a list."
   ]
  },
  {
   "cell_type": "code",
   "execution_count": null,
   "id": "df2b0467",
   "metadata": {
    "id": "df2b0467",
    "outputId": "844f5e3c-946a-42da-e054-ee5832ca5630"
   },
   "outputs": [],
   "source": [
    "[(x,'odd') if x%2==1 else (x,'even') for x in xx]"
   ]
  },
  {
   "cell_type": "markdown",
   "id": "136f91e7",
   "metadata": {
    "id": "136f91e7"
   },
   "source": [
    "### Example 4a:\n",
    "List comprehension can be nested<br>\n",
    "Again, syntax is a little tricky:<br>\n",
    "[elem2 **for** elem1 **in** collection **for** elem2 **in** elem1]\n",
    "<br><br>\n",
    "One thing we can do is \"flatten\" a list of lists into a single list."
   ]
  },
  {
   "cell_type": "code",
   "execution_count": null,
   "id": "f284e7b2",
   "metadata": {
    "id": "f284e7b2",
    "outputId": "8a42b0b6-f7b8-40fc-f359-8b9bc0050463"
   },
   "outputs": [],
   "source": [
    "[item for sublist in [xx,yy] for item in sublist]"
   ]
  },
  {
   "cell_type": "markdown",
   "id": "9de914cd",
   "metadata": {
    "id": "9de914cd"
   },
   "source": [
    "### Example 4b:\n",
    "See if you can unpack the following nested list comprehension"
   ]
  },
  {
   "cell_type": "code",
   "execution_count": null,
   "id": "a88c4731",
   "metadata": {
    "id": "a88c4731",
    "outputId": "0452a5b0-9dd2-448b-d30e-6760f9da3379"
   },
   "outputs": [],
   "source": [
    "[(x,y,z) for x in range(1,30) \\\n",
    "    for y in range(x,30) for z in range(y,30) \\\n",
    "    if x**2 + y**2 == z**2]"
   ]
  },
  {
   "cell_type": "markdown",
   "id": "3966db34",
   "metadata": {
    "id": "3966db34"
   },
   "source": [
    "## Dictionary and Set Comprehension\n",
    "Sets and dictionaries can also work using the \"comprehension\" syntax. This is especially useful when paired with zip to make dictionaries from data.<br>\n",
    "\n",
    "Set comprehension works exactly like list comprehension, except {} are used.<br>\n",
    "\n",
    "Dictionary comprehension works using the following syntax:<br>\n",
    "\n",
    "{key:val **for** elem **in** collection}"
   ]
  },
  {
   "cell_type": "code",
   "execution_count": null,
   "id": "71fafc0b",
   "metadata": {
    "id": "71fafc0b",
    "outputId": "0e950f81-d59b-4a6c-82ac-9425672b0bd9"
   },
   "outputs": [],
   "source": [
    "abc = 'abcdefghijklmnopqrstuvwxyz'\n",
    "\n",
    "temp_dictionary = {kk:vv for (kk,vv) in zip(abc,xx)}\n",
    "temp_dictionary"
   ]
  },
  {
   "cell_type": "markdown",
   "id": "da1d42e2",
   "metadata": {
    "id": "da1d42e2"
   },
   "source": [
    "# Lambda functions\n",
    "\n",
    "You can spell any Greek letter and use it as a variable name EXCEPT for **lambda**. As we learned in Lecture 2, **lambda** is a _reserved word_.   Why?  Because **lambda** has a special meaning in Python; it is reserved for _anonymous functions_.\n",
    "\n",
    "The syntax of a **lambda** function consists of  a **name =**, followed by  the word **lambda** followed by an _argument list_, a colon (:), and ending with  an _expression_.  Here is a simple example of an anonymous function that returns the product of the argument list: "
   ]
  },
  {
   "cell_type": "code",
   "execution_count": null,
   "id": "0e21c553",
   "metadata": {
    "id": "0e21c553"
   },
   "outputs": [],
   "source": [
    "f=lambda x,y : x*y"
   ]
  },
  {
   "cell_type": "markdown",
   "id": "d4bdfa2e",
   "metadata": {
    "id": "d4bdfa2e"
   },
   "source": [
    "Let's dissect the statement. \n",
    "\n",
    "- **f** is a new kind of  object that represents the function,\n",
    "\n",
    "- $x$ and $y$ are the arguments of the anonymous function, \n",
    "\n",
    "- and the expression $x*y$ is what is returned when the function is called. \n",
    "\n",
    "We're familiar with the following syntax for a \"normal\" function:"
   ]
  },
  {
   "cell_type": "code",
   "execution_count": null,
   "id": "d1a899fb",
   "metadata": {
    "id": "d1a899fb"
   },
   "outputs": [],
   "source": [
    "def g(x, y):\n",
    "    return x*y"
   ]
  },
  {
   "cell_type": "markdown",
   "id": "59e58185",
   "metadata": {
    "id": "59e58185"
   },
   "source": [
    "Both $f$ and $g$ take the same arguments and return the same value. They are essentially the same function.  \n",
    "\n",
    "Let us verify this, by calling both functions with the arguments $x=2$ and $y=10$:"
   ]
  },
  {
   "cell_type": "code",
   "execution_count": null,
   "id": "d6f3aa7d",
   "metadata": {
    "id": "d6f3aa7d",
    "outputId": "1432a869-57da-4450-e799-d96f2a4b4666"
   },
   "outputs": [],
   "source": [
    "print (f(2,10))\n",
    "print (g(2,10))"
   ]
  },
  {
   "cell_type": "markdown",
   "id": "243e0825",
   "metadata": {
    "id": "243e0825"
   },
   "source": [
    "**lambda** functions should seem familiar. They follow the same syntax you use in math to define functions:\n",
    "\n",
    "f(x) = x<sup>2</sup> +5x + 9 \n",
    " \n",
    "So we could easily write this as a **lambda** function like this:  \n",
    "\n",
    "\n",
    " \n"
   ]
  },
  {
   "cell_type": "code",
   "execution_count": null,
   "id": "b0c4a243",
   "metadata": {
    "id": "b0c4a243"
   },
   "outputs": [],
   "source": [
    "h = lambda x: x**2+5.*x+9"
   ]
  },
  {
   "cell_type": "markdown",
   "id": "d32845b3",
   "metadata": {
    "id": "d32845b3"
   },
   "source": [
    "\n",
    "For a multivariate function (one with more than one argument), you need to list all the arguments after the reserved word **lambda**. For example, \n",
    "In math, you’d write the equation for the hypotenus of two sides,  $a $ and $b$,  as: \n",
    " \n",
    "hypotenus($a$, $b$) = $\\sqrt{a^2+ b^2}$.\n",
    "\n",
    "In Python it would be:\n"
   ]
  },
  {
   "cell_type": "code",
   "execution_count": null,
   "id": "26557674",
   "metadata": {
    "id": "26557674",
    "outputId": "55a69afd-92ed-447c-f7b0-b4b24e28ffe4"
   },
   "outputs": [],
   "source": [
    "hypotenus = lambda a, b:  np.sqrt(a**2+b**2)\n",
    "print (hypotenus(3,4))"
   ]
  },
  {
   "cell_type": "markdown",
   "id": "6150d7b6",
   "metadata": {
    "id": "6150d7b6"
   },
   "source": [
    "# Heat flow examples\n",
    "## Geotherms"
   ]
  },
  {
   "cell_type": "code",
   "execution_count": null,
   "id": "cfda15dd",
   "metadata": {
    "id": "cfda15dd"
   },
   "outputs": [],
   "source": [
    "import scipy as sp\n",
    "import datetime as dt\n",
    "\n",
    "import matplotlib.pyplot as plt\n",
    "import seaborn as sns"
   ]
  },
  {
   "cell_type": "code",
   "execution_count": null,
   "id": "81512730",
   "metadata": {
    "id": "81512730"
   },
   "outputs": [],
   "source": [
    "def geotherm(z,d,k,qd,a):\n",
    "    \"\"\"\n",
    "    returns temp at depth (z) given thickness (d), conductivity (k), basal heat (qd) and internal heat (a)\n",
    "    \"\"\"\n",
    "    \n",
    "    return -(a/(2*k))*(z**2) + ((qd+(a*d))/(k))*z"
   ]
  },
  {
   "cell_type": "code",
   "execution_count": null,
   "id": "3839008c",
   "metadata": {
    "id": "3839008c"
   },
   "outputs": [],
   "source": [
    "zz = np.linspace(0,60e3,100) # 100 m steps up to 60 km"
   ]
  },
  {
   "cell_type": "code",
   "execution_count": null,
   "id": "1d793c87",
   "metadata": {
    "id": "1d793c87"
   },
   "outputs": [],
   "source": [
    "case_A = {'id':'A', 'd':50e3, 'k':2.5, 'a':1.25e-6, 'qd':21e-3}\n",
    "case_B = {'id':'B', 'd':50e3, 'k':1.7, 'a':1.25e-6, 'qd':21e-3}\n",
    "case_C = {'id':'C', 'd':50e3, 'k':2.5, 'a':2.50e-6, 'qd':21e-3}\n",
    "case_D = {'id':'D', 'd':50e3, 'k':2.5, 'a':1.25e-6, 'qd':42e-3}\n",
    "case_E = {'id':'E', 'd':50e3, 'k':2.5, 'a':1.25e-6, 'qd':10.5e-3}\n",
    "cases = [case_A, case_B, case_C, case_D, case_E]"
   ]
  },
  {
   "cell_type": "code",
   "execution_count": null,
   "id": "2e59c97c",
   "metadata": {
    "id": "2e59c97c",
    "outputId": "85a00ba8-3815-4166-d649-8b79c10cd2c3"
   },
   "outputs": [],
   "source": [
    "sns.set_context('talk')\n",
    "\n",
    "fig = plt.figure(figsize=(12,4))\n",
    "ax = fig.subplots(1,2,sharey=True)\n",
    "\n",
    "for case in cases:\n",
    "    ax[0].plot(geotherm(zz,case['d'],case['k'],case['qd'],case['a']),zz/1e3,'-',label=case['id'])\n",
    "    ax[1].plot(1e3*np.diff(geotherm(zz,case['d'],case['k'],case['qd'],case['a']))/np.diff(zz),zz[:-1]/1e3,'-',\n",
    "               label='\\n'.join([('%s: %s')%(key,val) for key,val in case.items()])\n",
    "              )\n",
    "\n",
    "ax[0].set_ylabel('Depth, z (km)')\n",
    "    \n",
    "ax[0].set_xlabel('Temp., T (°C)')\n",
    "ax[1].set_xlabel(r'Gradient, $\\frac{\\partial{T}}{\\partial{z}}$ (°C/km)')\n",
    "    \n",
    "ax[0].legend()\n",
    "ax[1].legend(bbox_to_anchor=(-0.15,1.05),loc='lower center',ncol=len(cases))\n",
    "\n",
    "\n",
    "[aa.set_ylim([50,0]) for aa in ax.flat]\n",
    "ax[0].set_xlim([0,1800]);"
   ]
  },
  {
   "cell_type": "markdown",
   "id": "0d061e14",
   "metadata": {
    "id": "0d061e14"
   },
   "source": [
    "## 2 layer geotherm"
   ]
  },
  {
   "cell_type": "code",
   "execution_count": null,
   "id": "104794b0",
   "metadata": {
    "id": "104794b0"
   },
   "outputs": [],
   "source": [
    "def geotherm_twolayer(z,z1,z2,k,qd,a1,a2):\n",
    "    \"\"\"\n",
    "    returns temp at depth (z) given thickness (d), conductivity (k), basal heat (qd) and internal heat (a)\n",
    "    \"\"\"\n",
    "    \n",
    "    if z<z1:\n",
    "        return -a1/(2*k)*z**2 + (qd/k + (a2/k)*(z2-z1) + (a1*z1)/k)*z\n",
    "    else:\n",
    "        return -a2/(2*k)*z**2 + (qd/k + (a2*z2/k))*z + (a1-a2)/(2*k)*z1**2"
   ]
  },
  {
   "cell_type": "code",
   "execution_count": null,
   "id": "6ad70d06",
   "metadata": {
    "id": "6ad70d06"
   },
   "outputs": [],
   "source": [
    "case2_A = {'id':'A', 'z1':20e3, 'z2':15e3, 'k':2.5, 'qd':63e-3, 'a1': 4.2e-6, 'a2': 0.8e-6}"
   ]
  },
  {
   "cell_type": "code",
   "execution_count": null,
   "id": "2d0e3483",
   "metadata": {
    "id": "2d0e3483",
    "outputId": "b7f3701f-ee44-4385-ba21-dfd0c43b8bdf"
   },
   "outputs": [],
   "source": [
    "fig = plt.figure(figsize=(12,4))\n",
    "ax = fig.subplots(1,2,sharey=True)\n",
    "\n",
    "ax[0].plot([geotherm_twolayer(z,\n",
    "                           case2_A['z1'],case2_A['z2'],\n",
    "                           case2_A['k'],case2_A['qd'],\n",
    "                           case2_A['a1'],case2_A['a2']) for z in zz[zz<=case2_A['z1']]],\n",
    "        zz[zz<=case2_A['z1']]/1e3,'-')\n",
    "\n",
    "ax[0].plot([geotherm_twolayer(z,\n",
    "                           case2_A['z1'],case2_A['z2'],\n",
    "                           case2_A['k'],case2_A['qd'],\n",
    "                           case2_A['a1'],case2_A['a2']) for z in zz[zz>=case2_A['z1']]],\n",
    "        zz[zz>=case2_A['z1']]/1e3,'-')\n",
    "\n",
    "############\n",
    "\n",
    "ax[1].plot(np.diff([1e3*geotherm_twolayer(z,case2_A['z1'],case2_A['z2'],\n",
    "                                      case2_A['k'],case2_A['qd'],\n",
    "                                      case2_A['a1'],\n",
    "                                      case2_A['a2']) for z in zz[zz<=case2_A['z1']]])/np.diff(zz[zz<=case2_A['z1']]),\n",
    "        zz[zz<=case2_A['z1']][:-1]/1e3,'-',color='tab:blue')\n",
    "\n",
    "ax[1].plot(np.diff([1e3*geotherm_twolayer(z,case2_A['z1'],case2_A['z2'],\n",
    "                                      case2_A['k'],case2_A['qd'],\n",
    "                                      case2_A['a1'],\n",
    "                                      case2_A['a2']) for z in zz[zz>=case2_A['z1']]])/np.diff(zz[zz>=case2_A['z1']]),\n",
    "        zz[zz>=case2_A['z1']][:-1]/1e3,'-',color='tab:orange')\n",
    "\n",
    "###########\n",
    "\n",
    "ax[0].set_ylim([(case2_A['z1']+case2_A['z2'])/1e3,0])\n",
    "ax[0].set_xlim([0,1500])\n",
    "\n",
    "ax[0].set_ylabel('Depth, z (km)')   \n",
    "ax[0].set_xlabel('Temp., T (°C)')\n",
    "ax[1].set_xlabel(r'Gradient, $\\frac{\\partial{T}}{\\partial{z}}$ (°C/km)');\n"
   ]
  },
  {
   "cell_type": "markdown",
   "id": "1ccc49e4",
   "metadata": {
    "id": "1ccc49e4"
   },
   "source": [
    "## Heating and cooling\n",
    "Scenario: Dike of width 2w, no internal heat generation, initial temperature T0, ignore latent heat<br>\n",
    "initial conditions:<br>i) T=T0 at t=0 for -w <= x <= w<br>ii) T=0 at t=0 for |x|>=w"
   ]
  },
  {
   "cell_type": "code",
   "execution_count": null,
   "id": "dbb90fe3",
   "metadata": {
    "id": "dbb90fe3"
   },
   "outputs": [],
   "source": [
    "def tempdist(x,t,w,t0,k):\n",
    "    \"\"\"\n",
    "    return temperature (degC) at given distance (x) and time (t) for \n",
    "    emplaced dike of width 2w at initial temp t0 and diffusivity of k\n",
    "    \"\"\"\n",
    "    return (t0/2)*(sp.special.erf((w-x)/(2*np.sqrt(k*t)))+sp.special.erf((w+x)/(2*np.sqrt(k*t))))"
   ]
  },
  {
   "cell_type": "code",
   "execution_count": null,
   "id": "bbb25177",
   "metadata": {
    "id": "bbb25177"
   },
   "outputs": [],
   "source": [
    "days = [dt.timedelta(days=t).total_seconds() for t in range(8)] # 1 week in days\n",
    "weeks = [dt.timedelta(weeks=t).total_seconds() for t in range(1,53)] # 1 year in weeks\n",
    "years = [dt.timedelta(days=t*365.25).total_seconds() for t in range(1,101)] # 100 years"
   ]
  },
  {
   "cell_type": "code",
   "execution_count": null,
   "id": "fb89ad73",
   "metadata": {
    "id": "fb89ad73",
    "outputId": "c0dcc8c9-5c8c-4800-f26f-b97da13ba600"
   },
   "outputs": [],
   "source": [
    "w = 1 # meter half-width\n",
    "t0 = 1000 # initial temp\n",
    "k = 1e-6 # diffusivity\n",
    "\n",
    "xx = np.linspace(-10,10,1000)\n",
    "cmap = plt.cm.viridis(np.linspace(0,1,len(days)))\n",
    "\n",
    "fig = plt.figure()\n",
    "ax = fig.subplots(1,1)\n",
    "\n",
    "for tt,cc in zip(days,cmap):\n",
    "    ax.plot(xx,tempdist(xx,tt,w,t0,k),'-',color=cc)\n",
    "\n",
    "ax.set_xlim([-5,5])\n",
    "\n",
    "# getting fancy\n",
    "ax.fill_between(xx[(xx<-w)&(xx>ax.get_xlim()[0])],\n",
    "                 np.ones_like(xx[(xx<-w)&(xx>ax.get_xlim()[0])])*(t0+200),\n",
    "                 np.ones_like(xx[(xx<-w)&(xx>ax.get_xlim()[0])])*(t0+50),\n",
    "                 color='grey', clip_on=True)\n",
    "ax.fill_between(xx[(xx>w)&(xx<ax.get_xlim()[1])],\n",
    "                 np.ones_like(xx[(xx>w)&(xx<ax.get_xlim()[1])])*(t0+200),\n",
    "                 np.ones_like(xx[(xx>w)&(xx<ax.get_xlim()[1])])*(t0+50),\n",
    "                 color='grey', clip_on=True)\n",
    "ax.fill_between(xx[(xx>-w)&(xx<w)],\n",
    "                 np.ones_like(xx[(xx>-w)&(xx<w)])*(t0+200),\n",
    "                 np.ones_like(xx[(xx>-w)&(xx<w)])*(t0+50),\n",
    "                 color='red', clip_on=True)\n",
    "\n",
    "\n",
    "fig.tight_layout();"
   ]
  },
  {
   "cell_type": "code",
   "execution_count": null,
   "id": "7c44e6f9",
   "metadata": {
    "id": "7c44e6f9",
    "outputId": "2ccd6d01-1bea-42bf-a06f-58ce45dec49b"
   },
   "outputs": [],
   "source": [
    "w = 1 # meter half-width\n",
    "t0 = 1000 # initial temp\n",
    "k = 1e-6 # diffusivity\n",
    "\n",
    "xx = np.linspace(-100,100,1000)\n",
    "cmap = plt.cm.viridis(np.linspace(0,1,len(weeks)))\n",
    "\n",
    "fig = plt.figure()\n",
    "ax = fig.subplots(1,1)\n",
    "\n",
    "for tt,cc in zip(weeks,cmap):\n",
    "    ax.plot(xx,tempdist(xx,tt,w,t0,k),'-',color=cc)\n",
    "ax.set_xlim([-15,15])\n",
    "\n",
    "\n",
    "# getting fancy\n",
    "ax.fill_between(xx[(xx<-w)&(xx>ax.get_xlim()[0])],\n",
    "                 np.ones_like(xx[(xx<-w)&(xx>ax.get_xlim()[0])])*(t0+200),\n",
    "                 np.ones_like(xx[(xx<-w)&(xx>ax.get_xlim()[0])])*(t0+50),\n",
    "                 color='grey', clip_on=True)\n",
    "ax.fill_between(xx[(xx>w)&(xx<ax.get_xlim()[1])],\n",
    "                 np.ones_like(xx[(xx>w)&(xx<ax.get_xlim()[1])])*(t0+200),\n",
    "                 np.ones_like(xx[(xx>w)&(xx<ax.get_xlim()[1])])*(t0+50),\n",
    "                 color='grey', clip_on=True)\n",
    "ax.fill_between(xx[(xx>-w)&(xx<w)],\n",
    "                 np.ones_like(xx[(xx>-w)&(xx<w)])*(t0+200),\n",
    "                 np.ones_like(xx[(xx>-w)&(xx<w)])*(t0+50),\n",
    "                 color='red', clip_on=True)"
   ]
  },
  {
   "cell_type": "code",
   "execution_count": null,
   "id": "5f5f3757",
   "metadata": {
    "id": "5f5f3757",
    "outputId": "c390f843-1bf3-403d-b197-38762f078be4"
   },
   "outputs": [],
   "source": [
    "w = 1 # meter half-width\n",
    "t0 = 1000 # initial temp\n",
    "k = 1e-6 # diffusivity\n",
    "\n",
    "xx = np.linspace(-250,250,10000)\n",
    "cmap = plt.cm.viridis(np.linspace(0,1,len(years)))\n",
    "\n",
    "fig = plt.figure()\n",
    "ax = fig.subplots(1,1)\n",
    "\n",
    "for tt,cc in zip(years,cmap):\n",
    "    ax.plot(xx,tempdist(xx,tt,w,t0,k),'-',color=cc)\n",
    "ax.set_xlim([-250,250])\n",
    "\n",
    "# getting fancy\n",
    "ax.fill_between(xx[(xx<-w)&(xx>ax.get_xlim()[0])],\n",
    "                 np.ones_like(xx[(xx<-w)&(xx>ax.get_xlim()[0])])*(200),\n",
    "                 np.ones_like(xx[(xx<-w)&(xx>ax.get_xlim()[0])])*(150),\n",
    "                 color='grey', clip_on=True)\n",
    "ax.fill_between(xx[(xx>w)&(xx<ax.get_xlim()[1])],\n",
    "                 np.ones_like(xx[(xx>w)&(xx<ax.get_xlim()[1])])*(200),\n",
    "                 np.ones_like(xx[(xx>w)&(xx<ax.get_xlim()[1])])*(150),\n",
    "                 color='grey', clip_on=True)\n",
    "ax.fill_between(xx[(xx>-w)&(xx<w)],\n",
    "                 np.ones_like(xx[(xx>-w)&(xx<w)])*(200),\n",
    "                 np.ones_like(xx[(xx>-w)&(xx<w)])*(150),\n",
    "                 color='red', clip_on=True)"
   ]
  },
  {
   "cell_type": "markdown",
   "id": "61da4018",
   "metadata": {
    "id": "7d1a44ba"
   },
   "source": [
    "# Cartopy - making maps\n",
    "\n",
    "Maps are fundamental to geology, but all maps are trying to achieve the impossible: depict a 3D object in two dimensions. Inevitably, some compromises in shape, angle, or area are required. We call these transformations \"projections\". Rectangular projections are particularly prone to distortion, but all map shapes involve some difference from reality.\n",
    "\n",
    "\n",
    "**Cartopy** is a module for Python for making maps, replacing the matplotlib module **Basemap**. NB: this changeover happened about 5 years ago, so there are a lot of tutorials/guides/modules that have not yet been migrated to cartopy. \n",
    "\n",
    "*(An alternative to cartopy is **GMT**, Generic Mapping Tools, and it's python interface **pyGMT**. I really like GMT, it makes beautiful maps fast, but the learning curve is quite steep and is based on older, command-line-interface tools and arguments. Not for this class, but worth thinking about if you want to step up your map making in the future.)*\n",
    "\n",
    "First step are importing the modules crs and feature from cartopy. CRS handles transforming provided locations (in lon, lat format typically) to map units. Feature includes many built geographic features commonly useful to plot."
   ]
  },
  {
   "cell_type": "code",
   "execution_count": null,
   "id": "ac5a4196",
   "metadata": {},
   "outputs": [],
   "source": [
    "from cartopy import feature as cfeature, crs as ccrs"
   ]
  },
  {
   "cell_type": "markdown",
   "id": "550a2033",
   "metadata": {},
   "source": [
    "Let's make our first map, something familiar using the PlateCarree projection -- an equirectangular projection similar to Mercator."
   ]
  },
  {
   "cell_type": "code",
   "execution_count": null,
   "id": "23efe181",
   "metadata": {},
   "outputs": [],
   "source": [
    "fig = plt.figure()\n",
    "ax = fig.add_subplot(1,1,1,projection=ccrs.PlateCarree()) \n",
    "# note the added argument \"projection\" informing matplotlib to use the named projection\n",
    "\n",
    "ax.set_title('my first map')\n",
    "\n",
    "ax.coastlines() # draws coastlines"
   ]
  },
  {
   "cell_type": "markdown",
   "id": "1273a731",
   "metadata": {},
   "source": [
    "Let's use a different projection -- I like Mollweide and Robinson myself"
   ]
  },
  {
   "cell_type": "code",
   "execution_count": null,
   "id": "d313991e",
   "metadata": {},
   "outputs": [],
   "source": [
    "fig = plt.figure()\n",
    "ax = fig.add_subplot(1,1,1,projection=ccrs.Mollweide()) \n",
    "# note the added argument \"projection\" informing matplotlib to use the named projection\n",
    "\n",
    "ax.set_title('my first map')\n",
    "\n",
    "ax.coastlines() # draws coastlines"
   ]
  },
  {
   "cell_type": "code",
   "execution_count": null,
   "id": "b8c1745b",
   "metadata": {},
   "outputs": [],
   "source": [
    "fig = plt.figure()\n",
    "ax = fig.add_subplot(1,1,1,projection=ccrs.Robinson()) \n",
    "# note the added argument \"projection\" informing matplotlib to use the named projection\n",
    "\n",
    "ax.set_title('my first map')\n",
    "\n",
    "ax.coastlines() # draws coastlines"
   ]
  },
  {
   "cell_type": "markdown",
   "id": "881130eb",
   "metadata": {},
   "source": [
    "We can adjust the centering of the projection -- let's make North America in the center"
   ]
  },
  {
   "cell_type": "code",
   "execution_count": null,
   "id": "f6e9a34b",
   "metadata": {},
   "outputs": [],
   "source": [
    "fig = plt.figure()\n",
    "ax = fig.add_subplot(1,1,1,projection=ccrs.Mollweide(central_longitude=-90)) \n",
    "# note the added argument \"projection\" informing matplotlib to use the named projection\n",
    "\n",
    "ax.set_title('my first map')\n",
    "\n",
    "ax.coastlines() # draws coastlines"
   ]
  },
  {
   "cell_type": "markdown",
   "id": "740cbf5a",
   "metadata": {},
   "source": [
    "Here's a comparison of how different projections affect how the map looks, using a Tissot indicatrix"
   ]
  },
  {
   "cell_type": "code",
   "execution_count": null,
   "id": "f0563e10",
   "metadata": {},
   "outputs": [],
   "source": [
    "fig = plt.figure(figsize=(24,12))\n",
    "\n",
    "projections = [ccrs.PlateCarree(),ccrs.Mercator(),ccrs.Mollweide(),\n",
    "            ccrs.Orthographic(),ccrs.Robinson(),ccrs.EckertVI(),\n",
    "            ccrs.LambertAzimuthalEqualArea(),ccrs.EqualEarth()]\n",
    "\n",
    "for ii,proj in enumerate(projections):\n",
    "\n",
    "    ax = fig.add_subplot(2,4,ii+1,projection=proj)\n",
    "    ax.coastlines()\n",
    "    ax.tissot(facecolor='orange',alpha=0.5);"
   ]
  },
  {
   "cell_type": "markdown",
   "id": "052c39c9",
   "metadata": {},
   "source": [
    "We can use Cartopy features to add geographic info"
   ]
  },
  {
   "cell_type": "code",
   "execution_count": null,
   "id": "018b43d6",
   "metadata": {},
   "outputs": [],
   "source": [
    "fig = plt.figure(figsize=(10,6))\n",
    "ax = fig.add_subplot(1,1,1,projection=ccrs.Robinson()) \n",
    "# note the added argument \"projection\" informing matplotlib to use the named projection\n",
    "\n",
    "ax.set_title('my first map')\n",
    "\n",
    "ax.add_feature(cfeature.COASTLINE,color='black',linewidth=1)\n",
    "ax.add_feature(cfeature.BORDERS,color='red',linewidth=0.75,linestyle=':')\n",
    "ax.add_feature(cfeature.RIVERS,color='blue',linewidth=0.5)\n",
    "ax.add_feature(cfeature.LAKES,color='royalblue')\n",
    "ax.add_feature(cfeature.LAND,color='wheat')\n",
    "ax.add_feature(cfeature.OCEAN,color='powderblue')\n"
   ]
  },
  {
   "cell_type": "markdown",
   "id": "e7e18ffb",
   "metadata": {},
   "source": [
    "We can plot data (point, lines, grids and polygons) on our maps."
   ]
  },
  {
   "cell_type": "code",
   "execution_count": null,
   "id": "f87c1190",
   "metadata": {},
   "outputs": [],
   "source": [
    "fig = plt.figure(figsize=(10,6))\n",
    "ax = fig.add_subplot(1,1,1,projection=ccrs.Robinson()) \n",
    "# note the added argument \"projection\" informing matplotlib to use the named projection\n",
    "\n",
    "ax.set_global()\n",
    "ax.coastlines()\n",
    "ax.gridlines(zorder=0) # zorder controls the layering that features are drawn, with smaller numbers below larger ones\n",
    "\n",
    "ax.plot(-84.3,30.5,marker='*',color='yellow',mec='k',markersize=15, transform=ccrs.PlateCarree())"
   ]
  },
  {
   "cell_type": "markdown",
   "id": "053dbd12",
   "metadata": {},
   "source": [
    "Note that in the plot call, the new argument \"transform\", tells python that the data is in the PlateCarree reference frame.\n",
    "\n",
    "Also remember that x=longitude and y=latitude!"
   ]
  },
  {
   "cell_type": "markdown",
   "id": "6273c840",
   "metadata": {},
   "source": [
    "Let's add a second point and draw a line connecting the two."
   ]
  },
  {
   "cell_type": "code",
   "execution_count": null,
   "id": "fdf9ee90",
   "metadata": {},
   "outputs": [],
   "source": [
    "fig = plt.figure(figsize=(10,6))\n",
    "ax = fig.add_subplot(1,1,1,projection=ccrs.Robinson()) \n",
    "# note the added argument \"projection\" informing matplotlib to use the named projection\n",
    "\n",
    "ax.set_global()\n",
    "ax.coastlines(zorder=1)\n",
    "ax.gridlines(zorder=0) # zorder controls the layering that features are drawn, with smaller numbers below larger ones\n",
    "\n",
    "ax.scatter([-84.3,11],[30.5,60],marker='*',color='yellow',edgecolor='k',s=15**2, transform=ccrs.PlateCarree())\n",
    "\n",
    "ax.plot([-84.3,11],[30.5,60],color='red',transform=ccrs.PlateCarree());\n"
   ]
  },
  {
   "cell_type": "markdown",
   "id": "f0472830",
   "metadata": {},
   "source": [
    "Note that the line drawn using **plot** with the **PlateCarree()** projection is a straight line. But we know the Earth is not flat, and that the shortest path connection two points on a sphere is a great circle. We can plot the great circle path using a different transformation, **Geodetic()**"
   ]
  },
  {
   "cell_type": "code",
   "execution_count": null,
   "id": "d512597c",
   "metadata": {},
   "outputs": [],
   "source": [
    "fig = plt.figure(figsize=(10,6))\n",
    "ax = fig.add_subplot(1,1,1,projection=ccrs.Robinson()) \n",
    "# note the added argument \"projection\" informing matplotlib to use the named projection\n",
    "\n",
    "ax.set_global()\n",
    "ax.coastlines(zorder=1)\n",
    "ax.gridlines(zorder=0) # zorder controls the layering that features are drawn, with smaller numbers below larger ones\n",
    "\n",
    "ax.scatter([-84.3,11],[30.5,60],marker='*',color='yellow',edgecolor='k',s=15**2, transform=ccrs.PlateCarree())\n",
    "\n",
    "ax.plot([-84.3,11],[30.5,60],color='red',transform=ccrs.PlateCarree());\n",
    "ax.plot([-84.3,11],[30.5,60],color='blue',transform=ccrs.Geodetic());"
   ]
  },
  {
   "cell_type": "markdown",
   "id": "9033866a",
   "metadata": {},
   "source": [
    "See how the blue line has an arc shape -- this is the same reason flight paths tend towards these high-latitudes."
   ]
  },
  {
   "cell_type": "markdown",
   "id": "ee97f2d7",
   "metadata": {},
   "source": [
    "Cartopy also has some pretty built in backgrounds."
   ]
  },
  {
   "cell_type": "code",
   "execution_count": null,
   "id": "fe882b51",
   "metadata": {},
   "outputs": [],
   "source": [
    "fig = plt.figure(figsize=(10,6))\n",
    "ax = fig.add_subplot(1,1,1,projection=ccrs.Robinson()) \n",
    "# note the added argument \"projection\" informing matplotlib to use the named projection\n",
    "\n",
    "ax.set_global()\n",
    "ax.stock_img()\n",
    "# ax.coastlines(zorder=1)\n",
    "# ax.gridlines(zorder=0) # zorder controls the layering that features are drawn, with smaller numbers below larger ones\n",
    "\n",
    "ax.scatter([-84.3,11],[30.5,60],marker='*',color='yellow',edgecolor='k',s=15**2, \n",
    "           transform=ccrs.PlateCarree(),zorder=99)\n",
    "\n",
    "ax.plot([-84.3,11],[30.5,60],color='red',transform=ccrs.PlateCarree());\n",
    "ax.plot([-84.3,11],[30.5,60],color='blue',transform=ccrs.Geodetic());"
   ]
  },
  {
   "cell_type": "markdown",
   "id": "3d6619b7",
   "metadata": {},
   "source": [
    "We can also change the extents of the plot if we want to limit the area shown."
   ]
  },
  {
   "cell_type": "code",
   "execution_count": null,
   "id": "c1a28782",
   "metadata": {},
   "outputs": [],
   "source": [
    "fig = plt.figure(figsize=(10,6))\n",
    "ax = fig.add_subplot(1,1,1,projection=ccrs.LambertConformal(central_longitude=260, central_latitude=33)) \n",
    "\n",
    "ax.set_extent([-90, -70, 20, 30], crs=ccrs.PlateCarree())\n",
    "\n",
    "ax.add_feature(cfeature.COASTLINE,color='black',linewidth=1)\n",
    "ax.add_feature(cfeature.BORDERS,color='red',linewidth=1,linestyle='-')\n",
    "ax.add_feature(cfeature.RIVERS,color='blue',linewidth=0.5)\n",
    "ax.add_feature(cfeature.LAKES,color='royalblue')\n",
    "ax.add_feature(cfeature.LAND,color='wheat')\n",
    "ax.add_feature(cfeature.OCEAN,color='powderblue')\n",
    "ax.add_feature(cfeature.STATES,edgecolor='red',linewidth=0.75,linestyle=':')\n",
    "\n",
    "ax.scatter([-84.3,11],[30.5,60],marker='*',color='yellow',edgecolor='k',s=15**2, \n",
    "           transform=ccrs.PlateCarree(),zorder=99)\n",
    "\n",
    "ax.gridlines(draw_labels=True, dms=True, x_inline=False, y_inline=False)"
   ]
  },
  {
   "cell_type": "markdown",
   "id": "4760b472",
   "metadata": {},
   "source": [
    "## Plotting a rotation\n",
    "\n",
    "Let's do something fun. We'll import a shapefile for the Indian craton I stole from GPlates, and we can rotate it back to a starting origin."
   ]
  },
  {
   "cell_type": "code",
   "execution_count": null,
   "id": "08315d34",
   "metadata": {},
   "outputs": [],
   "source": [
    "india = np.loadtxt(fpath+'/Datasets/india_outline.txt')"
   ]
  },
  {
   "cell_type": "code",
   "execution_count": null,
   "id": "2af7b978",
   "metadata": {
    "scrolled": true
   },
   "outputs": [],
   "source": [
    "fig = plt.figure(figsize=(10,6))\n",
    "ax = fig.add_subplot(1,1,1,projection=ccrs.Robinson()) \n",
    "# note the added argument \"projection\" informing matplotlib to use the named projection\n",
    "\n",
    "ax.set_global()\n",
    "ax.coastlines(linewidth=0.5)\n",
    "ax.gridlines(zorder=0,linewidth=0.5,linestyle=':') # zorder controls the layering that features are drawn, with smaller numbers below larger ones\n",
    "\n",
    "ax.fill(india[:,0],india[:,1],color='firebrick',edgecolor='black',transform=ccrs.PlateCarree());"
   ]
  },
  {
   "cell_type": "markdown",
   "id": "04207a2c",
   "metadata": {},
   "source": [
    "Okay, we need a finite rotation function, which I've copied from Cox and Hart:"
   ]
  },
  {
   "cell_type": "code",
   "execution_count": null,
   "id": "ffa05d66",
   "metadata": {},
   "outputs": [],
   "source": [
    "def cart_dir(x,y,z):\n",
    "    \"\"\"\n",
    "    converts cartesian to spherical coords\n",
    "    \"\"\"\n",
    "    lon = np.arctan2(y,x)\n",
    "    lat = np.arcsin(z)\n",
    "    m = np.sqrt(x**2 + y**2 + z**2)\n",
    "    \n",
    "    return np.rad2deg(lon),np.rad2deg(lat),m\n",
    "\n",
    "def dir_cart(lon,lat):\n",
    "    \"\"\"\n",
    "    converts spherical coords (Degrees) to cartesian\n",
    "    \"\"\"\n",
    "    rlon = np.deg2rad(lon)\n",
    "    rlat = np.deg2rad(lat)\n",
    "    \n",
    "    x = np.cos(rlat)*np.cos(rlon)\n",
    "    y = np.cos(rlat)*np.sin(rlon)\n",
    "    z = np.sin(rlat)\n",
    "    \n",
    "    return x,y,z\n",
    "\n",
    "def rotation(slon,slat,elon,elat,ang):\n",
    "    \"\"\"\n",
    "    returns rotated lat, lon for given starting site, euler pole and angle\n",
    "    \"\"\"\n",
    "\n",
    "    ss = dir_cart(slon,slat)\n",
    "    ee = dir_cart(elon,elat)\n",
    "    ar = np.radians(ang)\n",
    "    \n",
    "    r11 = ee[0]*ee[0]*(1-np.cos(ar))+np.cos(ar)\n",
    "    r12 = ee[0]*ee[1]*(1-np.cos(ar))-ee[2]*np.sin(ar)\n",
    "    r13 = ee[0]*ee[2]*(1-np.cos(ar))+ee[1]*np.sin(ar)\n",
    "    \n",
    "    r21 = ee[1]*ee[0]*(1-np.cos(ar))+ee[2]*np.sin(ar)\n",
    "    r22 = ee[1]*ee[1]*(1-np.cos(ar))+np.cos(ar)\n",
    "    r23 = ee[1]*ee[2]*(1-np.cos(ar))-ee[0]*np.sin(ar)\n",
    "    \n",
    "    r31 = ee[2]*ee[0]*(1-np.cos(ar))-ee[1]*np.sin(ar)\n",
    "    r32 = ee[2]*ee[1]*(1-np.cos(ar))+ee[0]*np.sin(ar)\n",
    "    r33 = ee[2]*ee[2]*(1-np.cos(ar))+np.cos(ar)\n",
    "    \n",
    "    apx = r11*ss[0] + r12*ss[1] + r13*ss[2]\n",
    "    apy = r21*ss[0] + r22*ss[1] + r23*ss[2]\n",
    "    apz = r31*ss[0] + r32*ss[1] + r33*ss[2]\n",
    "    \n",
    "    (slonp,slatp,_) = cart_dir(apx,apy,apz)\n",
    "    \n",
    "    return slonp,slatp"
   ]
  },
  {
   "cell_type": "code",
   "execution_count": null,
   "id": "2be03164",
   "metadata": {},
   "outputs": [],
   "source": [
    "# nominal starting and stopping locations for india\n",
    "ind0 = dir_cart(80,22)\n",
    "ind1 = dir_cart(55,-25)\n",
    "\n",
    "# use cross product to find euler pole\n",
    "eind = np.cross(ind0,ind1)\n",
    "eind = eind/np.linalg.norm(eind)\n",
    "\n",
    "eind = cart_dir(*eind)\n",
    "\n",
    "# get angle between starting/end points using dot product\n",
    "ang = np.degrees(np.arccos(np.dot(ind0,ind1)/(np.linalg.norm(ind0)*np.linalg.norm(ind0))))"
   ]
  },
  {
   "cell_type": "code",
   "execution_count": null,
   "id": "79bfe36c",
   "metadata": {},
   "outputs": [],
   "source": [
    "# calculate new positions for all points in the india shape\n",
    "ind_anc = np.array([rotation(lon,lat,eind[0],eind[1],ang) for lon,lat in zip(india[:,0],india[:,1])])"
   ]
  },
  {
   "cell_type": "code",
   "execution_count": null,
   "id": "31c1e027",
   "metadata": {},
   "outputs": [],
   "source": [
    "fig = plt.figure(figsize=(10,6))\n",
    "ax = fig.add_subplot(1,1,1,projection=ccrs.Robinson()) \n",
    "# note the added argument \"projection\" informing matplotlib to use the named projection\n",
    "\n",
    "ax.set_global()\n",
    "ax.coastlines(linewidth=0.5)\n",
    "ax.gridlines(zorder=0,linewidth=0.5,linestyle=':') # zorder controls the layering that features are drawn, with smaller numbers below larger ones\n",
    "\n",
    "ax.scatter(eind[0],eind[1],s=250,color='yellow',marker='*',edgecolor='k',transform=ccrs.PlateCarree())\n",
    "\n",
    "ax.fill(india[:,0],india[:,1],color='firebrick',edgecolor='black',transform=ccrs.PlateCarree())\n",
    "ax.fill(ind_anc[:,0],ind_anc[:,1],color='salmon',edgecolor='black',transform=ccrs.PlateCarree());"
   ]
  },
  {
   "cell_type": "code",
   "execution_count": null,
   "id": "3320642d",
   "metadata": {},
   "outputs": [],
   "source": []
  }
 ],
 "metadata": {
  "colab": {
   "include_colab_link": true,
   "provenance": []
  },
  "kernelspec": {
   "display_name": "Python 3 (ipykernel)",
   "language": "python",
   "name": "python3"
  },
  "language_info": {
   "codemirror_mode": {
    "name": "ipython",
    "version": 3
   },
   "file_extension": ".py",
   "mimetype": "text/x-python",
   "name": "python",
   "nbconvert_exporter": "python",
   "pygments_lexer": "ipython3",
   "version": "3.8.11"
  }
 },
 "nbformat": 4,
 "nbformat_minor": 5
}
