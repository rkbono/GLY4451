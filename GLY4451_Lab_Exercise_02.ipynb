{
 "cells": [
  {
   "cell_type": "markdown",
   "metadata": {
    "colab_type": "text",
    "id": "view-in-github"
   },
   "source": [
    "<a href=\"https://colab.research.google.com/github/rkbono/GLY4451/blob/main/GLY4451_Lab_Exercise_02.ipynb\" target=\"_parent\"><img src=\"https://colab.research.google.com/assets/colab-badge.svg\" alt=\"Open In Colab\"/></a>"
   ]
  },
  {
   "cell_type": "markdown",
   "metadata": {
    "id": "Qza64LQOvIxA"
   },
   "source": [
    "# Computer Lab 02\n",
    "## Colab Notebook Basics\n",
    "- Data structures\n",
    "- Control sequences\n",
    "- Modules\n",
    "- Numpy and first plots"
   ]
  },
  {
   "cell_type": "markdown",
   "metadata": {
    "id": "Kb4Qlyo9LTlR"
   },
   "source": [
    "# Computer Lab 02a"
   ]
  },
  {
   "cell_type": "markdown",
   "metadata": {
    "id": "g7JEBViMpZrV"
   },
   "source": [
    "1. Dictionaries\n",
    "    - Create a dictionary called **geology** with  the keys  “Igneous” and “Metamorphic”.  The _values_ of these keys should be  the definition of these words.\n",
    "    - Print the value for the key \"Igneous\"\n",
    "    - Add a new key-value pair “Sedimentary” with its definition.\n",
    "    - Print all of the values using the method _values( )_\n",
    "2. Conditional statements\n",
    "    - Set $x$ to 5 and $y$ to 6.  Test if they are equal using relational operators. Test if they are not equal using the relational operators.  \n",
    "    - $x$ and $y$ are not equal. Test which one is larger by using the less than and greater than relational operators.\n",
    "    - Create new variables and apply the less than or equal to and greater than or equal to relational operators to these variables.\n",
    "3. While loops \n",
    "    - Set $day$ to 1 and $fullMoon$ to 29\n",
    "    - Create a **while** loop that checks if $day$ is less than $fullMoon$. If it is, print $day$ and increment $day$ by 1\n",
    "    - If $day$ is greater than or equal to $fullMoon$, print \"Today is a full moon.\" \n",
    "4. If statements\n",
    "    -  Set a variable $oldestCrust$ to 3.5e9, $oldestSeafloor$ to 180e6, $ageEarth$ to 4.5e9, and  $ageSolarSystem$ to 4.5e9 \n",
    "    -  Create an if-else statement that compares the age of the crust with the age of the seafloor and prints out which is older \n",
    "    - Create an if-else statement that compares the age of the Earth and the age of the solar system and prints out whether or not they formed at the same time \n",
    "5. For loops\n",
    "    - create a list of mountain ranges (Himalayas, Rocky, Trans-Antarctic, Andes, Alps, Appalachians, etc.)\n",
    "    - write a **for** loop that prints out all of the elements in your list \n",
    "6. Nested loops\n",
    "    - Make a dictionary of volcanoes with the  volcano names as keys and the values as the most recent eruption: \"Mt St Helen's\":1981, 'Pinatubo':1992, 'Krakatoa':2014, 'Anak Krakatoa': 2018, 'Yellowstone':-68000, 'Kilauea':2018\"  \n",
    "    - Make a nested loop:  step through the dictionary of volcanoes. If the last eruption was within the last five years, then print 'Recent activity at ' along with the name of the volcano, otherwise print 'No recent activity at ' and the name of the volcano. "
   ]
  },
  {
   "cell_type": "markdown",
   "metadata": {
    "id": "PKEM6YrRnE3U"
   },
   "source": [
    "# Computer Lab 02b"
   ]
  },
  {
   "cell_type": "markdown",
   "metadata": {
    "id": "lMA16WWrpZrW"
   },
   "source": [
    "1. Doc string\n",
    "    - Create a function  **greeting( )**. Include a doc string that explains what the function does\n",
    "    - In the body, use the command **print ('Hi there')**\n",
    "    - print out the docstring with **help(greeting)**\n",
    "2. Functions\n",
    "    - create a function  called **circleArea( )** . The function should take a radius as an argument and return the area of a circle with that radius ($A=\\pi r^2$). Include a doc string (as ALWAYS). \n",
    "    - call the function and print out the result\n",
    "    - Create a function called **add_em_up( )**  that takes an unspecified number of input floating point or integer arguments and returns their sum.\n",
    "    - Call the function with different numbers of arguments and print the sum.\n",
    "3. Modules\n",
    "    - Create a module **myMath.py**  by copying both functions **add\\_em\\_up(\\*args)** and **circleArea(r)** in a  cell\n",
    "    - rename the two functions **add** and **area**\n",
    "    - save the module by using the __%%writefile__ magic command and specifying the file name as **myMath.py**. \n",
    "    - import the **myMath.py** module into your Jupyter notebook and call each function in the module\n",
    "4. Local variables\n",
    "    - define a variable **myName** with your name\n",
    "    - define  a function **greeting( )**  that sets myName to \"John Doe\". The function should return the string   \"Hello\" and the variable **myName**\n",
    "    - print **myName**\n",
    "    - call the function **greeting( )** and print the output\n",
    "    - print **myName** again \n",
    "    - Has the value of **myName** changed after calling the function **greeting( )**?\n",
    "5. Global variables\n",
    "    - define a variable **name** with your name\n",
    "    - define a function **greet( )** that sets the global variable **name** to \"Jane Doe\". The function should return \"Hello\" and the variable **name**\n",
    "    - print **name**\n",
    "    - call the function **greet( )** and print the output \n",
    "    - print **name**\n",
    "    - Has the value of **name** changed after calling the function **greet( )**?"
   ]
  },
  {
   "cell_type": "markdown",
   "metadata": {
    "id": "jVFcWm3EriEZ"
   },
   "source": [
    "# Computer Lab 02c"
   ]
  },
  {
   "cell_type": "markdown",
   "metadata": {
    "id": "DBi4EFlPpZrX"
   },
   "source": [
    "1. Numpy attributes\n",
    "    - print out the value of __e__ using the **np.e** attribute.\n",
    "\n",
    "2. Matplotlib.pyplot\n",
    "    - import **matplotlib.pyplot** as **plt**\n",
    "    - use the magic command to be able to see plots in the notebook.\n",
    "    - create a list of angles called **thetas_in_radians**\n",
    "    - Use your array **thetas_in_radians** to generate an array of tangents (using the appropriate **NumPy** function (listed in the Lecture).\n",
    "    - Plot this array with **thetas_in_radians** on the X axis and your array of tangents on the y axis.  Draw the tangent with a red line.   \n",
    "    - Try different line styles,  different line widths, and colors.  (look at the **matplotlib.pyplot** API link, or use the Python **help( )** function.  \n",
    "    - Put on axis labels and a legend.  Play with the legend location. \n",
    "    - set the y limits to -1 and 1\n",
    "3. Numpy files\n",
    "    - save ***thetas_in_radians*** to a text file."
   ]
  },
  {
   "cell_type": "markdown",
   "metadata": {
    "id": "jb6TlMZRpZrX"
   },
   "source": [
    "# Computer Lab 02d"
   ]
  },
  {
   "cell_type": "markdown",
   "metadata": {
    "id": "ESAxSaNLpZrY"
   },
   "source": [
    "1. Panda DataFrames\n",
    "    - Import the file 'Datasets/dipole_coeffs.xlsx' into a panda DataFrame\n",
    "    - Get acquainted with the DataFrame:\n",
    "        - print out the name of the columns\n",
    "        - print out the first few lines of the DataFrame\n",
    "        - change the column headers \n",
    "        - print out the new column headers\n",
    "    - Add columns with dipole moment, pole latitude and longitude for each step\n",
    "    - Add a new column with dipole colatitude for each time step\n",
    "    - Add a new column with axial dipole / non-axial dipole (AD/NAD) for each time step\n",
    "2. Matplotlib plotting\n",
    "    - Make one new figure with the following subplots:\n",
    "        - Plot dipole colatitude with a red dashed line\n",
    "        - In a new subplot, draw AD/NAD as a blue line"
   ]
  },
  {
   "cell_type": "markdown",
   "metadata": {
    "id": "17ogBf7OMzhf"
   },
   "source": [
    "# Fin.\n",
    "\n",
    "Turn in your notebook using Canvas by next week (Weds). Make sure your notebook has the correct name. You will recieve a zero if 1) the notebook doesn't work or 2) you obviously copied from somebody else. ***Do your own work!***"
   ]
  },
  {
   "cell_type": "code",
   "execution_count": null,
   "metadata": {},
   "outputs": [],
   "source": []
  }
 ],
 "metadata": {
  "colab": {
   "collapsed_sections": [
    "Kb4Qlyo9LTlR",
    "PKEM6YrRnE3U",
    "jVFcWm3EriEZ"
   ],
   "include_colab_link": true,
   "provenance": []
  },
  "kernelspec": {
   "display_name": "Python 3 (ipykernel)",
   "language": "python",
   "name": "python3"
  },
  "language_info": {
   "codemirror_mode": {
    "name": "ipython",
    "version": 3
   },
   "file_extension": ".py",
   "mimetype": "text/x-python",
   "name": "python",
   "nbconvert_exporter": "python",
   "pygments_lexer": "ipython3",
   "version": "3.9.12"
  }
 },
 "nbformat": 4,
 "nbformat_minor": 1
}
