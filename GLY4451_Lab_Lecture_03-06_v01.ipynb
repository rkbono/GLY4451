{
 "cells": [
  {
   "cell_type": "markdown",
   "metadata": {
    "colab_type": "text",
    "id": "view-in-github"
   },
   "source": [
    "<a href=\"https://colab.research.google.com/github/rkbono/GLY4451/blob/main/GLY4451_Lab_Lecture_03-06_v01.ipynb\" target=\"_parent\"><img src=\"https://colab.research.google.com/assets/colab-badge.svg\" alt=\"Open In Colab\"/></a>"
   ]
  },
  {
   "cell_type": "code",
   "execution_count": 1,
   "metadata": {
    "ExecuteTime": {
     "end_time": "2020-03-26T23:43:23.835096Z",
     "start_time": "2020-03-26T23:43:23.817287Z"
    },
    "id": "LpNgCwpqNnwi"
   },
   "outputs": [],
   "source": [
    "# Pay no attention to this cell\n",
    "# All will be revealed in due time.\n",
    "import pandas as pd\n",
    "import os\n",
    "from pathlib import Path\n",
    "from IPython.display import Image"
   ]
  },
  {
   "cell_type": "code",
   "execution_count": 2,
   "metadata": {
    "id": "Ov6KU8OCNnwp"
   },
   "outputs": [
    {
     "name": "stdout",
     "output_type": "stream",
     "text": [
      "Not running on CoLab\n"
     ]
    }
   ],
   "source": [
    "# open('GLY4451/Datasets/sample.txt').readlines()\n",
    "if 'google.colab' in str(get_ipython()):\n",
    "  print('Running on CoLab')\n",
    "  fpath = 'GLY4451/'\n",
    "else:\n",
    "  print('Not running on CoLab')\n",
    "  fpath = './'"
   ]
  },
  {
   "cell_type": "markdown",
   "metadata": {
    "id": "r0mFkLnEmN2d"
   },
   "source": [
    "# Lecture 03\n",
    "\n",
    "- Learn about collections of variables: data structures \n",
    "\n",
    "- Learn about _objects_ \n",
    "- Learn about _methods_ which allow you to do things to _objects_"
   ]
  },
  {
   "cell_type": "markdown",
   "metadata": {
    "id": "XgD9Y9k6mN5N"
   },
   "source": [
    "## Data Structures\n",
    "\n",
    "Now that we know about variables, it would be handy to group them together in some way.  In Python there are many ways to do this: **lists, tuples**,  **dictionaries**, and **sets**, among others.    These group arbitrary variables and/or values together, (e.g., strings and integers and floats) in containers.\n",
    "\n",
    "We'll go through some of the various data structures, starting with **lists**.\n",
    "\n",
    "### Lists \n",
    "\n",
    "- Lists are denoted with [ ]  and can contain any arbitrary set of elements, including other lists!\n",
    "\n",
    "- Elements in the list are referenced by an index number (**index**).  Similar to the strings we encountered in the last lecture, the indices begin at 0.  Remember that this is different from what you may be  used to,  which would be that the first element is index 1; in Python, the first element is **index** 0.\n",
    "\n",
    "- You can  count from the end to the beginning by starting with -1 (the last item in the list), -2 (second to last), etc. \n",
    "\n",
    "- Lists have _methods_ that allow items to  be sorted, deleted, inserted, sliced, counted, concatenated, replaced, added on to, etc.\n",
    "\n",
    "\n",
    "Let's take a look at some examples: \n"
   ]
  },
  {
   "cell_type": "code",
   "execution_count": 3,
   "metadata": {
    "id": "JFeCT7g1o1Hp"
   },
   "outputs": [
    {
     "name": "stdout",
     "output_type": "stream",
     "text": [
      "['a', 2.0, '400', 'spam', 42, [24, 2]]\n"
     ]
    }
   ],
   "source": [
    "mylist=['a',2.0,'400','spam',42,[24,2]] # defines a list\n",
    "print (mylist) # prints the list"
   ]
  },
  {
   "cell_type": "markdown",
   "metadata": {
    "id": "uOjccQotmN71"
   },
   "source": [
    "But if we want to print out the third **element** in list we use **index** number 2: \n"
   ]
  },
  {
   "cell_type": "code",
   "execution_count": 4,
   "metadata": {
    "id": "adSWw8rqpGYu"
   },
   "outputs": [
    {
     "name": "stdout",
     "output_type": "stream",
     "text": [
      "400\n"
     ]
    }
   ],
   "source": [
    "print (mylist[2]) # print the third element in the list (starting from zero)"
   ]
  },
  {
   "cell_type": "markdown",
   "metadata": {
    "id": "GEcnJoPbmN-c"
   },
   "source": [
    "And similarly, to print the fourth **element** we use **index** number -1:"
   ]
  },
  {
   "cell_type": "code",
   "execution_count": 5,
   "metadata": {
    "id": "L86Gwfj5pGsm"
   },
   "outputs": [
    {
     "name": "stdout",
     "output_type": "stream",
     "text": [
      "[24, 2]\n"
     ]
    }
   ],
   "source": [
    "print (mylist[-1]) # print the last element"
   ]
  },
  {
   "cell_type": "markdown",
   "metadata": {
    "id": "ZfuwpAmqmOA9"
   },
   "source": [
    "But if you want to print, say, the last three **elements**, you can't do this: "
   ]
  },
  {
   "cell_type": "code",
   "execution_count": 6,
   "metadata": {
    "id": "0qh_KNfOpM_G"
   },
   "outputs": [
    {
     "name": "stdout",
     "output_type": "stream",
     "text": [
      "['spam', 42]\n"
     ]
    }
   ],
   "source": [
    "print (mylist[-3:-1])"
   ]
  },
  {
   "cell_type": "markdown",
   "metadata": {
    "id": "8KRcidG3mODu"
   },
   "source": [
    "This is because the slice **list[begin:end]** means from **index = begin** up to and _not including_ **index=end**.  To actually slice out the last three **elements**, you can do it this way:"
   ]
  },
  {
   "cell_type": "code",
   "execution_count": 7,
   "metadata": {
    "id": "V3CLgYb4mHK1"
   },
   "outputs": [
    {
     "name": "stdout",
     "output_type": "stream",
     "text": [
      "['spam', 42, [24, 2]]\n"
     ]
    }
   ],
   "source": [
    "print (mylist[-3:])"
   ]
  },
  {
   "cell_type": "code",
   "execution_count": 8,
   "metadata": {},
   "outputs": [
    {
     "data": {
      "text/plain": [
       "['a', 2.0, '400', 'spam']"
      ]
     },
     "execution_count": 8,
     "metadata": {},
     "output_type": "execute_result"
    }
   ],
   "source": [
    "mylist[:4]"
   ]
  },
  {
   "cell_type": "markdown",
   "metadata": {
    "id": "zAKmxkZgoUYu"
   },
   "source": [
    "Unlike strings, you can change list **elements** \"in place\".  By \"in place\" we mean that you don't have to assign it to a new variable name; the list gets change \"in place\":"
   ]
  },
  {
   "cell_type": "code",
   "execution_count": 9,
   "metadata": {
    "id": "g1iw8JwLpOde"
   },
   "outputs": [
    {
     "name": "stdout",
     "output_type": "stream",
     "text": [
      "['a', 26.3, '400', 'spam', 42, [24, 2]]\n"
     ]
    }
   ],
   "source": [
    "mylist[1]=26.3   # replaces the second element\n",
    "print (mylist)"
   ]
  },
  {
   "cell_type": "markdown",
   "metadata": {
    "id": "sYF8berVpc67"
   },
   "source": [
    "To delete, for example, the 4th **element** from a list, you can use the command **del**:"
   ]
  },
  {
   "cell_type": "code",
   "execution_count": 10,
   "metadata": {
    "id": "HcO_m_Pbpfma"
   },
   "outputs": [
    {
     "data": {
      "text/plain": [
       "['a', 26.3, '400', 42, [24, 2]]"
      ]
     },
     "execution_count": 10,
     "metadata": {},
     "output_type": "execute_result"
    }
   ],
   "source": [
    "del mylist[3] # deletes the fourth element \n",
    "mylist"
   ]
  },
  {
   "cell_type": "markdown",
   "metadata": {
    "id": "yM-AT_6BphBq"
   },
   "source": [
    "Like strings, you can  slice out a chunk of the middle of a list and assign it to another variable:"
   ]
  },
  {
   "cell_type": "code",
   "execution_count": 11,
   "metadata": {
    "id": "jU3kYifLpkPZ"
   },
   "outputs": [
    {
     "name": "stdout",
     "output_type": "stream",
     "text": [
      "[26.3, '400']\n"
     ]
    }
   ],
   "source": [
    "newlist=mylist[1:3] # takes the 2nd and third values and puts in newlist\n",
    "#note it takes out up to but not including the last item number \n",
    "print (newlist)"
   ]
  },
  {
   "cell_type": "markdown",
   "metadata": {
    "id": "6k2beGT-plwB"
   },
   "source": [
    "Making copies of lists behaves in ways you might not expect if you are coming from other programming languages.  We will learn more about copies of lists in later lectures, but here are some pro tips for now.  \n",
    "\n",
    "You can assign a list to another variable name like this: "
   ]
  },
  {
   "cell_type": "code",
   "execution_count": 12,
   "metadata": {
    "id": "xkcOhR15pobI"
   },
   "outputs": [],
   "source": [
    "mycopy=mylist"
   ]
  },
  {
   "cell_type": "markdown",
   "metadata": {
    "id": "AOkzOpPMpp_g"
   },
   "source": [
    "**mycopy** is now a _copy_ of **mylist**.  But it is inextricably bound to the original, so if I change one, I change the other.  This type of copy is known as a _shallow copy_. "
   ]
  },
  {
   "cell_type": "code",
   "execution_count": 13,
   "metadata": {
    "id": "Io4RKt73psw4"
   },
   "outputs": [
    {
     "name": "stdout",
     "output_type": "stream",
     "text": [
      "['a', 26.3, 'new', 42, [24, 2]]\n",
      "['a', 26.3, 'new', 42, [24, 2]]\n"
     ]
    }
   ],
   "source": [
    "mylist[2]='new'\n",
    "print (mylist)\n",
    "print (mycopy)"
   ]
  },
  {
   "cell_type": "markdown",
   "metadata": {
    "id": "Az28X9tuoBOW"
   },
   "source": [
    "See how **mycopy** was changed when we changed **mylist**?\n",
    "\n",
    "To spawn a list that is an independent object (a deep copy), you can do this:"
   ]
  },
  {
   "cell_type": "code",
   "execution_count": 14,
   "metadata": {
    "id": "MUHAPQh2oBOW"
   },
   "outputs": [
    {
     "name": "stdout",
     "output_type": "stream",
     "text": [
      "['a', 26.3, 'new', 42, [24, 2]]\n"
     ]
    },
    {
     "data": {
      "text/plain": [
       "['a', 26.3, 1003, 42, [24, 2]]"
      ]
     },
     "execution_count": 14,
     "metadata": {},
     "output_type": "execute_result"
    }
   ],
   "source": [
    "mycopy=mylist[:]\n",
    "# or\n",
    "mycopy = mylist.copy()\n",
    "# now try changing mylist... \n",
    "mylist[2]=1003\n",
    "print (mycopy) # if there are two things to print, use 'print'\n",
    "mylist # otherwise only prints the last one"
   ]
  },
  {
   "cell_type": "markdown",
   "metadata": {
    "id": "tIV_7DIopuV_"
   },
   "source": [
    "See how  _mycopy_  stayed the way it was, even as _mylist_ changed?  \n",
    "\n",
    "There are more ways to make shallow and deep copies of Python objects which we will explore later."
   ]
  },
  {
   "cell_type": "markdown",
   "metadata": {
    "id": "LuH-_ZltpxnP"
   },
   "source": [
    "### Objects in Python\n",
    "\n",
    "An object in Python is a collection that has _attributes_ and _methods_. The list variable _mylist_ is an example of an object - a _list_ object.  In fact they are **classes** which we will learn more about in later lectures, but I just wanted to mention them here.    \n",
    "\n",
    "So what is so special about _objects_?  Python objects have _methods_ which allow you to do things to the object.  Methods have the form:\n",
    "\n",
    "**object.method( )**\n",
    "\n",
    "or \n",
    "\n",
    "**object.method(argument1, argument2,...)**\n",
    "\n",
    "Here, **argument1** is something that can get passed into the method.  \n",
    "\n",
    "Let's look at a few examples starting with the **.append( )** method for lists (which appends something (the **argument**) to the end of a list). "
   ]
  },
  {
   "cell_type": "code",
   "execution_count": 17,
   "metadata": {},
   "outputs": [
    {
     "name": "stdout",
     "output_type": "stream",
     "text": [
      "[0, 1, 2, 3, 4, 5, 6, 7, 8, 9]\n"
     ]
    }
   ],
   "source": [
    "emptyList = []\n",
    "\n",
    "for ii in range(10):\n",
    "    emptyList.append(ii)\n",
    "\n",
    "print(emptyList)"
   ]
  },
  {
   "cell_type": "code",
   "execution_count": 18,
   "metadata": {
    "id": "1JutErjyp4V-"
   },
   "outputs": [
    {
     "name": "stdout",
     "output_type": "stream",
     "text": [
      "['a', 26.3, 1003, 42, [24, 2], 'why not?']\n"
     ]
    }
   ],
   "source": [
    "mylist.append('why not?') \n",
    "# append() is a method of lists that appends the argument 'why not?' to the list\n",
    "print (mylist)"
   ]
  },
  {
   "cell_type": "markdown",
   "metadata": {
    "id": "0kG-Ajhnp7dl"
   },
   "source": [
    "**.count( )** is another method.  Let's see what it does: "
   ]
  },
  {
   "cell_type": "code",
   "execution_count": 19,
   "metadata": {
    "id": "YOdQSlCFp9MO"
   },
   "outputs": [
    {
     "name": "stdout",
     "output_type": "stream",
     "text": [
      "2\n"
     ]
    }
   ],
   "source": [
    "mylist.append('why not?') \n",
    "print (mylist.count('why not?') )"
   ]
  },
  {
   "cell_type": "code",
   "execution_count": 21,
   "metadata": {},
   "outputs": [
    {
     "data": {
      "text/plain": [
       "['a', 26.3, 1003, 42, [24, 2], 'why not?', 'why not?']"
      ]
     },
     "execution_count": 21,
     "metadata": {},
     "output_type": "execute_result"
    }
   ],
   "source": [
    "mylist"
   ]
  },
  {
   "cell_type": "markdown",
   "metadata": {
    "id": "ru1pzSwIp-Td"
   },
   "source": [
    "The method .count( ) returns the number of times the argument occurs in the list. [NB: the argument is the stuff inside the parentheses of the method - in this case 'why not?'.]\n",
    "\n",
    "Another very handy list method is the .index( ) method. It returns the index of the desired argument in the list. For example, if we wanted to know what the index of the element, 42, is in mylist, we would type:\n",
    "\n"
   ]
  },
  {
   "cell_type": "code",
   "execution_count": 22,
   "metadata": {
    "id": "_9LuaH80qAfc"
   },
   "outputs": [
    {
     "name": "stdout",
     "output_type": "stream",
     "text": [
      "3\n"
     ]
    }
   ],
   "source": [
    "print (mylist.index(42) )"
   ]
  },
  {
   "cell_type": "markdown",
   "metadata": {
    "id": "wq7tijLyqCH8"
   },
   "source": [
    "These are just a few of the methods for lists. To view all of the methods for a list object, see:\n",
    "https://docs.python.org/tutorial/datastructures.html"
   ]
  },
  {
   "cell_type": "markdown",
   "metadata": {
    "id": "sYyPvNTVqEvk"
   },
   "source": [
    "### Making lists\n",
    "\n",
    "For example, we could make this list:  \n"
   ]
  },
  {
   "cell_type": "code",
   "execution_count": 23,
   "metadata": {
    "id": "-GWxirPYqHQ8"
   },
   "outputs": [
    {
     "name": "stdout",
     "output_type": "stream",
     "text": [
      "['naughty', 'nice']\n",
      "['naughty', 'nice']\n"
     ]
    }
   ],
   "source": [
    "santas_list=['naughty','nice']\n",
    "print (santas_list)\n",
    "# and check it twice\n",
    "print (santas_list)"
   ]
  },
  {
   "cell_type": "markdown",
   "metadata": {
    "id": "7h0GgPOUqOTC"
   },
   "source": [
    "#### More useful lists:  \n",
    "\n",
    "Earlier, we made a list by defining a variable with square brackets. We added to that list with **append( )**.  Another way to generate a list is to use **range( )**, which is one of the python  _built-in functions_ we mentioned in Lecture 2. The function **range( )** is a _list generator_ and can be used to generate a list of integers between two numbers,  the _start_ and _end_, where each number is separated by a specified interval. You can make a lisa from the generator like so:   **list(range(start,end,interval))**.  Note that **range**, like **list** slicing, goes up to but does not include _end_.  "
   ]
  },
  {
   "cell_type": "code",
   "execution_count": 24,
   "metadata": {
    "id": "bXi1JXJtqQ4q"
   },
   "outputs": [
    {
     "name": "stdout",
     "output_type": "stream",
     "text": [
      "[2, 6, 10, 14, 18]\n"
     ]
    }
   ],
   "source": [
    "# creates a list from 2 to 20 (not including 20!) at intervals of 4\n",
    "numlist=list(range(2,20,4)) \n",
    "print (numlist)\n"
   ]
  },
  {
   "cell_type": "markdown",
   "metadata": {
    "id": "Jlf30ibvqT6B"
   },
   "source": [
    "### Tuples\n",
    "\n",
    "**Tuples** are another important object in Python that are similar to lists, but have important differences.  They are denoted by parentheses ( ) and  consist of  values separated by commas.  \n",
    "Like lists, they can contain different elements, but unlike lists, the elements cannot be changed in place. Their primary use is to pass information into and out of programs as we shall see in the coming lectures.  \n",
    "\n",
    "\n",
    "Similar to both lists and strings, you can slice, concatenate, etc. For more see: \n",
    " \n",
    " http://docs.python.org/tutorial/datastructures.html#tuples-and-sequences\n",
    "\n",
    "Here is one way to generate a tuple: "
   ]
  },
  {
   "cell_type": "code",
   "execution_count": 25,
   "metadata": {
    "id": "xQU7sU5lqYBq"
   },
   "outputs": [
    {
     "name": "stdout",
     "output_type": "stream",
     "text": [
      "(1234, 2.0, 'hello')\n"
     ]
    }
   ],
   "source": [
    "t = 1234, 2.0, 'hello'\n",
    "print (t)"
   ]
  },
  {
   "cell_type": "markdown",
   "metadata": {
    "id": "whxFEgeWqZaI"
   },
   "source": [
    "Or, the other way around:"
   ]
  },
  {
   "cell_type": "code",
   "execution_count": 26,
   "metadata": {
    "id": "MCcVxDiIqbro"
   },
   "outputs": [
    {
     "name": "stdout",
     "output_type": "stream",
     "text": [
      "1234\n",
      "2.0\n",
      "hello\n"
     ]
    }
   ],
   "source": [
    "a,b,c=t\n",
    "print (a)\n",
    "print (b)\n",
    "print (c)"
   ]
  },
  {
   "cell_type": "markdown",
   "metadata": {
    "id": "RYiLNM-mqc4Y"
   },
   "source": [
    "You can access an element in a tuple by using the index number, exactly like a list."
   ]
  },
  {
   "cell_type": "code",
   "execution_count": 27,
   "metadata": {
    "id": "gYTmdWpWqe8n"
   },
   "outputs": [
    {
     "data": {
      "text/plain": [
       "1234"
      ]
     },
     "execution_count": 27,
     "metadata": {},
     "output_type": "execute_result"
    }
   ],
   "source": [
    "t[0]"
   ]
  },
  {
   "cell_type": "markdown",
   "metadata": {
    "id": "WEujua3fqgkv"
   },
   "source": [
    "But, you can't change it: "
   ]
  },
  {
   "cell_type": "code",
   "execution_count": 28,
   "metadata": {
    "id": "hF300j0jqmk_"
   },
   "outputs": [
    {
     "ename": "TypeError",
     "evalue": "'tuple' object does not support item assignment",
     "output_type": "error",
     "traceback": [
      "\u001b[0;31m---------------------------------------------------------------------------\u001b[0m",
      "\u001b[0;31mTypeError\u001b[0m                                 Traceback (most recent call last)",
      "\u001b[0;32m/var/folders/1s/wjx12t_j5h7gnb2g26c4dv8h0000gn/T/ipykernel_74792/1760176530.py\u001b[0m in \u001b[0;36m<module>\u001b[0;34m\u001b[0m\n\u001b[0;32m----> 1\u001b[0;31m \u001b[0mt\u001b[0m\u001b[0;34m[\u001b[0m\u001b[0;36m0\u001b[0m\u001b[0;34m]\u001b[0m\u001b[0;34m=\u001b[0m\u001b[0;34m'haha'\u001b[0m\u001b[0;34m\u001b[0m\u001b[0;34m\u001b[0m\u001b[0m\n\u001b[0m\u001b[1;32m      2\u001b[0m \u001b[0mprint\u001b[0m \u001b[0;34m(\u001b[0m\u001b[0mt\u001b[0m\u001b[0;34m)\u001b[0m\u001b[0;34m\u001b[0m\u001b[0;34m\u001b[0m\u001b[0m\n",
      "\u001b[0;31mTypeError\u001b[0m: 'tuple' object does not support item assignment"
     ]
    }
   ],
   "source": [
    "t[0]='haha'\n",
    "print (t)"
   ]
  },
  {
   "cell_type": "markdown",
   "metadata": {
    "id": "T6zGN_4Hqio3"
   },
   "source": [
    "### Sets\n",
    "\n",
    "There are  more data structures that comes in handy and one is  the _set_. They are denoted with curly braces { }.  A set \"contains an unordered collection of unique and immutable objects.\"   \n",
    "\n",
    "You can create _sets_ in several ways.   The first would be the use the python built-in **set( )** function on a list: "
   ]
  },
  {
   "cell_type": "code",
   "execution_count": 29,
   "metadata": {
    "id": "3Fo0Q73UqrZG"
   },
   "outputs": [
    {
     "data": {
      "text/plain": [
       "{42, 'ocelot', 'spam'}"
      ]
     },
     "execution_count": 29,
     "metadata": {},
     "output_type": "execute_result"
    }
   ],
   "source": [
    "S1=set(['spam','ocelot',42])\n",
    "S1"
   ]
  },
  {
   "cell_type": "markdown",
   "metadata": {
    "id": "aG3aLfVbqssN"
   },
   "source": [
    "Notice how the order changed.\n",
    "\n",
    "Also, notice what happens if we violate the \"unique\" part of the definition:"
   ]
  },
  {
   "cell_type": "code",
   "execution_count": 30,
   "metadata": {
    "id": "7RyL3fvPquo9"
   },
   "outputs": [
    {
     "data": {
      "text/plain": [
       "{'ocelot', 'spam'}"
      ]
     },
     "execution_count": 30,
     "metadata": {},
     "output_type": "execute_result"
    }
   ],
   "source": [
    "S2=set(['spam','ocelot','ocelot'])\n",
    "S2"
   ]
  },
  {
   "cell_type": "markdown",
   "metadata": {
    "id": "SI8kFQ5eqw01"
   },
   "source": [
    "Only one of the ocelots made it into the set. [By the way, \"ocelot\" is another Monty Python joke - look it up if you like.] \n",
    "\n",
    "Sets contain immutable objects, but they themselves can be changed. For a more complete list of methods see:  \n",
    "\n",
    "https://www.python-course.eu/python3_sets_frozensets.php\n",
    "\n",
    "\n",
    "But here are a few:"
   ]
  },
  {
   "cell_type": "code",
   "execution_count": 31,
   "metadata": {
    "id": "6t9FtFU0q3Qj"
   },
   "outputs": [
    {
     "name": "stdout",
     "output_type": "stream",
     "text": [
      "{42, 'spam', 'ocelot'}\n",
      "{42, 'spam', 'chocolate', 'ocelot'}\n"
     ]
    }
   ],
   "source": [
    "# add\n",
    "print (S1) \n",
    "S1.add('chocolate')\n",
    "print (S1)"
   ]
  },
  {
   "cell_type": "code",
   "execution_count": 32,
   "metadata": {
    "id": "f0FLPk2_q4rL"
   },
   "outputs": [
    {
     "data": {
      "text/plain": [
       "set()"
      ]
     },
     "execution_count": 32,
     "metadata": {},
     "output_type": "execute_result"
    }
   ],
   "source": [
    "# clear \n",
    "S2.clear() \n",
    "S2"
   ]
  },
  {
   "cell_type": "markdown",
   "metadata": {
    "id": "OCqFLsdvq54j"
   },
   "source": [
    "See how S2 is now just an empty set object _set( )_.\n",
    "\n",
    "Now let's try copying **S1**. "
   ]
  },
  {
   "cell_type": "code",
   "execution_count": 33,
   "metadata": {
    "id": "CpuAg3wyq72P"
   },
   "outputs": [
    {
     "name": "stdout",
     "output_type": "stream",
     "text": [
      "{42, 'spam', 'chocolate', 'ocelot'}\n",
      "set()\n",
      "{42, 'spam', 'chocolate', 'ocelot'}\n"
     ]
    }
   ],
   "source": [
    "# copy\n",
    "S2=S1.copy()\n",
    "print (S2)\n",
    "S1.clear()\n",
    "print (S1)\n",
    "print (S2)"
   ]
  },
  {
   "cell_type": "markdown",
   "metadata": {
    "id": "C62Qo4GGq9U_"
   },
   "source": [
    "the **.copy( )** method for sets does not work like copying lists - it made an independent object **S2** which did not clear when **S1** got cleared.  \n",
    "\n",
    "**.difference** is another handy method - it can be used to find what is different about two sets. "
   ]
  },
  {
   "cell_type": "code",
   "execution_count": 34,
   "metadata": {
    "id": "jyB0kap3rAvO"
   },
   "outputs": [
    {
     "data": {
      "text/plain": [
       "{42}"
      ]
     },
     "execution_count": 34,
     "metadata": {},
     "output_type": "execute_result"
    }
   ],
   "source": [
    "# difference\n",
    "S1=set(['spam','ocelot',42])\n",
    "S2=set(['spam','ocelot'])\n",
    "S1.difference(S2)"
   ]
  },
  {
   "cell_type": "markdown",
   "metadata": {
    "id": "-fIAcw77rC1m"
   },
   "source": [
    "But - you say - you want to know what is the **same** in two sets.  For that, use the **.intersection** method.  "
   ]
  },
  {
   "cell_type": "code",
   "execution_count": 35,
   "metadata": {
    "id": "vpWwxmKurFJ2"
   },
   "outputs": [
    {
     "data": {
      "text/plain": [
       "{'ocelot', 'spam'}"
      ]
     },
     "execution_count": 35,
     "metadata": {},
     "output_type": "execute_result"
    }
   ],
   "source": [
    "# intersection\n",
    "S1.intersection(S2)"
   ]
  },
  {
   "cell_type": "markdown",
   "metadata": {
    "id": "mckUXmmrrGW9"
   },
   "source": [
    "There is a nice short cut for this:"
   ]
  },
  {
   "cell_type": "code",
   "execution_count": 36,
   "metadata": {
    "id": "n6AK8S9PrIS1"
   },
   "outputs": [
    {
     "data": {
      "text/plain": [
       "{'ocelot', 'spam'}"
      ]
     },
     "execution_count": 36,
     "metadata": {},
     "output_type": "execute_result"
    }
   ],
   "source": [
    "S1&S2"
   ]
  },
  {
   "cell_type": "markdown",
   "metadata": {
    "id": "XfzL5S2erJal"
   },
   "source": [
    "Finally, you can define a set just using curly braces:"
   ]
  },
  {
   "cell_type": "code",
   "execution_count": 37,
   "metadata": {
    "id": "WdzrBPmLrLT9"
   },
   "outputs": [
    {
     "data": {
      "text/plain": [
       "{42, 'Ni', 'spamalot'}"
      ]
     },
     "execution_count": 37,
     "metadata": {},
     "output_type": "execute_result"
    }
   ],
   "source": [
    "S3={42,'spamalot','Ni'}\n",
    "S3"
   ]
  },
  {
   "cell_type": "markdown",
   "metadata": {
    "id": "Mcr_-zLWNjb7"
   },
   "source": [
    "# Lecture 4:\n",
    "\n",
    "- Learn more about another useful data structure, **dictionaries** and some of their **methods**\n",
    "\n",
    "- Introduce special Python code blocks\n",
    "\n",
    "- Learn about \"for\" loops, \"while\" loops and \"if\" blocks"
   ]
  },
  {
   "cell_type": "markdown",
   "metadata": {
    "id": "wvoDH3sLoBOd"
   },
   "source": [
    "## Dictionaries!\n",
    "\n",
    "Our next container is the Python **dictionary**. These are denoted by \\{ \\}.  They are  somewhat like lists, but instead of integer **indices**, they use alphanumeric (letters and numbers) **keys**:\n",
    "I love dictionaries.  So here is a bit more about them.\n",
    "\n",
    "One way to define a **dictionary** is with the curly braces, keys and values syntax like this: \n"
   ]
  },
  {
   "cell_type": "code",
   "execution_count": 38,
   "metadata": {
    "id": "K32-1rk1oBOd"
   },
   "outputs": [
    {
     "name": "stdout",
     "output_type": "stream",
     "text": [
      "{'bono': 46265, 'office': 46205, 'maglab': 41933}\n"
     ]
    }
   ],
   "source": [
    "telnos={'bono':46265,'office':46205,'maglab':41933} # defines a dictionary of  telephone extensions\n",
    "print (telnos)"
   ]
  },
  {
   "cell_type": "markdown",
   "metadata": {
    "id": "vnyloBMkoBOd"
   },
   "source": [
    "The keys are 'bono', 'office', and 'maglab' and the values are 46265, 46205, and  41933.  To return the value associated with a specific key, use square brackets with the key name:"
   ]
  },
  {
   "cell_type": "code",
   "execution_count": 39,
   "metadata": {
    "id": "T9fdNgTzoBOd"
   },
   "outputs": [
    {
     "name": "stdout",
     "output_type": "stream",
     "text": [
      "46265\n"
     ]
    }
   ],
   "source": [
    "print (telnos['bono'])"
   ]
  },
  {
   "cell_type": "markdown",
   "metadata": {
    "id": "ejfjRFN3oBOd"
   },
   "source": [
    " To change a key's value:"
   ]
  },
  {
   "cell_type": "code",
   "execution_count": 40,
   "metadata": {
    "id": "c-zzUiKSoBOe"
   },
   "outputs": [],
   "source": [
    "telnos['bono']=12345"
   ]
  },
  {
   "cell_type": "markdown",
   "metadata": {
    "id": "P3LnKJ0BoBOe"
   },
   "source": [
    "To add a new key and value:"
   ]
  },
  {
   "cell_type": "code",
   "execution_count": 41,
   "metadata": {
    "id": "PcocILrQoBOe"
   },
   "outputs": [
    {
     "name": "stdout",
     "output_type": "stream",
     "text": [
      "{'bono': 12345, 'office': 46205, 'maglab': 41933, 'library': 45534}\n"
     ]
    }
   ],
   "source": [
    "telnos['library']=45534\n",
    "print (telnos)"
   ]
  },
  {
   "cell_type": "markdown",
   "metadata": {
    "id": "eY9vKMsnoBOe"
   },
   "source": [
    "Like the other containers we learned about in Lecture 3, dictionaries also have  **methods**.\n",
    "\n",
    "One useful one can generate a **list** of all the **keys**:"
   ]
  },
  {
   "cell_type": "code",
   "execution_count": 42,
   "metadata": {
    "id": "r4MmK2YAoBOe"
   },
   "outputs": [
    {
     "name": "stdout",
     "output_type": "stream",
     "text": [
      "['bono', 'office', 'maglab', 'library']\n"
     ]
    }
   ],
   "source": [
    "print(list(telnos.keys())) # returns an unordered list of the keys"
   ]
  },
  {
   "cell_type": "markdown",
   "metadata": {
    "id": "FA7muajUoBOe"
   },
   "source": [
    "Or, for a _sorted_ list of keys, you can use **sorted**.  "
   ]
  },
  {
   "cell_type": "code",
   "execution_count": 43,
   "metadata": {
    "id": "QwkCbdvsoBOe"
   },
   "outputs": [
    {
     "name": "stdout",
     "output_type": "stream",
     "text": [
      "['bono', 'library', 'maglab', 'office']\n"
     ]
    }
   ],
   "source": [
    "print (sorted(telnos.keys()))"
   ]
  },
  {
   "cell_type": "markdown",
   "metadata": {
    "id": "Eng24vXLoBOe"
   },
   "source": [
    "Another **list** generator called **values**  can be used to generate a list of all the values (duh): "
   ]
  },
  {
   "cell_type": "code",
   "execution_count": 44,
   "metadata": {
    "id": "bt1_g5GToBOe"
   },
   "outputs": [
    {
     "name": "stdout",
     "output_type": "stream",
     "text": [
      "[12345, 46205, 41933, 45534]\n"
     ]
    }
   ],
   "source": [
    "print (list(telnos.values()))"
   ]
  },
  {
   "cell_type": "markdown",
   "metadata": {
    "id": "UyeMIoWnoBOf"
   },
   "source": [
    "There are other ways to create dictionaries.  The **dict( )** constructor can make a dictionary directly from a **list** containing key-value **tuples**:  "
   ]
  },
  {
   "cell_type": "code",
   "execution_count": 45,
   "metadata": {
    "id": "CFjyM_y6oBOf"
   },
   "outputs": [
    {
     "name": "stdout",
     "output_type": "stream",
     "text": [
      "{'bono': 46265, 'office': 46205, 'maglab': 41933}\n"
     ]
    }
   ],
   "source": [
    "print (dict([('bono',46265),('office',46205),('maglab',41933)]))"
   ]
  },
  {
   "cell_type": "markdown",
   "metadata": {
    "id": "Y1VN0RNsoBOf"
   },
   "source": [
    "For a more complete description of dictionaries,  see: \n",
    "\n",
    "http://docs.python.org/tutorial/datastructures.html#dictionaries\n"
   ]
  },
  {
   "cell_type": "markdown",
   "metadata": {
    "id": "_uMoCcTOoBOf"
   },
   "source": [
    "## Code blocks\n",
    "\n",
    "We are about ready to start writing a \"real\" program.  First we need to talk about the structure of a python program and the concept of the 'code block'. \n",
    "\n",
    "Every programming language provides a way to group blocks of code together and execute them under certain conditions.  Python uses indentation to define the code blocks and this also makes the code more readable. \n",
    "\n",
    "A common form for a code block  starts with a _condition_ statement (if this is _True_) terminated by a colon (:). Most often, this condition statement would be followed by an indented code block that is executed, if the statement is _True_. \n",
    "\n",
    " A typical Python program looks like this: \n"
   ]
  },
  {
   "cell_type": "markdown",
   "metadata": {
    "id": "I4iEPMpCoBOf"
   },
   "source": [
    "program statement\n",
    "\n",
    "block 1 condition statement:\n",
    "\n",
    "    block 1 statement\n",
    "\n",
    "    block 1 statement \\\n",
    "\n",
    "         Break in the indentation convention!\n",
    "\n",
    "    block 1 statement\n",
    "\n",
    "    block 2 condition statement:\n",
    "\n",
    "        block 2 statement\n",
    "\n",
    "        block 2 statement\n",
    "\n",
    "        block 3 condition statement:\n",
    "\n",
    "            block 3 statement\n",
    "\n",
    "            block 3 statement\n",
    "\n",
    "            block 4 condition statement: block 4 single line of code\n",
    "\n",
    "        block 2 statement\n",
    "\n",
    "        block 2 statement\n",
    "\n",
    "    block 1 statement\n",
    "\n",
    "    block 1 statement\n",
    "\n",
    "program statement\n",
    "\n"
   ]
  },
  {
   "cell_type": "markdown",
   "metadata": {
    "id": "upD8VjA6oBOf"
   },
   "source": [
    "Exceptions to the code indentation rules are:\n",
    "\n",
    "- Statements can be continued on the next line with the continuation character $\\backslash$ and the indentation of the following line is arbitrary.  In Python 3, the backslash is not always required, but it is certainly recommended (by me) for clarity.  \n",
    "\n",
    "- If a code block consists of a single statement, then that may be placed on the same line as the colon (see block 4 above).  \n",
    "\n",
    "- The command \"break\" breaks you out of the code block. Use with caution!\n",
    "\n",
    "- There is a cheat that comes in handy when you are writing a complicated program and want to put in the code blocks but don't want them to DO anything yet:  the command  **pass** does nothing and can be used to stand in for a code block.\n",
    "\n",
    "\n",
    "\n",
    "\n",
    "\n",
    "\n"
   ]
  },
  {
   "cell_type": "markdown",
   "metadata": {
    "id": "nELC-6w5oBOf"
   },
   "source": [
    "**TIP:**  Use only spaces or only tabs to indent your code. Jupyter notebooks try to guess what you want and will indent for you, for example, after a statement terminating in a colon.  \n",
    "\n",
    "Whatever you do BE CONSISTENT because tabs are not the same as spaces in Python. Even if you can't tell the difference just by looking at it, Python knows and will complain about it!\n",
    "\n"
   ]
  },
  {
   "cell_type": "markdown",
   "metadata": {
    "id": "rUU-ySYFoBOg"
   },
   "source": [
    "## Conditional statements\n",
    "\n",
    "Conditions  statements are statements like:  \"x is greater than y\", which evaluate to either **True** or **False**.  \n",
    "\n",
    "In Python we would use a  _relational operator_ __>__  for the \"is greater than\" test so the question \"is x is greater than y?\" is written:  **x>y**\n",
    "\n",
    "We already encountered a few _relational operators_ in Lecture 2, but  here is a more complete list  of those that are frequently used in condition statements:  \n",
    "\n",
    "\"==\"  means \"equals\";  A==B (Does A equal B?)\n",
    "\n",
    "\"!=\" means \"does not equal\";  A!=B (Is A not equal to B?)\n",
    "\n",
    "\"<\" means \"less than\"\n",
    "\n",
    "\"<=\" means \"less than or equal to\"\n",
    "\n",
    "\">\" means \"greater than\"\n",
    "\n",
    "\">=\" means \"greater than or equal to\"\n",
    "\n",
    "Conditions (like A==B)  can be combined with **and** or **or**  to make complex tests. For example **((A==B) and (C!=D))**.  Both have to be true for the condition to evaluate as **True**.  \n",
    "Alternatively for **((A==B) or (C!=D))**, only one has to be true for the condition to evaluate as **True**.   \n",
    "\n",
    "\n"
   ]
  },
  {
   "cell_type": "markdown",
   "metadata": {
    "id": "k4ue8KJpoBOg"
   },
   "source": [
    "### \"while\" loops\n",
    "\n",
    "The **while** loop  executes a code block while some condition is **True**. \n",
    "\n",
    "**TIP:**  Be VERY CAREFUL with these as they will go on and on and on and on if the condition stays True.  For example the statement __while 1:__  will always be **True** and would be a very dangerous condition statement to make.  If that happens to you, just save your notebook and select \"Close and Halt\" under \"File\" and restart your notebook. OH, and then take the statement OUT! \n",
    "\n",
    "Let's practice making a code block using a **while** loop.  We will set a variable $N$ to some number (100) and decrement $N$ by 1 until it reaches a _threshold_ (90). When $N$ is no longer greater than the threshold, the code block will terminate.  \n",
    "\n"
   ]
  },
  {
   "cell_type": "code",
   "execution_count": 46,
   "metadata": {
    "id": "OIguNRZ7oBOg"
   },
   "outputs": [
    {
     "name": "stdout",
     "output_type": "stream",
     "text": [
      "100\n",
      "99\n",
      "98\n",
      "97\n",
      "96\n",
      "95\n",
      "94\n",
      "93\n",
      "92\n",
      "91\n",
      "and the final value is:  90\n"
     ]
    }
   ],
   "source": [
    "N=100 # define the variable N to be 100\n",
    "threshold=90 # define some threshold to be 90\n",
    "\n",
    "# while the condition in the () is True, the program will continue\n",
    "while (N > threshold):  # is N greater then threshold?  if so, execute the indented code block\n",
    "    print (N)  # what it says\n",
    "    N-=1  # decriment N by one\n",
    "print ('and the final value is: ',N) # now we're done we'll see what is left of N."
   ]
  },
  {
   "cell_type": "markdown",
   "metadata": {
    "id": "-A1O7s1WoBOg"
   },
   "source": [
    "### \"if\" statements\n",
    "\n",
    "In an **if** statement, the code-block is executed (once)  if the condition is _True_.\n",
    "\n",
    "Here is a  simple **if** statement:"
   ]
  },
  {
   "cell_type": "code",
   "execution_count": 47,
   "metadata": {
    "id": "Zzks_XfVoBOg"
   },
   "outputs": [
    {
     "name": "stdout",
     "output_type": "stream",
     "text": [
      "where did N go?\n"
     ]
    }
   ],
   "source": [
    "# We can re-use N which was used in an earlier script (assuming it was run!):\n",
    "if (N < 100): # Is N less than 100?  \n",
    "    print (\"where did N go?\") # if so, print this.   \n",
    "# if not - you need to re-execute the while loop above this one.  \n",
    " \n",
    "\n"
   ]
  },
  {
   "cell_type": "markdown",
   "metadata": {
    "id": "X93frTuyoBOg"
   },
   "source": [
    "There are additional conditions that you can  include in the **if** statements.  In Python these are:  **elif**  (short for \"else if\") which means if the first **if** statment is _False_, but the statement following **elif**  is _True_, then do something. Another is **else**, which means \"otherwise\". \n",
    "\n",
    "  Consider these examples:"
   ]
  },
  {
   "cell_type": "code",
   "execution_count": 48,
   "metadata": {
    "id": "BJFsz65yoBOg"
   },
   "outputs": [
    {
     "name": "stdout",
     "output_type": "stream",
     "text": [
      "Temperate region\n"
     ]
    }
   ],
   "source": [
    "latitude  = 32.7 # define a variable 'latitude'\n",
    "\n",
    "if (latitude < 24): \n",
    "    print(\"Tropical region\")\n",
    "elif (latitude> 24 and latitude < 66):\n",
    "    print(\"Temperate region\")\n",
    "else:\n",
    "    print(\"Polar region\")"
   ]
  },
  {
   "cell_type": "markdown",
   "metadata": {
    "id": "EHsn_AUVoBOg"
   },
   "source": [
    "**in** is another Python _reserved word_ (remember from Lecture 2) that checks if a particular value is \"in\" a **list** (or **tuple** or **set**):  "
   ]
  },
  {
   "cell_type": "code",
   "execution_count": 49,
   "metadata": {
    "id": "A9ceCeeNoBOg"
   },
   "outputs": [],
   "source": [
    "mylist=['jane','josh','sid','geoff'] # define a list"
   ]
  },
  {
   "cell_type": "code",
   "execution_count": 51,
   "metadata": {
    "id": "yDbwUecId2IG"
   },
   "outputs": [
    {
     "name": "stdout",
     "output_type": "stream",
     "text": [
      "susie in list but george isn't\n"
     ]
    }
   ],
   "source": [
    "if 'susie' in mylist:  # if the string \"susie\" is in the list, then \n",
    "    pass # don't do anything\n",
    "if 'susie' not in mylist:\n",
    "    print ('call susie and apologize!')\n",
    "    mylist.append('susie')\n",
    "elif 'george' in mylist: # if the last if statement is false, try this one\n",
    "    print ('susie and george both in list') \n",
    "else: # if both statements are false, do this:\n",
    "    print (\"susie in list but george isn't\")"
   ]
  },
  {
   "cell_type": "markdown",
   "metadata": {
    "id": "Jxa9HkmWoBOh"
   },
   "source": [
    "### \"for\" loops\n",
    "\n",
    "\n",
    "The **for** loop allows you to step through a **list** (or **tuple**, among other things) sequentially. It  assigns the first element to a variable name, say, $x$,  perform some operation on it and then return to the top of the loop and assign the next element to the same variable name.  \n",
    "\n",
    "For example, if we have a list $L = [1,2,3]$,  this loop will assign each element in $L$ to the variable $x$, square it, and then print the result.  "
   ]
  },
  {
   "cell_type": "code",
   "execution_count": 52,
   "metadata": {
    "id": "5ekdDoh2oBOh"
   },
   "outputs": [
    {
     "name": "stdout",
     "output_type": "stream",
     "text": [
      "1 1\n",
      "2 4\n",
      "3 9\n"
     ]
    }
   ],
   "source": [
    "L = [1,2,3] # define the list 'L'\n",
    "\n",
    "\n",
    "# step through the list assigning each element to the variable, x\n",
    "for x in L: # x is assigned to each element in turn\n",
    "    print (x, x*x ) # or we could have written print (x**2)"
   ]
  },
  {
   "cell_type": "markdown",
   "metadata": {
    "id": "FCh8iNOToBOh"
   },
   "source": [
    "As a second example of a **for** loop, we can use the **list** generated by the dictionary method **dict.keys()**:"
   ]
  },
  {
   "cell_type": "code",
   "execution_count": 53,
   "metadata": {
    "id": "s5kze7-boBOh"
   },
   "outputs": [
    {
     "name": "stdout",
     "output_type": "stream",
     "text": [
      "List of keys in telnos:  ['bono', 'office', 'maglab', 'library']\n",
      "bono\n",
      "office\n",
      "maglab\n",
      "library\n"
     ]
    }
   ],
   "source": [
    "# print out the list generated\n",
    "print ('List of keys in telnos: ',list(telnos.keys() )) # here you need the list() function\n",
    "# notice the slightly fancier form of the print statement above.\n",
    "\n",
    "# now step through that list, \n",
    "   # assigning each element to the variable key\n",
    "for key in telnos.keys():  # just use the list generator (we don't need the list() function)\n",
    "    print (key) # print out the variable, key"
   ]
  },
  {
   "cell_type": "markdown",
   "metadata": {
    "id": "ZzOixRNVoBOh"
   },
   "source": [
    "What just happened?  The **for** statement assigned each element in the **list** generated by the method **telnos.keys( )** to the variable **key** and then printed each element out. The **for** statement loops through the entire **list**, one element at a time."
   ]
  },
  {
   "cell_type": "markdown",
   "metadata": {
    "id": "AMC-sJ3MoBOh"
   },
   "source": [
    "## Nested loops\n",
    "\n",
    "You can build a series of loops within loops (_nested loops_).    \n",
    "\n",
    "Remember that everything within an indented code block is executed completely before moving on to the next code block.  \n",
    "\n",
    "\n"
   ]
  },
  {
   "cell_type": "code",
   "execution_count": null,
   "metadata": {
    "id": "FRFhoIS2oBOh"
   },
   "outputs": [],
   "source": [
    "# define a dictionary of telephone extensions:\n",
    "telnos={'bono':46265,'office':46205,'maglab':41933} # defines a dictionary of  telephone extensions\n",
    "keys=telnos.keys() # make a list generator of the dictionary keys\n",
    "busy=True # define the boolean 'busy' as True\n",
    "# step through the list generator of the dictionary keys, \n",
    "# assigning each key to the variable 'key'\n",
    "for key in keys:\n",
    "    print (key) # print the variable 'key' (the name)\n",
    "    num=telnos[key] # assign the value of the key (the telephone number) to 'num'\n",
    "    if num == 46265: # conditional statement, if the number is 46265, then\n",
    "        # print the message identifying the key that this value belongs to\n",
    "        print (key+\"'s number\") \n",
    "        while busy: # If 'busy' is still 'True', then print the message \"she's on the phone\"\n",
    "            print (\"they are on the phone\")\n",
    "            busy=False # set 'busy' to 'False'\n",
    "            "
   ]
  },
  {
   "cell_type": "markdown",
   "metadata": {
    "id": "FPuWKDDeoBOh"
   },
   "source": [
    "# Lecture 5:\n",
    "\n",
    "- Learn about functions\n",
    "\n",
    "- Discover the joys of modules \n",
    "\n",
    "\n"
   ]
  },
  {
   "cell_type": "markdown",
   "metadata": {
    "id": "zWJsTZZSoBOi"
   },
   "source": [
    "### Code re-use\n",
    "\n",
    "You can imagine that there are many bits of code that you'll want to use over and over again. For example, in Python the trigonometry functions require radians, but we Earth Scientists typically think in terms of degrees. It would be helpful to convert back and forth between degrees and radians.  Or,  you might want to  find the great circle distance between two points on Earth, or convert between Universal Transverse Mercator (UTM - a special map projection with units of meters) and the more familiar latitude and longitude coordinates. This is where Python _functions_ are come in handy.  You can define a bit of code, assign it a name and a list of input _arguments_, and then keep re-using it anytime you  like.  Or, you can save it to a file in your _Python_ code directory (see Lecture 1) and import it into any notebook or command line script any time you like.  \n",
    "\n",
    "We've already used _built-in functions_, for example **list( )**, which takes a list generator as an argument and then makes an actual **list_** out of it.  Now it is time to learn how to write your own functions.  \n",
    "\n",
    "The most common structure of a  Python function is to supply some input (IN), do something to the input (RULE), then return the output (OUT).  "
   ]
  },
  {
   "cell_type": "code",
   "execution_count": 54,
   "metadata": {
    "id": "lAWsHjvPoBOi"
   },
   "outputs": [
    {
     "data": {
      "image/png": "[encoded data removed]",
      "text/plain": [
       "<IPython.core.display.Image object>"
      ]
     },
     "execution_count": 54,
     "metadata": {},
     "output_type": "execute_result"
    }
   ],
   "source": [
    "Image(fpath+'Figures/function-machine.png')"
   ]
  },
  {
   "cell_type": "markdown",
   "metadata": {
    "id": "gmUIG1p1oBOi"
   },
   "source": [
    "Here is an example of a Python function:"
   ]
  },
  {
   "cell_type": "code",
   "execution_count": 55,
   "metadata": {
    "id": "9-kEh-ZioBOi"
   },
   "outputs": [],
   "source": [
    "\n",
    "def FUNCNAME(in_args):  \n",
    "    \"\"\"   \n",
    "    DOC STRING    \n",
    "    \"\"\"\n",
    "    out_args=in_args # ok - not very fancy....   \n",
    "    \n",
    "    return out_args"
   ]
  },
  {
   "cell_type": "markdown",
   "metadata": {
    "id": "PYtIZhUZoBOj"
   },
   "source": [
    "### Line by line analysis\n",
    "\n",
    "**def FUNCNAME(in_args):**\n",
    "\n",
    "__def__     \n",
    "- the first line of a function must have __def__ as the first three letters, it warns Python that you're defining a function \n",
    "\n",
    "**FUNCNAME**  \n",
    "- **def** must be followed by the name of the function \n",
    "\n",
    "__in_args__ \n",
    "- This is the equivalent of the left 'arm' of the function in the cartoon, labelled 'IN'.  The objects in the parentheses are called _arguments_. One or more arguments can be passed to the function when it's called and are specified between the parentheses. In this example, __in_args__ (a single variable) is passed to the function FUNCNAME. In general,  input arguments can range from none (e.g.,  **FUNCNAME( )**) to many comma separated variables (e.g., FUNCNAME(variable_1, variable_2, variable_3)).  It is also possible to have optional variables, but we will get to that later.   \n",
    "\n",
    "\n",
    "\n",
    "__:__         \n",
    "- the first line of a function always ends with a terminal colon \n",
    "\n",
    "___________________________\n",
    "\n",
    "\n",
    "    \"\"\"\n",
    "    DOC STRING\n",
    "    \"\"\"\n",
    "\n",
    "\n",
    "\n",
    "The line or lines between the triple quotes right after the function definition line is a _doc string_.  Here you write a description of what the function does, which can be accessed later by using the by now familiar **help( )** function. \n",
    "\n",
    "**help(FUNCNAME)** will print out the doc string.  \n",
    "\n",
    "Make a habit of using the doc string to explain what the function does. It is most helpful to have an explanation of what the input arguments are (type of object and what it is for) and what the returned objects are.  \n",
    "___________________________\n",
    "\n",
    "\n",
    "The body of the function does something.\n",
    "\n",
    "___________________________\n",
    "\n",
    "There is an optional **return** statement that can return the results of whatever the function did.  \n",
    "\n"
   ]
  },
  {
   "cell_type": "code",
   "execution_count": 56,
   "metadata": {
    "id": "httrMDcyoBOj"
   },
   "outputs": [
    {
     "name": "stdout",
     "output_type": "stream",
     "text": [
      "Help on function FUNCNAME in module __main__:\n",
      "\n",
      "FUNCNAME(in_args)\n",
      "    DOC STRING\n",
      "\n"
     ]
    }
   ],
   "source": [
    "help(FUNCNAME)"
   ]
  },
  {
   "cell_type": "markdown",
   "metadata": {
    "id": "tkpP-ak4oBOk"
   },
   "source": [
    "### The Doc String\n",
    "\n",
    "Although you can certainly write functional code without a document string, make a habit of always including one.  Trust me - you'll be glad you did and anyone using your code will be super grateful for any hints you give.  The __Doc String__ briefly describes what the code does; weeks after you've written your code, it will remind you of what you did.  In addition, you can use it to print out a help message that lets others know what the program does.  You should define what the input and output variables are and what the function does. I like the form: \n",
    "\n",
    "\"\"\"\n",
    "This function doesn't do much.\n",
    "\n",
    "Parameters:\n",
    "\n",
    "---------------\n",
    "in_args : str\n",
    "\n",
    "    The input string\n",
    "    \n",
    "Returns: \n",
    "\n",
    "---------------\n",
    "\n",
    "out_args : str\n",
    "\n",
    "    The output string (in this case the same as the input string).\n",
    "\"\"\"\n",
    "\n",
    "\n",
    "To make this point a little more clearly, you will __LOSE POINTS ON YOUR HOMEWORK IF YOU DO NOT PUT DOC STRINGS INTO YOUR FUNCTIONS__.  Ok, that is a bit hard ball, but it will help you make good programming habits.  \n",
    "\n",
    "\n",
    "Notice the use of the triple quotes before and after the documentation string - this means that you can write as many lines as you want.  \n",
    "\n",
    "### Function body\n",
    "This is equivalanet to the body of the cartoon function labeled 'RULE'.   This part of the function code must be indented, just like in a **for** loop, or other blocks of code.  \n",
    " The code can be as simple as **pass** which does nothing.  Our example function just assigns the variable $in\\_args$ to a new variable name $out\\_args$.\n",
    " \n",
    "### Return statement\n",
    "\n",
    "  Python separates the input and output arguments. Incoming arguments are passed in through the **def** statement ($in\\_args$ in the example function) and returning arguments get shipped out with the **return** statement, which is the equivalent of the 'OUT' arm in our cartoon function.   In the example function,  $out\\_args$ gets returned to the caller.  \n",
    "  \n",
    "  So, let's try it out: \n"
   ]
  },
  {
   "cell_type": "code",
   "execution_count": 57,
   "metadata": {
    "id": "nnxqMXXGoBOk"
   },
   "outputs": [
    {
     "name": "stdout",
     "output_type": "stream",
     "text": [
      "Four\n",
      "Four\n"
     ]
    }
   ],
   "source": [
    "\n",
    "# this calls the function with the input variables, in_args\n",
    "\n",
    "    \n",
    "print (FUNCNAME('Four'))\n",
    "\n",
    "# or alternatively: \n",
    "\n",
    "returned_value=FUNCNAME('Four')\n",
    "print (returned_value)\n"
   ]
  },
  {
   "cell_type": "markdown",
   "metadata": {
    "id": "_c1CdRXuoBOk"
   },
   "source": [
    "  There are many more sophisticated possibilities, but for now, here is a simple one with   \n",
    " no input arguments, just a **return** statement:"
   ]
  },
  {
   "cell_type": "code",
   "execution_count": 58,
   "metadata": {
    "id": "Pc1wrgrcoBOk"
   },
   "outputs": [
    {
     "name": "stdout",
     "output_type": "stream",
     "text": [
      "3.141592653589793\n",
      "6.283185307179586\n"
     ]
    }
   ],
   "source": [
    "def gimmepi():  # define the function\n",
    "    \"\"\"\n",
    "    returns the value of pi\n",
    "    \n",
    "    Parameters:\n",
    "    ____________\n",
    "        None\n",
    "    Returns:\n",
    "    ___________\n",
    "       The value of pi\n",
    "    \"\"\"\n",
    "    return 3.141592653589793\n",
    "print (gimmepi())\n",
    "\n",
    "twoPi = 2*gimmepi()\n",
    "print (twoPi)\n",
    "\n"
   ]
  },
  {
   "cell_type": "markdown",
   "metadata": {
    "id": "FF27CTFXoBOk"
   },
   "source": [
    "And let's try out the help function for more practice:"
   ]
  },
  {
   "cell_type": "code",
   "execution_count": 59,
   "metadata": {
    "id": "sQAqAG6HoBOk"
   },
   "outputs": [
    {
     "name": "stdout",
     "output_type": "stream",
     "text": [
      "Help on function gimmepi in module __main__:\n",
      "\n",
      "gimmepi()\n",
      "    returns the value of pi\n",
      "    \n",
      "    Parameters:\n",
      "    ____________\n",
      "        None\n",
      "    Returns:\n",
      "    ___________\n",
      "       The value of pi\n",
      "\n"
     ]
    }
   ],
   "source": [
    "help(gimmepi)"
   ]
  },
  {
   "cell_type": "markdown",
   "metadata": {
    "id": "FAbP1tkToBOk"
   },
   "source": [
    "### Passing arguments\n",
    "\n",
    "There are three different ways to pass arguments into a function:\n",
    "\n",
    "1)  You could use a fixed number of arguments\n",
    "\n",
    "This function has only one argument:\n"
   ]
  },
  {
   "cell_type": "code",
   "execution_count": 60,
   "metadata": {
    "id": "E1tQ-SCSoBOl"
   },
   "outputs": [
    {
     "name": "stdout",
     "output_type": "stream",
     "text": [
      "42 degrees in radians is:  0.7330382858376184\n"
     ]
    }
   ],
   "source": [
    "def degrees_to_radians(degrees):  \n",
    "    \"\"\"\n",
    "    converts degrees to radians\n",
    "    Parameters:\n",
    "    ___________\n",
    "        degrees : float\n",
    "            degrees to convert to radians\n",
    "    Returns:\n",
    "    ________\n",
    "        radians : float\n",
    "            degrees converted to radians\n",
    "    \"\"\"\n",
    "    radians=degrees*gimmepi()/180.\n",
    "    return radians\n",
    "print ('42 degrees in radians is: ',degrees_to_radians(42))"
   ]
  },
  {
   "cell_type": "markdown",
   "metadata": {
    "id": "zyUmUpStoBOl"
   },
   "source": [
    "2) Another way to pass arguments is with a variable number of input arguments.  Functions that accept a variable number of arguments are called _variadic functions_.\n",
    "You do this by putting  __\\*args__ at the end of the list of  required arguments if any.\n",
    "\n"
   ]
  },
  {
   "cell_type": "code",
   "execution_count": 61,
   "metadata": {
    "id": "Eb_l_1wVoBOl"
   },
   "outputs": [
    {
     "name": "stdout",
     "output_type": "stream",
     "text": [
      "(1, 4, 'hi there')\n",
      "You sent me these arguments: \n",
      "1\n",
      "4\n",
      "hi there\n",
      "(42,)\n",
      "You sent me these arguments: \n",
      "42\n"
     ]
    }
   ],
   "source": [
    "def print_args(*args):\n",
    "    \"\"\"\n",
    "    prints argument list\n",
    "    Parameters:\n",
    "    ____________\n",
    "        *args : tuple of input arguments\n",
    "    Returns: \n",
    "    ________\n",
    "         None\n",
    "    \"\"\"\n",
    "    print (args)  # args is a tuple that you can step through (like a list)\n",
    "    print ('You sent me these arguments: ')\n",
    "    for arg in args: # steps through the argument tuple\n",
    "        print (arg)\n",
    "print_args(1,4,'hi there')\n",
    "print_args(42)"
   ]
  },
  {
   "cell_type": "markdown",
   "metadata": {
    "id": "cwnusc01oBOl"
   },
   "source": [
    "Notice how the arguments are actually passed as a tuple....   (One very common use of tuples).  "
   ]
  },
  {
   "cell_type": "markdown",
   "metadata": {
    "id": "Ao8xUD1voBOl"
   },
   "source": [
    "3) Another way to pass in arguments is to use any number  of keyword-value pairs.  This is done by putting __\\*\\*kwargs__ as the last argument in the argument list.   **kwargs** stands for key word arguments and is treated like a **dictionary** in the function.  \n",
    "\n",
    "\n"
   ]
  },
  {
   "cell_type": "code",
   "execution_count": 62,
   "metadata": {
    "id": "QId6JLX1oBOl"
   },
   "outputs": [
    {
     "name": "stdout",
     "output_type": "stream",
     "text": [
      "{'arg1': 'spam', 'arg2': 42, 'arg3': 'ocelot'}\n",
      "arg1 spam\n",
      "arg2 42\n",
      "arg3 ocelot\n"
     ]
    }
   ],
   "source": [
    "def print_keyword_arguments(**kwargs):\n",
    "    \"\"\"\n",
    "    prints keyword argument list\n",
    "    Parameters:\n",
    "    _____________\n",
    "        **kwargs : dict\n",
    "            input dictionary of arguments\n",
    "    Returns:\n",
    "    ________\n",
    "        None\n",
    "    \"\"\"\n",
    "    print (kwargs) # kwargs is a dictionary with key:value pairs\n",
    "    for key in kwargs:\n",
    "        print (key, kwargs[key])\n",
    "    \n",
    "print_keyword_arguments(arg1='spam',arg2=42,arg3='ocelot')\n",
    "# ocelot is another Monty Python joke about Brian (from Life of Brian) trying to \n",
    "# sell \"Larks' tongues, Otters' noses and Ocelot spleens.  yummy. "
   ]
  },
  {
   "cell_type": "markdown",
   "metadata": {
    "id": "g-BGj9fGoBOl"
   },
   "source": [
    "### Main program as a function\n",
    " \n",
    " It is considered good Python style to treat your main program block as a function too.  This helps with using the document string as a help function and building program documentation in general.  In any case, I recommend that you just start doing it that way too.  In this case,  we have to call the main program with the final (not indented) line \n",
    " \n",
    "**main( )**\n",
    "\n",
    "See how it is done in the following: "
   ]
  },
  {
   "cell_type": "code",
   "execution_count": 63,
   "metadata": {
    "id": "wHvcVjfgoBOl"
   },
   "outputs": [
    {
     "name": "stdout",
     "output_type": "stream",
     "text": [
      "arg1 spam\n",
      "arg2 42\n",
      "arg3 ocelot\n"
     ]
    }
   ],
   "source": [
    "def print_keyword_arguments(**kwargs): # same function as before\n",
    "    \"\"\"\n",
    "    prints keyword argument list\n",
    "    Parameters:\n",
    "    _____________\n",
    "        **kwargs : dict\n",
    "            input dictionary of arguments\n",
    "    Returns:\n",
    "    ________\n",
    "        None\n",
    "    \"\"\"\n",
    "    for key in kwargs:\n",
    "        print (key, kwargs[key])  \n",
    "\n",
    "def main(): # new function called \"main\"\n",
    "    \"\"\"\n",
    "    calls function print_kwargs\n",
    "    \"\"\"\n",
    "    print_keyword_arguments(arg1='spam',arg2=42,arg3='ocelot')\n",
    "    \n",
    "main()  # runs the main program\n",
    "\n"
   ]
  },
  {
   "cell_type": "markdown",
   "metadata": {
    "id": "4_w4IM-woBOl"
   },
   "source": [
    "\n",
    "Notice how all the functions precede the **main( )** function.  This is because Python is  not compiled and executes things in order. All of the functions and variables must be defined before they're called, otherwise the interpreter won't recognize them.  \n",
    "\n",
    "You may wonder how we've called functions (e.g., **str( )**, **int( )**, and **float( )**) that we did not define in our script. These are more _built in_ Python functions that are accessible to every Python script.\n",
    "\n",
    "### Modules\n",
    "\n",
    "What if you wanted to use functions that are defined in a different script written either by future you or by some other helpful soul?\n",
    "\n",
    "You can define many functions in a separate script called a _module_, and **import** that script into your current script.  Then you can call those functions in the module from within your program."
   ]
  },
  {
   "cell_type": "markdown",
   "metadata": {
    "id": "5zyEXkIzoBOm"
   },
   "source": [
    "So let's say I put some functions in a file called \n",
    "**myfuncs.py**.  To do this, we can use the %%writefile magic Jupyter notebook command you learned about in Lecture 1. "
   ]
  },
  {
   "cell_type": "code",
   "execution_count": 64,
   "metadata": {
    "id": "1Mn_k0BXoBOm"
   },
   "outputs": [
    {
     "name": "stdout",
     "output_type": "stream",
     "text": [
      "Writing myfuncs.py\n"
     ]
    }
   ],
   "source": [
    "%%writefile myfuncs.py\n",
    "## module myfuncs\n",
    "def gimmepi():  \n",
    "    \"\"\"\n",
    "    returns the value of pi\n",
    "    \n",
    "    Parameters:\n",
    "    ____________\n",
    "        None\n",
    "    Returns:\n",
    "    ___________\n",
    "       The value of pi\n",
    "    \"\"\"\n",
    "    return 3.141592653589793\n",
    "def degrees_to_radians(degrees):  \n",
    "    \"\"\"\n",
    "    converts degrees to radians\n",
    "    Parameters:\n",
    "    ___________\n",
    "        degrees : float\n",
    "            degrees to convert to radians\n",
    "    Returns:\n",
    "    ________\n",
    "        radians : float\n",
    "            degrees converted to radians\n",
    "    \"\"\"\n",
    "    radians=degrees*3.141592653589793/180.\n",
    "    return radians\n",
    "def print_args(*args):\n",
    "    \"\"\"\n",
    "    prints argument list\n",
    "    Parameters:\n",
    "    ____________\n",
    "        *args : tuple of input arguments\n",
    "    Returns: \n",
    "    ________\n",
    "         None\n",
    "    \"\"\"\n",
    "    print ('You sent me these arguments: ')\n",
    "    for arg in args:\n",
    "        print (arg)\n"
   ]
  },
  {
   "cell_type": "markdown",
   "metadata": {
    "id": "mRCnHWYvoBOm"
   },
   "source": [
    "By the way, there are many so-called _magic_ commands available in a Jupyter notebook.  For a complete list, just type:"
   ]
  },
  {
   "cell_type": "code",
   "execution_count": 65,
   "metadata": {
    "id": "4KzRLrMKoBOm"
   },
   "outputs": [
    {
     "data": {
      "application/json": {
       "cell": {
        "!": "OSMagics",
        "HTML": "Other",
        "SVG": "Other",
        "bash": "Other",
        "capture": "ExecutionMagics",
        "debug": "ExecutionMagics",
        "file": "Other",
        "html": "DisplayMagics",
        "javascript": "DisplayMagics",
        "js": "DisplayMagics",
        "latex": "DisplayMagics",
        "markdown": "DisplayMagics",
        "perl": "Other",
        "prun": "ExecutionMagics",
        "pypy": "Other",
        "python": "Other",
        "python2": "Other",
        "python3": "Other",
        "ruby": "Other",
        "script": "ScriptMagics",
        "sh": "Other",
        "svg": "DisplayMagics",
        "sx": "OSMagics",
        "system": "OSMagics",
        "time": "ExecutionMagics",
        "timeit": "ExecutionMagics",
        "writefile": "OSMagics"
       },
       "line": {
        "alias": "OSMagics",
        "alias_magic": "BasicMagics",
        "autoawait": "AsyncMagics",
        "autocall": "AutoMagics",
        "automagic": "AutoMagics",
        "autosave": "KernelMagics",
        "bookmark": "OSMagics",
        "cat": "Other",
        "cd": "OSMagics",
        "clear": "KernelMagics",
        "colors": "BasicMagics",
        "conda": "PackagingMagics",
        "config": "ConfigMagics",
        "connect_info": "KernelMagics",
        "cp": "Other",
        "debug": "ExecutionMagics",
        "dhist": "OSMagics",
        "dirs": "OSMagics",
        "doctest_mode": "BasicMagics",
        "ed": "Other",
        "edit": "KernelMagics",
        "env": "OSMagics",
        "gui": "BasicMagics",
        "hist": "Other",
        "history": "HistoryMagics",
        "killbgscripts": "ScriptMagics",
        "ldir": "Other",
        "less": "KernelMagics",
        "lf": "Other",
        "lk": "Other",
        "ll": "Other",
        "load": "CodeMagics",
        "load_ext": "ExtensionMagics",
        "loadpy": "CodeMagics",
        "logoff": "LoggingMagics",
        "logon": "LoggingMagics",
        "logstart": "LoggingMagics",
        "logstate": "LoggingMagics",
        "logstop": "LoggingMagics",
        "ls": "Other",
        "lsmagic": "BasicMagics",
        "lx": "Other",
        "macro": "ExecutionMagics",
        "magic": "BasicMagics",
        "man": "KernelMagics",
        "matplotlib": "PylabMagics",
        "mkdir": "Other",
        "more": "KernelMagics",
        "mv": "Other",
        "notebook": "BasicMagics",
        "page": "BasicMagics",
        "pastebin": "CodeMagics",
        "pdb": "ExecutionMagics",
        "pdef": "NamespaceMagics",
        "pdoc": "NamespaceMagics",
        "pfile": "NamespaceMagics",
        "pinfo": "NamespaceMagics",
        "pinfo2": "NamespaceMagics",
        "pip": "PackagingMagics",
        "popd": "OSMagics",
        "pprint": "BasicMagics",
        "precision": "BasicMagics",
        "prun": "ExecutionMagics",
        "psearch": "NamespaceMagics",
        "psource": "NamespaceMagics",
        "pushd": "OSMagics",
        "pwd": "OSMagics",
        "pycat": "OSMagics",
        "pylab": "PylabMagics",
        "qtconsole": "KernelMagics",
        "quickref": "BasicMagics",
        "recall": "HistoryMagics",
        "rehashx": "OSMagics",
        "reload_ext": "ExtensionMagics",
        "rep": "Other",
        "rerun": "HistoryMagics",
        "reset": "NamespaceMagics",
        "reset_selective": "NamespaceMagics",
        "rm": "Other",
        "rmdir": "Other",
        "run": "ExecutionMagics",
        "save": "CodeMagics",
        "sc": "OSMagics",
        "set_env": "OSMagics",
        "store": "StoreMagics",
        "sx": "OSMagics",
        "system": "OSMagics",
        "tb": "ExecutionMagics",
        "time": "ExecutionMagics",
        "timeit": "ExecutionMagics",
        "unalias": "OSMagics",
        "unload_ext": "ExtensionMagics",
        "who": "NamespaceMagics",
        "who_ls": "NamespaceMagics",
        "whos": "NamespaceMagics",
        "xdel": "NamespaceMagics",
        "xmode": "BasicMagics"
       }
      },
      "text/plain": [
       "Available line magics:\n",
       "%alias  %alias_magic  %autoawait  %autocall  %automagic  %autosave  %bookmark  %cat  %cd  %clear  %colors  %conda  %config  %connect_info  %cp  %debug  %dhist  %dirs  %doctest_mode  %ed  %edit  %env  %gui  %hist  %history  %killbgscripts  %ldir  %less  %lf  %lk  %ll  %load  %load_ext  %loadpy  %logoff  %logon  %logstart  %logstate  %logstop  %ls  %lsmagic  %lx  %macro  %magic  %man  %matplotlib  %mkdir  %more  %mv  %notebook  %page  %pastebin  %pdb  %pdef  %pdoc  %pfile  %pinfo  %pinfo2  %pip  %popd  %pprint  %precision  %prun  %psearch  %psource  %pushd  %pwd  %pycat  %pylab  %qtconsole  %quickref  %recall  %rehashx  %reload_ext  %rep  %rerun  %reset  %reset_selective  %rm  %rmdir  %run  %save  %sc  %set_env  %store  %sx  %system  %tb  %time  %timeit  %unalias  %unload_ext  %who  %who_ls  %whos  %xdel  %xmode\n",
       "\n",
       "Available cell magics:\n",
       "%%!  %%HTML  %%SVG  %%bash  %%capture  %%debug  %%file  %%html  %%javascript  %%js  %%latex  %%markdown  %%perl  %%prun  %%pypy  %%python  %%python2  %%python3  %%ruby  %%script  %%sh  %%svg  %%sx  %%system  %%time  %%timeit  %%writefile\n",
       "\n",
       "Automagic is ON, % prefix IS NOT needed for line magics."
      ]
     },
     "execution_count": 65,
     "metadata": {},
     "output_type": "execute_result"
    }
   ],
   "source": [
    "%lsmagic"
   ]
  },
  {
   "cell_type": "markdown",
   "metadata": {
    "id": "YqjJq9b9oBOm"
   },
   "source": [
    "Now you can **import myfuncs**, which will make all your hard work available to you in your notebook.  To access a particular function, use the syntax **module.function( )**.  Here is an example:"
   ]
  },
  {
   "cell_type": "code",
   "execution_count": 66,
   "metadata": {
    "id": "twHGr958oBOm"
   },
   "outputs": [
    {
     "data": {
      "text/plain": [
       "3.141592653589793"
      ]
     },
     "execution_count": 66,
     "metadata": {},
     "output_type": "execute_result"
    }
   ],
   "source": [
    "import myfuncs # this will import your module\n",
    "myfuncs.gimmepi()  # this just runs the gimmepi() function.  "
   ]
  },
  {
   "cell_type": "markdown",
   "metadata": {
    "id": "LqOMFzn9oBOm"
   },
   "source": [
    "And some other things become possible like getting the document string.  You can use **help( )** as before, or you can get the doc string this way:"
   ]
  },
  {
   "cell_type": "code",
   "execution_count": 67,
   "metadata": {
    "id": "1uxGk6sfoBOm"
   },
   "outputs": [
    {
     "name": "stdout",
     "output_type": "stream",
     "text": [
      "\n",
      "    prints argument list\n",
      "    Parameters:\n",
      "    ____________\n",
      "        *args : tuple of input arguments\n",
      "    Returns: \n",
      "    ________\n",
      "         None\n",
      "    \n"
     ]
    }
   ],
   "source": [
    "print (myfuncs.print_args.__doc__) # note that the __ is actually two underscores - not one\n"
   ]
  },
  {
   "cell_type": "markdown",
   "metadata": {
    "id": "D3isYSktoBOm"
   },
   "source": [
    "**TIP:**   One thing that you might want to do is modify a module you are writing and then re-import it.  This used to be possible with a _built-in_ function **reload( )**.  But now we have to import **reload** from  the module **importlib** like this: "
   ]
  },
  {
   "cell_type": "code",
   "execution_count": 68,
   "metadata": {
    "id": "-e-n7KS3oBOn"
   },
   "outputs": [],
   "source": [
    "from importlib import reload"
   ]
  },
  {
   "cell_type": "markdown",
   "metadata": {
    "id": "jHANIvivoBOn"
   },
   "source": [
    "Now you can change your **myfuncs.py** module and reload it like this: "
   ]
  },
  {
   "cell_type": "code",
   "execution_count": 69,
   "metadata": {
    "id": "VepUDAp1oBOn"
   },
   "outputs": [
    {
     "name": "stdout",
     "output_type": "stream",
     "text": [
      "Overwriting myfuncs.py\n"
     ]
    }
   ],
   "source": [
    "%%writefile myfuncs.py\n",
    "## module myfuncs\n",
    "def gimmepi():  \n",
    "    \"\"\"\n",
    "    returns the value of pi\n",
    "    \"\"\"\n",
    "    return 3.141592653589793\n",
    "def degrees_to_radians(degrees):  \n",
    "    \"\"\"\n",
    "    converts degrees to radians\n",
    "    \"\"\"\n",
    "    return degrees*3.141592653589793/180.\n",
    "def print_args(*args):\n",
    "    \"\"\"\n",
    "    prints out argument list\n",
    "    \"\"\"\n",
    "    print ('The arguments were: ')\n",
    "    for arg in args:\n",
    "        print (arg)\n"
   ]
  },
  {
   "cell_type": "code",
   "execution_count": 70,
   "metadata": {
    "id": "9BsU3tTYoBOn"
   },
   "outputs": [
    {
     "name": "stdout",
     "output_type": "stream",
     "text": [
      "Help on function gimmepi in module __main__:\n",
      "\n",
      "gimmepi()\n",
      "    returns the value of pi\n",
      "    \n",
      "    Parameters:\n",
      "    ____________\n",
      "        None\n",
      "    Returns:\n",
      "    ___________\n",
      "       The value of pi\n",
      "\n"
     ]
    }
   ],
   "source": [
    "reload(myfuncs)\n",
    "help(gimmepi)"
   ]
  },
  {
   "cell_type": "markdown",
   "metadata": {
    "id": "-Jiy04iLoBOn"
   },
   "source": [
    "### Scope of variables\n",
    "\n",
    "Inside a function,  variable names have their own meaning  which in many cases will be different from outside the calling function.  So,  variables names declared inside a function stay in the function.  \n",
    "\n",
    "  \n"
   ]
  },
  {
   "cell_type": "code",
   "execution_count": 71,
   "metadata": {
    "id": "6Mxxhb9toBOn"
   },
   "outputs": [
    {
     "ename": "NameError",
     "evalue": "name 'V' is not defined",
     "output_type": "error",
     "traceback": [
      "\u001b[0;31m---------------------------------------------------------------------------\u001b[0m",
      "\u001b[0;31mNameError\u001b[0m                                 Traceback (most recent call last)",
      "\u001b[0;32m/var/folders/1s/wjx12t_j5h7gnb2g26c4dv8h0000gn/T/ipykernel_74792/1004861898.py\u001b[0m in \u001b[0;36m<module>\u001b[0;34m\u001b[0m\n\u001b[1;32m      4\u001b[0m     \u001b[0mLasVegas\u001b[0m\u001b[0;34m(\u001b[0m\u001b[0;34m)\u001b[0m\u001b[0;34m\u001b[0m\u001b[0;34m\u001b[0m\u001b[0m\n\u001b[1;32m      5\u001b[0m     \u001b[0mprint\u001b[0m \u001b[0;34m(\u001b[0m\u001b[0mV\u001b[0m\u001b[0;34m)\u001b[0m\u001b[0;34m\u001b[0m\u001b[0;34m\u001b[0m\u001b[0m\n\u001b[0;32m----> 6\u001b[0;31m \u001b[0mmain\u001b[0m\u001b[0;34m(\u001b[0m\u001b[0;34m)\u001b[0m\u001b[0;34m\u001b[0m\u001b[0;34m\u001b[0m\u001b[0m\n\u001b[0m\u001b[1;32m      7\u001b[0m \u001b[0;34m\u001b[0m\u001b[0m\n",
      "\u001b[0;32m/var/folders/1s/wjx12t_j5h7gnb2g26c4dv8h0000gn/T/ipykernel_74792/1004861898.py\u001b[0m in \u001b[0;36mmain\u001b[0;34m()\u001b[0m\n\u001b[1;32m      3\u001b[0m \u001b[0;32mdef\u001b[0m \u001b[0mmain\u001b[0m\u001b[0;34m(\u001b[0m\u001b[0;34m)\u001b[0m\u001b[0;34m:\u001b[0m\u001b[0;34m\u001b[0m\u001b[0;34m\u001b[0m\u001b[0m\n\u001b[1;32m      4\u001b[0m     \u001b[0mLasVegas\u001b[0m\u001b[0;34m(\u001b[0m\u001b[0;34m)\u001b[0m\u001b[0;34m\u001b[0m\u001b[0;34m\u001b[0m\u001b[0m\n\u001b[0;32m----> 5\u001b[0;31m     \u001b[0mprint\u001b[0m \u001b[0;34m(\u001b[0m\u001b[0mV\u001b[0m\u001b[0;34m)\u001b[0m\u001b[0;34m\u001b[0m\u001b[0;34m\u001b[0m\u001b[0m\n\u001b[0m\u001b[1;32m      6\u001b[0m \u001b[0mmain\u001b[0m\u001b[0;34m(\u001b[0m\u001b[0;34m)\u001b[0m\u001b[0;34m\u001b[0m\u001b[0;34m\u001b[0m\u001b[0m\n\u001b[1;32m      7\u001b[0m \u001b[0;34m\u001b[0m\u001b[0m\n",
      "\u001b[0;31mNameError\u001b[0m: name 'V' is not defined"
     ]
    }
   ],
   "source": [
    "def LasVegas():\n",
    "    V=123\n",
    "def main():\n",
    "    LasVegas()\n",
    "    print (V)\n",
    "main()\n",
    "\n"
   ]
  },
  {
   "cell_type": "markdown",
   "metadata": {
    "id": "6GDCH8J8oBOn"
   },
   "source": [
    "What happened in  **LasVegas** stayed in **LasVegas** because **V** was defined in the function and doesn't exist outside.   \n",
    "\n",
    "This is true unless you declare a variable  to be _global_. Then it is known outside the function.   \n",
    "\n",
    "Here is an example in which the main program  \"knows\" about the function's variable **V**. "
   ]
  },
  {
   "cell_type": "code",
   "execution_count": 72,
   "metadata": {
    "id": "4CDTGenGoBOn"
   },
   "outputs": [
    {
     "name": "stdout",
     "output_type": "stream",
     "text": [
      "123\n"
     ]
    }
   ],
   "source": [
    "def Tallahassee():\n",
    "    global V\n",
    "    V=123\n",
    "def main():\n",
    "    Tallahassee()\n",
    "    print (V)\n",
    "main()\n"
   ]
  },
  {
   "cell_type": "markdown",
   "metadata": {
    "id": "KxLMca4goBOo"
   },
   "source": [
    "oops - what happened in **Tallahassee** didn't stay in Tallahassee.  \n",
    "\n",
    "In addition to writing your own functions, modules, and programs, Python has many _built-in_ functions and modules that you can import. We already encountered a few _built in_ functions (for example **int( )**) but there are many more.  And there are many more **modules** which we will use shortly. We'll spend the quarter exploring some of these modules, which include plotting, numerical recipes, trig functions, image manipulation, animation, and more. "
   ]
  },
  {
   "cell_type": "code",
   "execution_count": 73,
   "metadata": {
    "id": "r2ZqB5q0oBOo"
   },
   "outputs": [],
   "source": [
    "# a little housekeeping\n",
    "os.remove('myfuncs.py')"
   ]
  },
  {
   "cell_type": "markdown",
   "metadata": {
    "id": "IcBWlRFMoBOo"
   },
   "source": [
    "# Lecture 6:\n",
    "\n",
    "- get a first peek at the very useful Python packages called **NumPy** and **matplotlib**\n",
    "\n"
   ]
  },
  {
   "cell_type": "markdown",
   "metadata": {
    "id": "ZRDdXbaMoBOo"
   },
   "source": [
    "In the last lecture we learned how to create modules.  These are  files that contain one or more functions and variables.  They can be imported and used in other programs or notebooks, saving us a lot of time and headache.   \n",
    "\n",
    "A Python _package_ contains a collection of modules that are related to each other.  Our first _package_ is one of the most useful ones for us science types:  **NumPy**.  \n",
    "\n",
    "\n",
    "### A first look at NumPy\n",
    "\n",
    "O.K.  First of all - how do you pronounce \"NumPy\"'? It should be pronounced \"Num\" as in \"Number\" and \"Pie\" as in, well, pie, or Python.  It is way more fun to say Numpee! I try to suppress this urge.  \n",
    "\n",
    "Now with that out of the way, what can we do with **NumPy**?  Turns out, a whole heck of a lot!  But for now, we will just scratch the surface.   For starters, **NumPy**  can give us the value of the square root of a number with the function **numpy.sqrt( )**.  Note how the package name comes first, then the function we wish to use (just as in our example from the last lecture).  \n",
    "\n",
    "To use **NumPy** functions, we must first **import** the package with the command **import**.  It may take a while the first time you use **import** after installing Python, but after that it should load quickly.  \n",
    "\n",
    "We encountered **import** very briefly in the last lecture.  Now it is time to go deeper.  There are many different ways you can use the **import** command. Each way allows your program to access  the functions and variables defined in the imported package, but differs in how you call the function after importing: "
   ]
  },
  {
   "cell_type": "code",
   "execution_count": 74,
   "metadata": {
    "id": "Od4RfUOXoBOo"
   },
   "outputs": [
    {
     "data": {
      "text/plain": [
       "1.4142135623730951"
      ]
     },
     "execution_count": 74,
     "metadata": {},
     "output_type": "execute_result"
    }
   ],
   "source": [
    "import numpy\n",
    "\n",
    "#This makes all the functions in NumPy available to you, \n",
    "#but you have to call them with the numpy.FUNC() syntax\n",
    "\n",
    "numpy.sqrt(2)\n"
   ]
  },
  {
   "cell_type": "code",
   "execution_count": 77,
   "metadata": {
    "id": "K-uj8itnoBOo"
   },
   "outputs": [
    {
     "data": {
      "text/plain": [
       "1.4142135623730951"
      ]
     },
     "execution_count": 77,
     "metadata": {},
     "output_type": "execute_result"
    }
   ],
   "source": [
    "# Here is another way to import a module:  \n",
    "import numpy as np  # or any other variable e.g.:  N\n",
    "# This does the same as the first, but allows you to set NumPy with a nickname\n",
    "\n",
    "# In this case, you substitute \"np\" for numpy:\n",
    "\n",
    "np.sqrt(2)  # or N.pi in the second case. \n",
    "\n",
    "# Note: Some folks in the NumPy community use N; I use np. \n",
    "# That seems to be the most common way now."
   ]
  },
  {
   "cell_type": "markdown",
   "metadata": {
    "id": "YQgEwL-toBOo"
   },
   "source": [
    "To import all the functions from NumPy: "
   ]
  },
  {
   "cell_type": "code",
   "execution_count": null,
   "metadata": {
    "id": "AKeZK1KioBOp"
   },
   "outputs": [],
   "source": [
    "from numpy  import *\n",
    "\n",
    "# now all the functions are available directly, without the initial module name: \n",
    "\n",
    "sqrt(2)"
   ]
  },
  {
   "cell_type": "markdown",
   "metadata": {
    "id": "cdwRNXM_oBOp"
   },
   "source": [
    "The '\\*' imports all the functions into the local namespace, which is a heavy load on your computer's memory.  Alternatively, you can import the few, specific functions you'll use, for example,   **sqrt**: \n"
   ]
  },
  {
   "cell_type": "code",
   "execution_count": 75,
   "metadata": {
    "id": "v8mNZ5zfoBOp"
   },
   "outputs": [
    {
     "data": {
      "text/plain": [
       "2.0"
      ]
     },
     "execution_count": 75,
     "metadata": {},
     "output_type": "execute_result"
    }
   ],
   "source": [
    "from numpy import sqrt # square root\n",
    "\n",
    "sqrt(4)"
   ]
  },
  {
   "cell_type": "markdown",
   "metadata": {
    "id": "FlE-x__voBOp"
   },
   "source": [
    "Did you notice how \"sqrt(4)\", where 4 was an integer, returned a floating point variable (2.0)? "
   ]
  },
  {
   "cell_type": "markdown",
   "metadata": {
    "id": "mMBlaHH7oBOp"
   },
   "source": [
    "**TIP**:  I tend to import the **NumPy** package using the **np** option above.  That way  I know where the functions I'm using come from. This is useful, becuase we don't use or know ALL of the functions available in any given package. AND the same function name can mean different things in different packages.  So, a function defined in the package could conflict with one defined in your program. It is just good programming practice to specify the origin of the function you are using.  \n",
    "\n",
    "### NumPy functions\n",
    "\n",
    "Here is a (partial) list of some useful **NumPy** functions:\n",
    "\n"
   ]
  },
  {
   "cell_type": "markdown",
   "metadata": {
    "id": "qvQls3r-oBOp"
   },
   "source": [
    "|function | purpose|\n",
    "|------------ |--------------|\n",
    "|absolute(x)  | absolute value|\n",
    "|arccos(x)   |arccosine |\n",
    "|arcsin(x)    | arcsine |\n",
    "|arctan(x)    | arctangent |\n",
    "|arctan2(y,x)  |arctangent of y/x in correct quadrant| \n",
    "|cos(x)        |cosine |\n",
    "|cosh(x)      | hyperbolic cosine |\n",
    "|exp(x)      |  exponential |\n",
    "|log(x)      |  natural logarithm |\n",
    "|log10(x)    |  base 10 log |\n",
    "|sin(x)       | sine |\n",
    "|sinh(x)     |  hyperbolic sine |\n",
    "|sqrt(x)    |   square root |\n",
    "|tan(x)      |  tangent |\n",
    "|tanh(x)    |   hyperbolic tangent |\n"
   ]
  },
  {
   "cell_type": "markdown",
   "metadata": {
    "id": "28SiBmq_oBOp"
   },
   "source": [
    "\n",
    "\n",
    "### Numpy attributes\n",
    "\n",
    "**NumPy** has more than just _functions_; it also has _attributes_ which are variables stored in the package, for example $\\pi$.  \n",
    "\n"
   ]
  },
  {
   "cell_type": "code",
   "execution_count": 78,
   "metadata": {
    "id": "t5X6S7_PoBOp"
   },
   "outputs": [
    {
     "data": {
      "text/plain": [
       "3.141592653589793"
      ]
     },
     "execution_count": 78,
     "metadata": {},
     "output_type": "execute_result"
    }
   ],
   "source": [
    "np.pi"
   ]
  },
  {
   "cell_type": "markdown",
   "metadata": {
    "id": "svOnPpCkoBOq"
   },
   "source": [
    "**TIP**:    In the trigonometric functions,  the argument is in RADIANS!.You can convert between degrees and radians by multiplying by: np.pi/180.   OR you can convert using the **NumPy** functions **np.degrees( )** which converts radians to degrees and **np.radians( )** which converts degrees to radians.  \n",
    "\n",
    "\n",
    "Also notice how the functions have parentheses, as opposed to **np.pi** which does not.  The difference is that **np.pi** is not a function but an _attribute_. It is a variable defined in **NumPy** that you can access. Every time you call the variable **np.pi**, it returns the value of $\\pi$. \n",
    "\n",
    "\n"
   ]
  },
  {
   "cell_type": "markdown",
   "metadata": {
    "id": "n18GIDaToBOq"
   },
   "source": [
    "### Using NumPy Functions\n",
    "\n",
    "As already mentioned, **NumPy** has many math functions.   We will use a few to generate some data sets that we can then plot using **matplotlib**, another Python module. \n",
    "\n",
    "First, let's make a list of angles ($\\theta$ or **theta**) around a circle.  We begin with the list of angles in degrees, convert them to radians (using **np.radians( )**), then construct a list of sines of those angles.  "
   ]
  },
  {
   "cell_type": "code",
   "execution_count": 79,
   "metadata": {
    "id": "y3XFHBIaoBOq"
   },
   "outputs": [
    {
     "data": {
      "text/plain": [
       "array([ 0.00000000e+00,  8.71557427e-02,  1.73648178e-01,  2.58819045e-01,\n",
       "        3.42020143e-01,  4.22618262e-01,  5.00000000e-01,  5.73576436e-01,\n",
       "        6.42787610e-01,  7.07106781e-01,  7.66044443e-01,  8.19152044e-01,\n",
       "        8.66025404e-01,  9.06307787e-01,  9.39692621e-01,  9.65925826e-01,\n",
       "        9.84807753e-01,  9.96194698e-01,  1.00000000e+00,  9.96194698e-01,\n",
       "        9.84807753e-01,  9.65925826e-01,  9.39692621e-01,  9.06307787e-01,\n",
       "        8.66025404e-01,  8.19152044e-01,  7.66044443e-01,  7.07106781e-01,\n",
       "        6.42787610e-01,  5.73576436e-01,  5.00000000e-01,  4.22618262e-01,\n",
       "        3.42020143e-01,  2.58819045e-01,  1.73648178e-01,  8.71557427e-02,\n",
       "        1.22464680e-16, -8.71557427e-02, -1.73648178e-01, -2.58819045e-01,\n",
       "       -3.42020143e-01, -4.22618262e-01, -5.00000000e-01, -5.73576436e-01,\n",
       "       -6.42787610e-01, -7.07106781e-01, -7.66044443e-01, -8.19152044e-01,\n",
       "       -8.66025404e-01, -9.06307787e-01, -9.39692621e-01, -9.65925826e-01,\n",
       "       -9.84807753e-01, -9.96194698e-01, -1.00000000e+00, -9.96194698e-01,\n",
       "       -9.84807753e-01, -9.65925826e-01, -9.39692621e-01, -9.06307787e-01,\n",
       "       -8.66025404e-01, -8.19152044e-01, -7.66044443e-01, -7.07106781e-01,\n",
       "       -6.42787610e-01, -5.73576436e-01, -5.00000000e-01, -4.22618262e-01,\n",
       "       -3.42020143e-01, -2.58819045e-01, -1.73648178e-01, -8.71557427e-02])"
      ]
     },
     "execution_count": 79,
     "metadata": {},
     "output_type": "execute_result"
    }
   ],
   "source": [
    "thetas_in_degrees=range(0,360,5) # list (generator) of angles from 0 to 359 at five degree intervals\n",
    "# uncomment the following line, if you'd like to print the list \n",
    "# print (list(thetas_in_degrees))\n",
    "thetas_in_radians=np.radians(thetas_in_degrees) # convert to radians\n",
    "sines=np.sin(thetas_in_radians) # calculate the sine values for all the thetas\n",
    "sines"
   ]
  },
  {
   "cell_type": "markdown",
   "metadata": {
    "id": "5O7_rRsPoBOq"
   },
   "source": [
    "### Plotting data \n",
    "\n",
    "Now that we've generated some data, we can look at them. Yes, we  just printed out the values, but it is way more interesting to make a plot.   The easiest way to do this is using the package **matplotlib** which has many plotting functions, among them a whole module called **pyplot**. By convention, we **import** the **matplotlib.pyplot** module as **plt**. "
   ]
  },
  {
   "cell_type": "code",
   "execution_count": 80,
   "metadata": {
    "id": "ugqYYm0xoBOq"
   },
   "outputs": [
    {
     "data": {
      "image/png": "[encoded data removed]",
      "text/plain": [
       "<Figure size 432x288 with 1 Axes>"
      ]
     },
     "metadata": {
      "needs_background": "light"
     },
     "output_type": "display_data"
    }
   ],
   "source": [
    "import matplotlib.pyplot as plt # import the plotting module\n",
    "\n",
    "plt.plot(thetas_in_degrees,sines); # plot the sines with the angles"
   ]
  },
  {
   "cell_type": "markdown",
   "metadata": {
    "id": "ItikYcsKoBOq"
   },
   "source": [
    "### Features and styling in matplotlib\n",
    "\n",
    "Every plot should at least have axis labels and can also have a title, a legend, bounds, etc. We can use **matplotlib.pyplot** to add these features and more.\n",
    "\n",
    "\n"
   ]
  },
  {
   "cell_type": "code",
   "execution_count": 82,
   "metadata": {
    "id": "YgCA-Qj2oBOq"
   },
   "outputs": [
    {
     "data": {
      "image/png": "[encoded data removed]",
      "text/plain": [
       "<Figure size 432x288 with 1 Axes>"
      ]
     },
     "metadata": {
      "needs_background": "light"
     },
     "output_type": "display_data"
    }
   ],
   "source": [
    "# I want to plot the sine curve as a green line, so I use 'g-' to do that:\n",
    "plt.plot(thetas_in_degrees,sines,'g-',label='Sine') \n",
    "# the \"label\" argument saves this line for annotation in a legend\n",
    "# let's add X and Y labels\n",
    "plt.xlabel('Degrees') # make and X label\n",
    "plt.ylabel('Sine') # label the Y axis\n",
    "# and now change the x axis limits: \n",
    "plt.xlim([0,360]) # set the limits\n",
    "plt.title('Sine curve') # set the title\n",
    "plt.legend(); # put on a legend!  "
   ]
  },
  {
   "cell_type": "markdown",
   "metadata": {
    "id": "CwCrFJNkoBOr"
   },
   "source": [
    "Now let's add the cosine curve and a bit of style! We'll plot the cosine curve as a dashed blue line ('b--'), move the legend to a different position and plot the sine curve as little red dots ('r.').\n",
    "For a complete list of possible symbols (markers), see: http://matplotlib.org/api/markers_api.html"
   ]
  },
  {
   "cell_type": "code",
   "execution_count": 83,
   "metadata": {
    "id": "rUTbDitIoBOr"
   },
   "outputs": [
    {
     "data": {
      "image/png": "[encoded data removed]",
      "text/plain": [
       "<Figure size 432x288 with 1 Axes>"
      ]
     },
     "metadata": {
      "needs_background": "light"
     },
     "output_type": "display_data"
    }
   ],
   "source": [
    "cosines=np.cos(thetas_in_radians)\n",
    "# plot the sines with the angles as a green line\n",
    "plt.plot(thetas_in_degrees,sines,'r.',label='Sine') \n",
    "# plot the cosines with the angles as a dashed blue line\n",
    "plt.plot(thetas_in_degrees,cosines,'b--',label='Cosine') \n",
    "plt.xlabel('Degrees')\n",
    "plt.ylabel('Trig functions')\n",
    "plt.xlim([0,360]) # set the limits\n",
    "plt.legend(loc=3); # put the legend in the lower left hand corner this time"
   ]
  },
  {
   "cell_type": "markdown",
   "metadata": {
    "id": "NdsGic-voBOr"
   },
   "source": [
    "The function **plt.plot( )** in **matplotlib.pyplot** includes many more styling options. Here's a complete list of arguments and keyword arguments that plot accepts:"
   ]
  },
  {
   "cell_type": "code",
   "execution_count": null,
   "metadata": {
    "id": "BSGzrKnloBOr"
   },
   "outputs": [],
   "source": [
    "help(plt.plot)"
   ]
  },
  {
   "cell_type": "markdown",
   "metadata": {
    "id": "Y5E6Oo2NoBOr"
   },
   "source": [
    "### Reading in text files\n",
    "\n",
    "One VERY useful function in **NumPy** is to read data sets into an array.  Arrays are a new kind of data container, very much like lists, but with special attributes.  Arrays must be all of one data type (e.g., floating point). Arrays can be operated on in one go, unlike lists that must be operated on element by element.  I sneakily showed this to you by taking the cosine of the entire array returned by **np.radians( )**.  It took a list and quietly turned it into an array, which I could operate on.   Also, arrays don't separate the numbers with commas like lists do.  We will see more benefits (and drawbacks) of arrays in the coming lectures. \n",
    "\n",
    "#### A brief comparison of lists and arrays:\n",
    "\n",
    "The _built-in_ function **range( )** makes a list generator as we have already seen.  But the **NumPy** function **np.arange( )** makes and array.  Let's compare the two:\n",
    "\n"
   ]
  },
  {
   "cell_type": "code",
   "execution_count": null,
   "metadata": {
    "id": "i1WrYu1boBOr"
   },
   "outputs": [],
   "source": [
    "print (list(range(10)))\n",
    "print (np.arange(10))"
   ]
  },
  {
   "cell_type": "markdown",
   "metadata": {
    "id": "fUqWtHlfoBOr"
   },
   "source": [
    "They are superficially similar (except for the missing commas), but try a simple addition trick:"
   ]
  },
  {
   "cell_type": "code",
   "execution_count": null,
   "metadata": {
    "id": "A4dYUL_-oBOr"
   },
   "outputs": [],
   "source": [
    "np.arange(10)+2"
   ]
  },
  {
   "cell_type": "markdown",
   "metadata": {
    "id": "6FzOtqnioBOs"
   },
   "source": [
    "versus"
   ]
  },
  {
   "cell_type": "code",
   "execution_count": null,
   "metadata": {
    "id": "J0hfs-xGoBOs"
   },
   "outputs": [],
   "source": [
    "range(10)+2"
   ]
  },
  {
   "cell_type": "markdown",
   "metadata": {
    "id": "P2Y373wAoBOs"
   },
   "source": [
    "Oh dear!  We would have to go through the list one by one to do this addition using a list.  "
   ]
  },
  {
   "cell_type": "markdown",
   "metadata": {
    "id": "8wmJ88dfoBOs"
   },
   "source": [
    "Time for some SCIENCE!   \n",
    "\n",
    "Let's start with data from an earthquake.  We will read in data from an Earthquake available from the IRIS website: http://ds.iris.edu/wilber3/find_event.  We can read in the data using the function **np.loadtext( )**.  \n",
    "\n",
    "I chose the Christmas Day, 2016 magnitude 7.6 Earthquake  in Chile (latitude=-43.42, longitude=-73.95).  It was recorded  at a seismic station called \"Pinyon Flat Observatory\" (PFO, latitude=33.3, longitude=-115.7). "
   ]
  },
  {
   "cell_type": "code",
   "execution_count": null,
   "metadata": {
    "id": "E82YEvjSoBOu"
   },
   "outputs": [],
   "source": [
    "EQ=np.loadtxt(fpath+'Datasets/seismicRecord/earthquake.txt') # read in data\n",
    "print (EQ)"
   ]
  },
  {
   "cell_type": "markdown",
   "metadata": {
    "id": "_9fc7tcAoBOu"
   },
   "source": [
    "Notice that EQ is NOT a **list** (it would have commas).  In fact it is an N-dimensional array (actually only 1 dimensional in this case).  You can find out what any object is using the built-in function **type( )**:  "
   ]
  },
  {
   "cell_type": "code",
   "execution_count": null,
   "metadata": {
    "id": "jrvrEqGnoBOu"
   },
   "outputs": [],
   "source": [
    "type(EQ)"
   ]
  },
  {
   "cell_type": "markdown",
   "metadata": {
    "id": "2aajq5GGoBOu"
   },
   "source": [
    "We'll learn more about the _ndarray_  data structure in the next lecture. \n",
    "\n",
    "But now, let's plot the earthquake data.  "
   ]
  },
  {
   "cell_type": "code",
   "execution_count": null,
   "metadata": {
    "id": "PwoZ0g4UoBOu"
   },
   "outputs": [],
   "source": [
    "plt.plot(EQ); # the semi-colon suppresses some annoying jibberish, \n",
    "# try taking it out!"
   ]
  },
  {
   "cell_type": "markdown",
   "metadata": {
    "id": "BiUrHVG7oBOu"
   },
   "source": [
    "Here, **plt.plot( )** plots the array **EQ** against the index number for the elements in the array because we didn't pass a second argument. \n",
    "\n",
    "We can decorate this plot in many ways.  For example, we can add axis labels and truncate the data with plt.xlim( ), or change the color of the line to name a few:  "
   ]
  },
  {
   "cell_type": "code",
   "execution_count": null,
   "metadata": {
    "id": "P1vKyN7ooBOu"
   },
   "outputs": [],
   "source": [
    "plt.plot(EQ,'r-') # plots as a red line\n",
    "plt.xlabel('Arbitrary Time') # puts a label on the X axis\n",
    "plt.ylabel('Velocity'); # puts a label on the Y axis"
   ]
  },
  {
   "cell_type": "markdown",
   "metadata": {
    "id": "JEeYhMCBoBOu"
   },
   "source": [
    "Let's try to zoom in a little and look at the first arrival. We can constrain the axis bounds using **xlim** and **ylim** functions, with a tuple specifying the minimum and maximum bounds."
   ]
  },
  {
   "cell_type": "code",
   "execution_count": null,
   "metadata": {
    "id": "APM26RQ7oBOv"
   },
   "outputs": [],
   "source": [
    "plt.plot(EQ,'r-') # plots as a red line\n",
    "plt.xlabel('Arbitrary Time') # puts a label on the X axis\n",
    "plt.ylabel('Velocity') # puts a label on the Y axis\n",
    "\n",
    "plt.xlim([1000,2000]); # sets the xlimit bounds"
   ]
  },
  {
   "cell_type": "code",
   "execution_count": null,
   "metadata": {
    "id": "q7GbHLMVoBOv"
   },
   "outputs": [],
   "source": []
  }
 ],
 "metadata": {
  "colab": {
   "include_colab_link": true,
   "provenance": []
  },
  "kernelspec": {
   "display_name": "Python 3 (ipykernel)",
   "language": "python",
   "name": "python3"
  },
  "language_info": {
   "codemirror_mode": {
    "name": "ipython",
    "version": 3
   },
   "file_extension": ".py",
   "mimetype": "text/x-python",
   "name": "python",
   "nbconvert_exporter": "python",
   "pygments_lexer": "ipython3",
   "version": "3.8.11"
  }
 },
 "nbformat": 4,
 "nbformat_minor": 1
}
