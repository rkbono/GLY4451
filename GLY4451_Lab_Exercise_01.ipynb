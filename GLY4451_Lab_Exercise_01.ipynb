{
 "cells": [
  {
   "cell_type": "markdown",
   "metadata": {
    "colab_type": "text",
    "id": "view-in-github"
   },
   "source": [
    "<a href=\"https://colab.research.google.com/github/rkbono/GLY4451/blob/main/GLY4451_Lab_Exercise_01.ipynb\" target=\"_parent\"><img src=\"https://colab.research.google.com/assets/colab-badge.svg\" alt=\"Open In Colab\"/></a>"
   ]
  },
  {
   "cell_type": "markdown",
   "metadata": {
    "id": "Qza64LQOvIxA"
   },
   "source": [
    "# Computer Lab 01\n",
    "## Colab Notebook Basics\n",
    "- Notebooks\n",
    "- Variables\n",
    "- Collections"
   ]
  },
  {
   "cell_type": "markdown",
   "metadata": {
    "id": "Kb4Qlyo9LTlR"
   },
   "source": [
    "# Computer Lab 01a"
   ]
  },
  {
   "cell_type": "markdown",
   "metadata": {
    "id": "7c8ZCl7iMw5Y"
   },
   "source": [
    "### Practice with notebooks and cells\n",
    "\n",
    "1. launch jupyter notebook and make a new notebook called YOURLASTNAME_FirstInitial_Lab01\n",
    "* Insert a cell.\n",
    "* Change it to ‘Markdown’ and type some notes. You can just type most things, but special features like Section headers, bullets, numbered lists and other fun things require special formatting. For a pretty good explanation see this link: https://github.com/adam-p/markdown-here/wiki/Markdown-Cheatsheet\n",
    "* Run the cell to typeset your notes. If you want to change them, just double click on the cell, type away, then 'run' it again.\n"
   ]
  },
  {
   "cell_type": "markdown",
   "metadata": {
    "id": "uo-Ldh48Mymo"
   },
   "source": [
    "### Practice with markdown cells\n",
    "\n",
    "* If you see plain text in one of the cells in the lecture notebooks, just double click on it and all will be revealed. Try double clicking on THIS cell to see how to make bulleted lists\n",
    "* then run it.\n"
   ]
  },
  {
   "cell_type": "markdown",
   "metadata": {
    "id": "W-U6G17-My1I"
   },
   "source": [
    "### Practice with code cells\n",
    "\n",
    "* Insert another cell, keeping it the default of Code.\n",
    "\n",
    "* type in the cell: \n",
    "\n",
    "```\n",
    "print(\"Hello World\")\n",
    "```\n",
    "\n",
    "* run that cell.\n"
   ]
  },
  {
   "cell_type": "markdown",
   "metadata": {
    "id": "jGHXcDk0MzF4"
   },
   "source": [
    "### Commands within a jupyter notebook\n",
    "\n",
    "* import the os package by running the cell below (don't worry about what this is doing just yet)\n",
    "* Create a directory called Practice.\n",
    "* List the contents of the current directory.\n",
    "* Remove the directory Practice.\n",
    "* List the contents of the current directory again.\n",
    "* Download your notebook by clicking on 'File' and selecting 'Download as' then choosing 'Notebook (.ipynb)'. This will put it in your downloads folder.\n"
   ]
  },
  {
   "cell_type": "code",
   "execution_count": null,
   "metadata": {
    "id": "EC_CBUQPN8lE"
   },
   "outputs": [],
   "source": [
    "import os"
   ]
  },
  {
   "cell_type": "markdown",
   "metadata": {
    "id": "PKEM6YrRnE3U"
   },
   "source": [
    "# Computer Lab 01b"
   ]
  },
  {
   "cell_type": "markdown",
   "metadata": {
    "id": "odI3dqpkncNH"
   },
   "source": [
    "1. Conceptual\n",
    "    - Insert a markdown cell into your practice notebook and answer the questions:\n",
    "        - Why are descriptive variable names useful?\n",
    "        - What are _reserved words_ and why can't you use them as variable names?"
   ]
  },
  {
   "cell_type": "markdown",
   "metadata": {
    "id": "xkbqvCYGngrP"
   },
   "source": [
    "2. Variables\n",
    "    - Insert a code cell into your practice notebook\n",
    "    - In it, define a variable that  stores the value of pi (3.1415)\n",
    "\t- Define a variable called **radius**, that stores any floating point number (radius)\n",
    "\t- Define a string that stores \"is the circumference of a circle with radius\" "
   ]
  },
  {
   "cell_type": "markdown",
   "metadata": {
    "id": "W1Y3iEL5ng2G"
   },
   "source": [
    "3. Operations\n",
    "    - Insert another code cell into your practice notebook.  \n",
    "\t- Calculate the circumference of a circle using the variables you defined earlier and store the answer in a separate variable.\n",
    "    - print your new variable."
   ]
  },
  {
   "cell_type": "markdown",
   "metadata": {
    "id": "ie9a2XTPng5H"
   },
   "source": [
    "4. Changing variable types\n",
    "    - Convert all your variables (**circumference** and **radius**) into  strings\n",
    "    - Use the + operator to add  them together to make this string:\n",
    "\t\t**circumference** is the circumference of a circle with radius of **radius** \n",
    "    - **boldface** words are your new strings].  \n"
   ]
  },
  {
   "cell_type": "markdown",
   "metadata": {
    "id": "9PA2pWdLng8X"
   },
   "source": [
    "5. Strings and string operation\n",
    "\t- Define a variable with the value:\n",
    "\t\t\t\"Florida State University\"\n",
    "\t- Print out the first 7 characters \n",
    "    - print indices 8 to 19\n",
    "\t- Print index 23 to the end\n",
    "        "
   ]
  },
  {
   "cell_type": "markdown",
   "metadata": {
    "id": "5Cyft31qnhDu"
   },
   "source": [
    "6. Putting it all together\n",
    "\n",
    "    - Create an integer variable **depth** and set it to  6\n",
    "    - Create a string variable **planet** and set it to “Earth”\n",
    "    - convert the variable **depth** into a string \n",
    "    - Create a variable **ocean_depth** and set it to the string:  “The average ocean depth on Earth is 6 km” by using the variables depth and planet instead of Earth and 6\n",
    "    - print out the variable **ocean_depth**"
   ]
  },
  {
   "cell_type": "markdown",
   "metadata": {
    "id": "jVFcWm3EriEZ"
   },
   "source": [
    "# Computer Lab 01c"
   ]
  },
  {
   "cell_type": "markdown",
   "metadata": {
    "id": "aezdGlEGromv"
   },
   "source": [
    "### Planets\n",
    "\n",
    "- Create a markdown block in which you will describe what the notebook does.\n",
    "- Make a code block that creates a list called planets\n",
    "\n",
    "> 1. append all the planets to the list.\n",
    "2. make a deep copy of your planets list (with a different name).\n",
    "3. print the element at index 2 in your planets list.\n",
    "4. set the element at index 2 in your copy to 'X'\n",
    "5. print the element at index 2 in both lists (planets and your copy)\n",
    "6. append the element that you just changed to the end of your copy.\n",
    "7. use the help function to find out what the built-in function len() does.\n",
    "\n",
    "\n",
    "- Make another code block that creates a list called, e.g., numList, using range( ) that has 8 values starting with 1.\n",
    "> 1. print out your new list\n",
    "\n",
    "- Create a set from each of the three lists (planets, your copy of planets and your new list of numbers.\n",
    "> 1. Find the elements in common between the two planets lists planets and your copy.\n",
    "> 2. find the elements in common between planets and your new numbers list.\n"
   ]
  },
  {
   "cell_type": "markdown",
   "metadata": {
    "id": "QHbr3pFrropn"
   },
   "source": [
    "### Oceans and Continents\n",
    "1.  Conceptual \n",
    "     - Give an example of when you would  use a set\n",
    "     - Give an example of when you would use a tuple\n",
    "     -  Give an example of when you would use range( ) \n",
    "\n"
   ]
  },
  {
   "cell_type": "markdown",
   "metadata": {
    "id": "DZo-ANeFrosW"
   },
   "source": [
    "2.  Lists\n",
    "     -  Create an empty list called _oceans_\n",
    "     -  append all the oceans to the list  \n",
    "     -  print the ocean at **index** 3 in the list  \n",
    "     -  print the last element of your list. \n",
    "     -  make a shallow copy of _oceans_ called _seas_ and a deep copy of _oceans_ called  _big_water_. Try to modify the copies. Verify that the shallow copy refers to the same underlying object while the deep copy makes an independent object.  \n",
    "     -  Apply the method **.sort()** to one of your copies and then print the copy"
   ]
  },
  {
   "cell_type": "markdown",
   "metadata": {
    "id": "NTth8xh0s3KJ"
   },
   "source": [
    "3. range( )\n",
    "     -  Use the function **range( )** to create a list with a  “range” of numbers from 0 up to (but not including) 100, increment by any number (less than 100) and print the results."
   ]
  },
  {
   "cell_type": "markdown",
   "metadata": {
    "id": "k0hmLkMNs3My"
   },
   "source": [
    "4. Tuples\n",
    "     -  Create a tuple called _continents_ with the continents as elements.\n",
    "     -  Attempt to change the second **element** (not index) in place (this should throw and error). \n",
    "     -  print out the third **element** (not index)  in the tuple"
   ]
  },
  {
   "cell_type": "markdown",
   "metadata": {
    "id": "4yYjrbIXs3Pg"
   },
   "source": [
    "5. Sets\n",
    "     -  create a set from the _oceans_ list you created earlier.\n",
    "     -  print out the set of oceans "
   ]
  },
  {
   "cell_type": "markdown",
   "metadata": {
    "id": "17ogBf7OMzhf"
   },
   "source": [
    "# Fin.\n",
    "\n",
    "Turn in your notebook using Canvas by next week (Weds). Make sure your notebook has the correct name. You will recieve a zero if 1) the notebook doesn't work or 2) you obviously copied from somebody else. ***Do your own work!***"
   ]
  },
  {
   "cell_type": "code",
   "execution_count": null,
   "metadata": {
    "id": "0a9P8Ke4reRR"
   },
   "outputs": [],
   "source": []
  }
 ],
 "metadata": {
  "colab": {
   "authorship_tag": "ABX9TyPNRdAaOGNpIra9TZhCkeas",
   "collapsed_sections": [
    "Kb4Qlyo9LTlR",
    "PKEM6YrRnE3U",
    "jVFcWm3EriEZ"
   ],
   "include_colab_link": true,
   "provenance": []
  },
  "kernelspec": {
   "display_name": "Python 3 (ipykernel)",
   "language": "python",
   "name": "python3"
  },
  "language_info": {
   "codemirror_mode": {
    "name": "ipython",
    "version": 3
   },
   "file_extension": ".py",
   "mimetype": "text/x-python",
   "name": "python",
   "nbconvert_exporter": "python",
   "pygments_lexer": "ipython3",
   "version": "3.8.11"
  }
 },
 "nbformat": 4,
 "nbformat_minor": 1
}
