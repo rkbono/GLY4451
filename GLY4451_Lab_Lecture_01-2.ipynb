{
 "cells": [
  {
   "cell_type": "markdown",
   "metadata": {
    "colab_type": "text",
    "id": "view-in-github"
   },
   "source": [
    "<a href=\"https://colab.research.google.com/github/rkbono/GLY4451/blob/main/GLY4451_Lab_Lecture_01-2.ipynb\" target=\"_parent\"><img src=\"https://colab.research.google.com/assets/colab-badge.svg\" alt=\"Open In Colab\"/></a>"
   ]
  },
  {
   "cell_type": "code",
   "execution_count": null,
   "metadata": {
    "ExecuteTime": {
     "end_time": "2020-03-26T23:43:23.835096Z",
     "start_time": "2020-03-26T23:43:23.817287Z"
    },
    "id": "LpNgCwpqNnwi"
   },
   "outputs": [],
   "source": [
    "# Pay no attention to this cell\n",
    "# All will be revealed in due time.\n",
    "import pandas as pd\n",
    "import os\n",
    "from pathlib import Path\n",
    "from IPython.display import Image"
   ]
  },
  {
   "cell_type": "code",
   "execution_count": null,
   "metadata": {
    "colab": {
     "base_uri": "https://localhost:8080/"
    },
    "id": "ARKxRw0A2eFc",
    "outputId": "42c13ab3-32b6-43b6-f3f9-be514fb60358"
   },
   "outputs": [],
   "source": [
    "if 'google.colab' in str(get_ipython()):\n",
    "  print('Running on CoLab')\n",
    "  !git clone https://github.com/rkbono/GLY4451.git\n",
    "else:\n",
    "  print('Not running on CoLab')"
   ]
  },
  {
   "cell_type": "markdown",
   "metadata": {
    "id": "-NNzSCkkNnwj"
   },
   "source": [
    "## Python Programming for  Earth Science Students\n",
    "\n",
    "Adapted from: Lisa Tauxe,  ltauxe@ucsd.edu\n",
    "\n",
    "\n",
    "### Computers in Earth Science\n",
    "\n",
    "Computers are essential to all modern Earth Science research.  We use them for compiling and analyzing data, preparing illustrations like maps or data plots, writing  manuscripts, and so on.  In this class, you will learn to write computer programs with special applications useful to Earth Scientists.  We will learn Python, an object-oriented programming language, and use Jupyter notebooks to write our Python programs.\n",
    "\n",
    "### Python\n",
    "\n",
    "So, why learn Python?  Because it is:\n",
    "\n",
    "- Flexible, freely available, cross platform\n",
    "- Easier to learn than many other languages\n",
    "- It has many numerical, statistical and visualization packages\n",
    "- It is well supported and has lots of online documentation\n",
    "- The name 'Python' refers to 'Monty Python' - not the snake - and many examples in the Python documentation use jokes from the old Monty Python skits.  If you have never heard of Monty Python, look it up on youtube; you are in for a treat. \n",
    "\n",
    "Which Python?  \n",
    "- Python underwent a transition from 2.7 to 3.  The notebooks in this class, apart from a few exceptions, are compatible with both but they have only been tested on Python 3, so that is what you should be using.   \n",
    "- If you decide to use a personal computer, we recommend that you install the most recent version of Anaconda python for your operating system: \n",
    "https://www.anaconda.com/download/\n",
    "you will also need a few extra packages (cartopy, version 0.17.0 geopandas, version 0.7.0 and descartes, version 1.1.0) which can be installed with little hassle.  \n",
    "\n"
   ]
  },
  {
   "cell_type": "markdown",
   "metadata": {
    "collapsed": true,
    "id": "O0Nfg9PUNnwl"
   },
   "source": [
    "## Lecture 1\n",
    "\n",
    "Now we get down to business.  In this lecture we will:\n",
    "\n",
    "- Learn to find your command line interface.\n",
    "- Learn how to launch a Jupyter notebook from the command line interface\n",
    "- Learn basic notebook anatomy.\n",
    "- Learn some basic python operating system commands \n",
    "- Learn about the concept of **PATH**\n",
    "- Turn in your first practice problem notebook.  \n",
    "\n",
    "### Jupyter notebooks and Google Colab\n",
    "\n",
    "This class is entirely structured around a special programming environment called [Jupyter notebooks](https://jupyter-notebook-beginner-guide.readthedocs.io/en/latest/what_is_jupyter.html). A Jupyter notebook is a development environment where you can write, debug, and execute your programs.  \n",
    "\n",
    "Alternatively, you can install Anaconda Python on your machine (see below) and work on the lectures. If you want to be able to open and use notebooks after the class is over, you should do this. \n",
    "\n",
    "If you are using the version cloned from github you already have everything. Almost certainly most of the lectures will be updated in the future though, so the version you have may not be final."
   ]
  },
  {
   "cell_type": "markdown",
   "metadata": {
    "id": "DwakaHhANnwl"
   },
   "source": [
    "### OPTIONAL: Installing Anaconda Python and Opening Jupyter Notebooks\n",
    "\n",
    "To install Anaconda Python, go to https://anaconda.org/ and follow the install instructions for your operating system. \n",
    "To do this, you will need to discover the hidden secret of your computer, the _Terminal window_.  This little window provides a _command line interface_ in which you can type commands to the operating system. You  can  find the terminal window through the program **Terminal** on a Mac  by typing terminal.app into the search icon and double clicking on it. On Windows, use the start menu to search for the program 'Anaconda Prompt'. On Linux, press Ctrl+Alt+T to open the terminal."
   ]
  },
  {
   "cell_type": "markdown",
   "metadata": {
    "id": "DQkg6AH2Nnwl"
   },
   "source": [
    "Let's open a terminal window and launch jupyter notebook. On PC, Mac or Linux, you can do this by typing \n",
    "\n",
    "`jupyter notebook` and hitting return"
   ]
  },
  {
   "cell_type": "markdown",
   "metadata": {
    "id": "--xAphDRNnwl"
   },
   "source": [
    "When you fire up a terminal window, you are by default in your **home** directory (in MacOS UNIX,  that would be **/Users/YOURUSERNAME**). \n",
    "\n",
    "To launch a Jupyter notebook,  simply type jupyter notebook as shown above.  That will open up a Browser window.  Find your class folder and click on Lecture_01.ipynb.  You should now be looking at this notebook! "
   ]
  },
  {
   "cell_type": "markdown",
   "metadata": {
    "id": "m0gRUiKzNnwl"
   },
   "source": [
    "### Make a copy of the lecture\n",
    "\n",
    "You should not modify this lecture, or if you do it is quite likely that it will be over-written if you update your directory with a new version.  To do that, open the File menu at the top of this page: "
   ]
  },
  {
   "cell_type": "markdown",
   "metadata": {
    "id": "UPF4_-CrNnwm"
   },
   "source": [
    "Choose 'Make a Copy'.  This will protect the original and you can goof around with this one all you like.  But first, you need to know a few things about jupyter notebooks. "
   ]
  },
  {
   "cell_type": "markdown",
   "metadata": {
    "id": "dLnZbV6iNnwm"
   },
   "source": [
    "### Jupyter notebook anatomy\n",
    "\n",
    "Jupyter notebooks have two basic _cells_:\n",
    "\n",
    "- Markdown: for typesetting notes. This cell is an example of a markdown cell.  Here is a \"cheatsheet\" for markdown typesetting: https://medium.com/ibm-data-science-experience/markdown-for-jupyter-notebooks-cheatsheet-386c05aeebed if you are hungry for more. \n",
    "\n",
    "- Code: for writing python code\n",
    "\n",
    "You can insert a new cell by selecting Insert Cell Below in the drop-down menu:  "
   ]
  },
  {
   "cell_type": "markdown",
   "metadata": {
    "id": "dbS9wnuzNnwm"
   },
   "source": [
    "Cell types default to 'Code' but you change the cell type to \"Markdown\" with the box labeled 'Markdown\" on the menu bar.  Click on the little downward arrow to change this cell to Code. Be sure to change it back!  \n",
    "\n",
    "You \"execute\" a cell (either _typeset_ or _run_ the code)  by  clicking  on the run key (sideways triangle with vertical line) or select Run Cells under the _Cell_ drop-down menu.  "
   ]
  },
  {
   "cell_type": "markdown",
   "metadata": {
    "id": "AZS6udf0Nnwm"
   },
   "source": [
    "In a code block, you can only type valid python statements EXCEPT\n",
    "after a pound sign (#) - everything after that will be ignored.  \n",
    "That is how you write \"comments\" in your code to remind yourself or tell others what you were thinking:  "
   ]
  },
  {
   "cell_type": "code",
   "execution_count": null,
   "metadata": {
    "ExecuteTime": {
     "end_time": "2020-03-26T23:01:43.796093Z",
     "start_time": "2020-03-26T23:01:43.788363Z"
    },
    "colab": {
     "base_uri": "https://localhost:8080/",
     "height": 133
    },
    "id": "I7Z-ILEDNnwm",
    "outputId": "fe7bdda8-9fb8-45de-dc68-6208fd6aacad"
   },
   "outputs": [],
   "source": [
    "# I can type anything here\n",
    "but not here"
   ]
  },
  {
   "cell_type": "markdown",
   "metadata": {
    "collapsed": true,
    "id": "06-yuhCYNnwn"
   },
   "source": [
    "That was an example of a _bug_ which oculd be fixed by commenting out the second line, or making it a valid statement:"
   ]
  },
  {
   "cell_type": "code",
   "execution_count": null,
   "metadata": {
    "colab": {
     "base_uri": "https://localhost:8080/"
    },
    "id": "EaEo2WYGNnwn",
    "outputId": "88ef18dd-8a8d-447b-c66b-4013cdad7aca"
   },
   "outputs": [],
   "source": [
    "# I can type anything here\n",
    "# but not here\n",
    "print (\"but not here\")"
   ]
  },
  {
   "cell_type": "markdown",
   "metadata": {
    "id": "3FJFlYFUNnwn"
   },
   "source": [
    "\n",
    "### Practice Problems\n",
    "\n",
    "Now open the notebook called GLY4451_Lab_Exercise_01. If you installed git and downloaded the class repo, then you can just click the file name in the Jupyter browser. If you are running through CoLab, it's probably easiest to access through the github page and click the \"run in CoLab\" button.\n",
    "\n",
    "Complete the first three tasks.  Then come back to this notebook.  \n",
    "\n",
    "Congratulations! You just wrote your first Python program. "
   ]
  },
  {
   "cell_type": "markdown",
   "metadata": {
    "id": "LgXh1EsyNnwn"
   },
   "source": [
    "### Basic operating system commands\n",
    "\n",
    "Now we will discuss file systems, paths, and the command line. Why?  Because whenever you import an image, document, or spreadsheet into the Jupyter notebook you have to tell Jupyter where in the computer the file is located. Moreover, there are many command line functions that come in handy.  For example, you can look at the first few lines of a file before you import it into the notebook. You could also write all of your programs in a text editor and run those programs from the command line. You could then run your programs from anywhere on your computer instead of a jupyter notebook. \n",
    "\n",
    "\n",
    "###  File systems\n",
    "\n",
    "The organization of computers is based on a _file system_. The file system is hierarchical, so at the top you'll find the _root directory_ or for Mac and PC users, a _folder_. The root directory contains files and other folders which may also contain  files and  folders and etc. This continues, resulting in a tree of files and folders that make up the file system. The following figure is an example of a computer's file system:\n"
   ]
  },
  {
   "cell_type": "markdown",
   "metadata": {
    "id": "3bNN4m-lNnwo"
   },
   "source": [
    "You are probably familiar with the images like that to the left. The text to the right shows the exact same thing - but from your computer's viewpoint. Both the image to the left and the text to the right show you how to access the folder \"Desktop\". On the left, you access the folder \"Desktop\" by clicking on 'icons' that represent different folders and sub-folders until you arrive at \"Desktop\". Later in this lecture, we'll show you how to access the same folder using its path (the text to the right)."
   ]
  },
  {
   "cell_type": "markdown",
   "metadata": {
    "id": "Cl-AOB-fNnwo"
   },
   "source": [
    "### Survival operating system commands\n",
    "\n",
    "Macs and PCs both have functions that can be called from a _command line_, such as listing the contents of a folder or file, creating new folders, changing permissions on files or folders, combining the contents of files, moving files and folders around, and so on.  These commands are directed to the operating system instead of the Python interpreter.  To make these actions independent of your particular operating system, python has a built-in tool kit called \"os\" for operating system.  We imported this in the first cell and will now figure out how to use this.  \n",
    "\n",
    "Let's learn our first operating system command, which lists the contents of a directory, **os.listdir()**.  This returns a list (not in any particular order) of all the things in the directory containing this notebook:"
   ]
  },
  {
   "cell_type": "code",
   "execution_count": null,
   "metadata": {
    "colab": {
     "base_uri": "https://localhost:8080/"
    },
    "id": "ZmZKbc6oNnwo",
    "outputId": "e8a18c32-3ab4-494b-8eac-5a8d8a60c624"
   },
   "outputs": [],
   "source": [
    "os.listdir()"
   ]
  },
  {
   "cell_type": "markdown",
   "metadata": {
    "id": "4tCYYc0INnwo"
   },
   "source": [
    "You can ignore anything with a '.' in front of it (.DS\\_Store and .ipynb\\_checkpoints in this example.)\n",
    "\n",
    "\n",
    "Another useful command is **os.mkdir()** which creates a new directory.  Please note that _directory_ means the same thing as _folder_.  It is just that in a graphical operating system  with icons, the term _folder_ makes sense.  They look like folders. Whereas to the operating system, they are traditionally referred to as _directories_.  Never mind!"
   ]
  },
  {
   "cell_type": "code",
   "execution_count": null,
   "metadata": {
    "id": "OgST7Gn-Nnwo"
   },
   "outputs": [],
   "source": [
    "os.mkdir('MYNEWDIRECTORY')"
   ]
  },
  {
   "cell_type": "markdown",
   "metadata": {
    "id": "4NCoDkAZNnwo"
   },
   "source": [
    "To see if that worked, list the contents again:"
   ]
  },
  {
   "cell_type": "code",
   "execution_count": null,
   "metadata": {
    "colab": {
     "base_uri": "https://localhost:8080/"
    },
    "id": "U60VMK6xNnwo",
    "outputId": "c6920335-e9c9-47fc-fe86-3fb0aec284fe"
   },
   "outputs": [],
   "source": [
    "os.listdir()"
   ]
  },
  {
   "cell_type": "markdown",
   "metadata": {
    "id": "sUBi4Qa4Nnwp"
   },
   "source": [
    "And sure enough, there it is.   The command **os.rmdir()** deletes a directory "
   ]
  },
  {
   "cell_type": "code",
   "execution_count": null,
   "metadata": {
    "id": "XK8q1jcpNnwp"
   },
   "outputs": [],
   "source": [
    "os.rmdir('MYNEWDIRECTORY')"
   ]
  },
  {
   "cell_type": "markdown",
   "metadata": {
    "id": "4JCRdfwjNnwp"
   },
   "source": [
    "Make sure it was removed:  "
   ]
  },
  {
   "cell_type": "code",
   "execution_count": null,
   "metadata": {
    "colab": {
     "base_uri": "https://localhost:8080/"
    },
    "id": "i2JdAVUgNnwp",
    "outputId": "5c2d8088-15c9-40c0-cd11-16d4c60c5feb"
   },
   "outputs": [],
   "source": [
    "os.listdir()"
   ]
  },
  {
   "cell_type": "markdown",
   "metadata": {
    "id": "gevw6Ro7Nnwp"
   },
   "source": [
    "Yup.  It's gone.  \n",
    "\n",
    "Another handy thing is to view the contents of a file. To do this in python, we use the command **open( ).readlines( )**. This will spit the contents out for your viewing pleasure.\n",
    "\n",
    "Note that this will work differently depending on whether you are running Jupyter locally or through CoLab. We need to check which approach is being used, and reference the correct file path. We are going to use a control structure, an IF statement, to decide the correct file path."
   ]
  },
  {
   "cell_type": "code",
   "execution_count": null,
   "metadata": {
    "colab": {
     "base_uri": "https://localhost:8080/"
    },
    "id": "Ov6KU8OCNnwp",
    "outputId": "04302212-9a4f-4e89-81de-26c15c8ba3c3"
   },
   "outputs": [],
   "source": [
    "# open('GLY4451/Datasets/sample.txt').readlines()\n",
    "if 'google.colab' in str(get_ipython()):\n",
    "  print('Running on CoLab')\n",
    "  fpath = 'GLY4451/Datasets/'\n",
    "else:\n",
    "  print('Not running on CoLab')\n",
    "  fpath = 'Datasets/'"
   ]
  },
  {
   "cell_type": "code",
   "execution_count": null,
   "metadata": {
    "colab": {
     "base_uri": "https://localhost:8080/"
    },
    "id": "jUYv9GiN49YZ",
    "outputId": "b2cb92cd-4c37-4a82-8c14-b0e0066f6bea"
   },
   "outputs": [],
   "source": [
    "open(fpath+'sample.txt').readlines()"
   ]
  },
  {
   "cell_type": "code",
   "execution_count": null,
   "metadata": {
    "id": "XM9LAVT3Nnwp"
   },
   "outputs": [],
   "source": [
    "contents=open(fpath+'sample.txt').read()\n",
    "output=open('newfile.txt','w') # open a file for writing\n",
    "output.write(contents) # write the contents\n",
    "output.close() # close the file"
   ]
  },
  {
   "cell_type": "markdown",
   "metadata": {
    "id": "Ll8aFcy3Nnwq"
   },
   "source": [
    "So what did we create? We created a copy of **myfile.txt** called **newfile.txt**.  If you repeat the command, you will overwrite the existing output file.  "
   ]
  },
  {
   "cell_type": "code",
   "execution_count": null,
   "metadata": {
    "colab": {
     "base_uri": "https://localhost:8080/"
    },
    "id": "FZYaKdmlNnwq",
    "outputId": "0a15f4fb-8475-46fa-8d43-144b2555a52a"
   },
   "outputs": [],
   "source": [
    "open('newfile.txt').readlines()"
   ]
  },
  {
   "cell_type": "markdown",
   "metadata": {
    "id": "OCxYY2VjNnwq"
   },
   "source": [
    "To append to the end of a file, we use the 'a' argument instead of 'w' in the **open( )** command  "
   ]
  },
  {
   "cell_type": "code",
   "execution_count": null,
   "metadata": {
    "id": "co4CN1hvNnwq"
   },
   "outputs": [],
   "source": [
    "output=open('newfile.txt','a') # open a file for writing\n",
    "output.write(contents) # write the contents\n",
    "output.close() # close the file"
   ]
  },
  {
   "cell_type": "code",
   "execution_count": null,
   "metadata": {
    "colab": {
     "base_uri": "https://localhost:8080/"
    },
    "id": "wUaLovk6Nnwq",
    "outputId": "e819b303-b54e-45ad-ac34-0b82a4232471"
   },
   "outputs": [],
   "source": [
    "open('newfile.txt').readlines()"
   ]
  },
  {
   "cell_type": "markdown",
   "metadata": {
    "id": "6fP1XF01Nnwq"
   },
   "source": [
    "To delete a file (analogous to deleting a directory), we use the command **os.remove( )**."
   ]
  },
  {
   "cell_type": "code",
   "execution_count": null,
   "metadata": {
    "id": "6G_eTIeMNnwq"
   },
   "outputs": [],
   "source": [
    "os.remove('newfile.txt')"
   ]
  },
  {
   "cell_type": "markdown",
   "metadata": {
    "id": "MJAW9GujNnwq"
   },
   "source": [
    "### Concept of path\n",
    "\n",
    "So far, we have just looked at directories in our working directory (the one with this notebook in it) and subdirectories within the working directory.  Earlier in the lecture you were shown a figure with icons on the left and text on the right.  The text to the right was a series of directories separated by '/'.  These are the _paths_ to those files. A _path_ is the unique location of a file or a directory in a file system of an OS."
   ]
  },
  {
   "cell_type": "markdown",
   "metadata": {
    "id": "wdwQtuPANnwq"
   },
   "source": [
    "The _paths_ in this figure are _absolute paths_ which uniquely define the location of the file or directory from anywhere on the computer.   The _relative paths_  are handy short cuts.   For example, we can  refer to a directory above the current directory without knowing what that is necessarily, we use these conventions:  \n",
    "\n",
    "./  is the current directory\n",
    "\n",
    "../ is the one above\n",
    "\n",
    "../../ is the one above that \n",
    "\n",
    "and so on.  \n",
    "\n",
    "\n"
   ]
  },
  {
   "cell_type": "markdown",
   "metadata": {
    "id": "7oKfbOBdNnwr"
   },
   "source": [
    "Instead of using 'relative' directories, it is often desirable to refer to directories in an absolute sense, i.e., relative to the _root_ directory '/'.   \n",
    "\n",
    "To find out what the _absolute path_ for your current directory, use **os.getcwd( )** to get the current working directory:"
   ]
  },
  {
   "cell_type": "code",
   "execution_count": null,
   "metadata": {
    "colab": {
     "base_uri": "https://localhost:8080/",
     "height": 35
    },
    "id": "gG8gLZ3sNnwr",
    "outputId": "64787b06-1eee-4d22-fe64-8604522531fc"
   },
   "outputs": [],
   "source": [
    "os.getcwd()"
   ]
  },
  {
   "cell_type": "markdown",
   "metadata": {
    "id": "XZPgohWkNnwr"
   },
   "source": [
    "To find the path to your home directory, we use another Python command,  **Path.home()**.  to use this, we sneaklily already imported the toolkit **Path** in the first cell of this notebook so we are allset (your results will vary).  "
   ]
  },
  {
   "cell_type": "code",
   "execution_count": null,
   "metadata": {
    "colab": {
     "base_uri": "https://localhost:8080/"
    },
    "id": "-GpLwVjINnwr",
    "outputId": "1b2383ca-99bc-457e-8525-e15c4d79a1da"
   },
   "outputs": [],
   "source": [
    "Path.home()"
   ]
  },
  {
   "cell_type": "markdown",
   "metadata": {
    "id": "GJnmvVVSNnwr"
   },
   "source": [
    "And use that in the **os.listdir( )** command to get a listing of our home directory:"
   ]
  },
  {
   "cell_type": "code",
   "execution_count": null,
   "metadata": {
    "colab": {
     "base_uri": "https://localhost:8080/"
    },
    "id": "Kblf_cjwNnwr",
    "outputId": "765ddb5a-72cb-4ed7-ee9d-e5d2d67b2f60"
   },
   "outputs": [],
   "source": [
    "os.listdir(Path.home())"
   ]
  },
  {
   "cell_type": "markdown",
   "metadata": {
    "id": "gAWEKmVpNnwr"
   },
   "source": [
    "To move change the name of a  directory to another name, use the command **os.rename( )** (for change directory). "
   ]
  },
  {
   "cell_type": "markdown",
   "metadata": {
    "id": "Zgn7adGBNnwr"
   },
   "source": [
    "### Command line python scripts\n",
    "\n",
    "As mentioned in the beginning of the lecture, you can run all the little programs you have been (and will be) writing, directly from the command line.  Here's one way to do that that uses one of the many [\"magic\" commands] (https://ipython.readthedocs.io/en/stable/interactive/magics.html#cell-magics) that work with Jupyter notebooks.  Our first is:  \n",
    "\n",
    "%%writefile PATH_TO_FILE.py\n",
    "\n",
    "which writes the contents of a cell to the specified text file.  \n",
    "\n",
    "\n",
    "Running this cell will place the contents of it (without the magic command) into a file in this directory called _hello.py_.  "
   ]
  },
  {
   "cell_type": "code",
   "execution_count": null,
   "metadata": {
    "colab": {
     "base_uri": "https://localhost:8080/"
    },
    "id": "g4rRy02BNnwr",
    "outputId": "4b6828dd-cc4a-4f28-f66a-d42bd582dfb2"
   },
   "outputs": [],
   "source": [
    "%%writefile ./hello.py\n",
    "print (\"Hello World!\")"
   ]
  },
  {
   "cell_type": "markdown",
   "metadata": {
    "id": "SLKXbwTZNnws"
   },
   "source": [
    "Now you can run the program from your command line (after navigating to this directory) by typing:\n",
    "\n",
    "$ python hello.py\n",
    "\n",
    "or from within this notebook:\n"
   ]
  },
  {
   "cell_type": "code",
   "execution_count": null,
   "metadata": {
    "colab": {
     "base_uri": "https://localhost:8080/"
    },
    "id": "8FRLhDj8Nnws",
    "outputId": "bf2ccb03-986a-4cca-886d-d80515b8e3f6"
   },
   "outputs": [],
   "source": [
    "!python hello.py"
   ]
  },
  {
   "cell_type": "markdown",
   "metadata": {
    "id": "hV8cP-whNnws"
   },
   "source": [
    "Alternatively, you can use a different _magic_ command: %run to execute an external file:"
   ]
  },
  {
   "cell_type": "code",
   "execution_count": null,
   "metadata": {
    "colab": {
     "base_uri": "https://localhost:8080/"
    },
    "id": "90elagWBNnws",
    "outputId": "5b30a48f-c61c-4b1a-f4ae-1373c309bb2f"
   },
   "outputs": [],
   "source": [
    "%run hello.py"
   ]
  },
  {
   "cell_type": "markdown",
   "metadata": {
    "id": "QmbVmclnNnws"
   },
   "source": [
    "The last  thing you have to worry about is that the directory containing the script must be in your **PATH**.   We have been talking about _paths_ (all lower case), but **PATH** is an \"environment variable\".  So to run a program it must be in your **PATH**. And to run a Python program from anywhere, it must be in your **PYTHONPATH**.  \n",
    "\n",
    "You can find out what your **PATH** is by using the program **os.environ\\[PATH\\]**\n",
    "\n"
   ]
  },
  {
   "cell_type": "code",
   "execution_count": null,
   "metadata": {
    "colab": {
     "base_uri": "https://localhost:8080/",
     "height": 53
    },
    "id": "7yVaZ9ZgNnws",
    "outputId": "92699a61-3b8e-4434-dcbb-3772faeb263f"
   },
   "outputs": [],
   "source": [
    "os.environ['PATH'] # your results will vary!"
   ]
  },
  {
   "cell_type": "markdown",
   "metadata": {
    "id": "hAFWG-C9Nnws"
   },
   "source": [
    "By default, your working directory will not be in your path (some security reason), so to run a script that is in your working directory, you must either put it in your **PATH** (not recommended) or use the full path name or the relative path name,  e.g.,   \n",
    "\n",
    "./hello.py\n",
    "\n",
    "Changing your **PATH** depends a lot on your particular operating system and is beyond the scope of this lecture.   "
   ]
  },
  {
   "cell_type": "code",
   "execution_count": null,
   "metadata": {
    "id": "gSsedQXMNnws"
   },
   "outputs": [],
   "source": [
    "#clean up a bit\n",
    "os.remove('hello.py')"
   ]
  },
  {
   "cell_type": "markdown",
   "metadata": {
    "id": "KzGwooXffAji"
   },
   "source": [
    "# Lecture 02\n",
    "* Learn about variables\n",
    "\n",
    "* Learn about operations"
   ]
  },
  {
   "cell_type": "markdown",
   "metadata": {
    "id": "uVAY0OzefGcp"
   },
   "source": [
    "## Variables\n",
    "\n",
    "Computer programs need to pass numbers around, manipulate them, save them and so on. This is done by assigning values to variables ('Let x equal 2'). There are many variable types in Python, including:\n",
    "\n",
    "* integer (a number without a decimal),\n",
    "* floating point (a number with a decimal),\n",
    "* string (numbers and/or letters enclosed in quotation marks),\n",
    "* complex numbers,\n",
    "* booleans (True or False, 1 or 0).\n",
    "\n",
    "Before you can use a variable, it must be defined. The following code block shows how to define variables in Python. Click on the code block, then click on 'Run' in the above menu, to make these variables known."
   ]
  },
  {
   "cell_type": "code",
   "execution_count": null,
   "metadata": {
    "id": "fJ4deX1UfToG"
   },
   "outputs": [],
   "source": [
    "# Remember that Python ignores everything on a line after  a pound sign (#)\n",
    "# this is how you write \"comments\"\n",
    "number=1 # an integer\n",
    "Number=1.0 # a floating point - notice the decimal point\n",
    "NUMBER='1' # a string - notice the quotation marks\n",
    "ANOTHERNUMBER=\"1\" # double quotes are also ok\n",
    "comp=1j # a complex number with imaginary part 1 \n",
    "#(don't ask why \"j\" and not \"i\") \n",
    "morecomplex=3+1j # the complex number 3+1i \n",
    "bools=True # A boolean variable (True/False or 1/0)"
   ]
  },
  {
   "cell_type": "markdown",
   "metadata": {
    "id": "GFlGtv6LfGfS"
   },
   "source": [
    "To see what value has been assigned to a variable, simply type: print and then the variable name in parentheses."
   ]
  },
  {
   "cell_type": "code",
   "execution_count": null,
   "metadata": {
    "colab": {
     "base_uri": "https://localhost:8080/",
     "height": 204
    },
    "id": "mmjhla91fYct",
    "outputId": "35ea244d-e681-40eb-e05a-8e0a8fcd678c"
   },
   "outputs": [],
   "source": [
    "print (number)\n",
    "print(another)"
   ]
  },
  {
   "cell_type": "markdown",
   "metadata": {
    "id": "xgskfYYOfGiI"
   },
   "source": [
    "Aha! a bug - Python didn't know what another was because we never defined it. How would you fix this bug?\n",
    "\n",
    "If you want to make \"another\" a variable you can do this:\n",
    "\n"
   ]
  },
  {
   "cell_type": "code",
   "execution_count": null,
   "metadata": {
    "colab": {
     "base_uri": "https://localhost:8080/"
    },
    "id": "3gT1UL5effEr",
    "outputId": "d61c9a8a-a673-485a-8716-2478f435ca32"
   },
   "outputs": [],
   "source": [
    "another='another number'\n",
    "print(another)"
   ]
  },
  {
   "cell_type": "markdown",
   "metadata": {
    "id": "CBXg35LUfGkw"
   },
   "source": [
    "There is a lot of leeway in choosing variable names in Python, but there are some guidelines and outright rules. Here are some tips about variable names:\n",
    "\n",
    "1. Variable names are composed of alphanumeric characters, including '-' and '_'.\n",
    "\n",
    "2. They are case sensitive: 'a' is not the same as 'A'.\n",
    "\n",
    "3. There are some reserved words in Python that you may not use as your variable names because they have pre-defined meanings (for example, False or True)\n",
    "\n",
    "Here is a list of reserved words:\n",
    "\n",
    "|   |    |    |    |    |\n",
    "|---|---|---|---|---|\n",
    "|  and |  assert | break  | class  | continue  |\n",
    "|def\t\t| del\t| \telif\t| else\t\t| except\t| \n",
    "|exec\t| \tfinally\t\t| for\t\t| from\t\t| global\t| \n",
    "|if\t\t| import\t| \tin\t\t| is\t\t| lambda\t| \n",
    "|not\t| \tor\t| \tpass\t| \tprint\t| \traise\t| \n",
    "|return\t| \ttry\t\t| while\t\t| \n",
    "\n",
    "Do NOT use any of the following words either (although they are not strictly Python reserved words, they conflict with the names of commonly-used Python functions):\n",
    "\n",
    "| \t| |\t | \t|\n",
    "|----|-----|---- |-----|\n",
    "|Data\t|Float|\tInt|Numeric\t|\n",
    "|array|\tclose\t|float\t|int|\tinput|\n",
    "|open|\trange|\ttype|\twrite\t|zeros|\n",
    "\n",
    "\n",
    "You should also avoid all the names defined in commonly-used Python code libraries like:\n",
    "\n",
    "|   |\t \t|  \t|   |\t  |\n",
    "|---|---|---|---|---|\n",
    "| acos |\tasin\t| atan\t| cos |\te |\n",
    "|exp\t|fabs\t|floor\t|log|\tlog10|\n",
    "|pi |\tsin|\tsqrt\t|tan\t|\n",
    "\n",
    "4. There are few rules for variable names except for avoiding reserved words, but there are \"best practices\".  In general, longer more descriptive words are better because they'll remind you what the variable stores. \n",
    "\n",
    "5. Here are some \"best practices\" for variable names:\n",
    "https://www.python.org/dev/peps/pep-0008/#naming-conventions\n",
    "\n",
    "Here are some popular choices:  \n",
    "\n",
    "Use these lower case options for variables:\n",
    "- lowercase  \n",
    "- lower_case_with_underscores  \n",
    "- mixedCase \n",
    "\n",
    "Use these upper case options for constants\n",
    "- UPPERCASE  \n",
    "- UPPER_CASE_WITH_UNDERSCORES -\n",
    "\n",
    "Other options:\n",
    "- CapitalizedWords (or CapWords, or CamelCase -- so named because of the bumpy look of its letters). This is also sometimes known as StudlyCaps. - this is for _classes_ which we will learn about later.  \n",
    "\n",
    "Don't use this, it's ugly!\n",
    "- Capitalized_Words_With_Underscores \n",
    "\n",
    "Also, some things to avoid:\n",
    "\n",
    "- Don't use characters 'l' (lowercase letter el), 'O' (uppercase letter oh), or 'I' (uppercase letter eye) as single character variable names. These are easily confused in some fonts with '1' (one), '0' (zero), for example.  If you really want a letter 'el', use 'L'.  \n",
    "\n",
    "- Don't use non-standard symbols like $^{\\circ}$ or $\\sim$.  \n",
    "\n",
    "- Be careful with special names that use leading or trailing underscores.  these are treated differently by Python and you have to know what you are doing before you use them.  "
   ]
  },
  {
   "cell_type": "markdown",
   "metadata": {
    "id": "iGK7hhBBfGna"
   },
   "source": [
    "## Operations\n",
    "\n",
    "Variables are lovely, but not very useful if we can't DO anything with them.  We use different _operations_ to manipulate variables. For example, addition, subtraction, etc.  \n",
    "\n",
    "|operation symbol|\tfunction\t|\n",
    "|----|-----|\n",
    "|**+**\t|adds |\n",
    "|**-** | subtracts |\n",
    "|**\\***|  multiplies|\n",
    "| **/** | divides |\n",
    "|  **%** | gives the remainder (this is called _modulo_).|\n",
    "| **\\*\\*** |raises to the power|\n",
    "|**+=** | increments |\n",
    "| **-=** | decrements |\n",
    "| ==  | tests equality |\n",
    "| != | tests inequality |\n",
    "\n",
    "Parentheses determine order of operation.  Use lots of them.\n",
    "\n",
    "\n",
    "\n",
    "\n",
    "Let's try using some operations on our variables. "
   ]
  },
  {
   "cell_type": "code",
   "execution_count": null,
   "metadata": {
    "colab": {
     "base_uri": "https://localhost:8080/"
    },
    "id": "ndb-LmDcjUDr",
    "outputId": "c9e80237-112a-4e82-bd44-599a92a71576"
   },
   "outputs": [],
   "source": [
    "number+number  # adding two integers produces an integer"
   ]
  },
  {
   "cell_type": "markdown",
   "metadata": {
    "id": "RvD8O96LfGp4"
   },
   "source": [
    "**TIP:** One interesting tidbit here - if the LAST statement in the code block is not assigned to a variable, then your notebook will print the outcome.   "
   ]
  },
  {
   "cell_type": "code",
   "execution_count": null,
   "metadata": {
    "colab": {
     "base_uri": "https://localhost:8080/"
    },
    "id": "-1bYMoKWjY0r",
    "outputId": "4ff7f638-7f37-4d1b-d941-4d6abb6278bc"
   },
   "outputs": [],
   "source": [
    "number+number\n",
    "number+number"
   ]
  },
  {
   "cell_type": "markdown",
   "metadata": {
    "id": "47Ya24sWfGsS"
   },
   "source": [
    "But we could have also written it this way, to print out both statements: \n",
    "\n"
   ]
  },
  {
   "cell_type": "code",
   "execution_count": null,
   "metadata": {
    "colab": {
     "base_uri": "https://localhost:8080/"
    },
    "id": "nq3gGr7gjbti",
    "outputId": "82bb9128-ff1d-42a4-957c-edfa4c872e30"
   },
   "outputs": [],
   "source": [
    "print (number+number)\n",
    "print (number+number)"
   ]
  },
  {
   "cell_type": "markdown",
   "metadata": {
    "id": "jZdk_RnLjilJ"
   },
   "source": [
    "Moving on.... "
   ]
  },
  {
   "cell_type": "code",
   "execution_count": null,
   "metadata": {
    "colab": {
     "base_uri": "https://localhost:8080/"
    },
    "id": "Gs1n4O5ljh-5",
    "outputId": "133a39e7-39c9-4d2d-b1c3-76f113e6e802"
   },
   "outputs": [],
   "source": [
    "print (number+Number) # adding an integer and a float makes a float"
   ]
  },
  {
   "cell_type": "markdown",
   "metadata": {
    "id": "6pwvKaDMjv-m"
   },
   "source": [
    "Usually Python is pretty clever about figuring out what type is required (in the case above, it is a float).  But you must be careful.  In Python 2.7 (version from a few years ago), if you multiply a float by an integer, you could convert the float to an integer when what you really wanted was a float! This seems to have been resolved in Python 3 (current version).  But to be sure,   if you want a float, use a decimal point.  Also in Python 3, division of two integers gives you a float, whereas in Python 2, it gave an integer.  "
   ]
  },
  {
   "cell_type": "code",
   "execution_count": null,
   "metadata": {
    "colab": {
     "base_uri": "https://localhost:8080/"
    },
    "id": "DpjS12Ocje-g",
    "outputId": "3eafe6e1-f30c-4aba-8c24-fb58f4998ec2"
   },
   "outputs": [],
   "source": [
    "print (NUMBER+NUMBER) # adding two strings concatenates the strings"
   ]
  },
  {
   "cell_type": "code",
   "execution_count": null,
   "metadata": {
    "colab": {
     "base_uri": "https://localhost:8080/",
     "height": 169
    },
    "id": "TULgedBwjwrW",
    "outputId": "31bd1a5a-b217-4772-9ee3-154cd38a1bb0"
   },
   "outputs": [],
   "source": [
    "print (number+NUMBER) # adding a number to a string makes python mad!"
   ]
  },
  {
   "cell_type": "markdown",
   "metadata": {
    "id": "eNtf_8a-j3zl"
   },
   "source": [
    " Lesson learned: you can't add a number and a string.\n"
   ]
  },
  {
   "cell_type": "code",
   "execution_count": null,
   "metadata": {
    "colab": {
     "base_uri": "https://localhost:8080/"
    },
    "id": "tztNMfX-j6hk",
    "outputId": "60fe86e6-edbe-48ce-e36f-4bde89cca757"
   },
   "outputs": [],
   "source": [
    "print (Number, int(Number)) # makes an integer out of the floating point"
   ]
  },
  {
   "cell_type": "markdown",
   "metadata": {
    "id": "2Qq4fkzQj4EG"
   },
   "source": [
    "Or you can go the other way by turning an integer into a float:"
   ]
  },
  {
   "cell_type": "markdown",
   "metadata": {
    "id": "cJg4Swcmj4G0"
   },
   "source": []
  },
  {
   "cell_type": "code",
   "execution_count": null,
   "metadata": {
    "colab": {
     "base_uri": "https://localhost:8080/"
    },
    "id": "qKeUO2spj_t8",
    "outputId": "e2acb5be-9ea4-40e2-e41b-2efb424cbef8"
   },
   "outputs": [],
   "source": [
    "print (number,float(number))"
   ]
  },
  {
   "cell_type": "markdown",
   "metadata": {
    "id": "ceo30x2aj4Jl"
   },
   "source": [
    "You can turn a number (float or integer) into a string variable with the function **str( )**:"
   ]
  },
  {
   "cell_type": "code",
   "execution_count": null,
   "metadata": {
    "colab": {
     "base_uri": "https://localhost:8080/"
    },
    "id": "13xvC3r2kD-b",
    "outputId": "a0968058-9a50-4a5f-d4e6-93cfc6ec2919"
   },
   "outputs": [],
   "source": [
    "print (number, str(number)) # makes a string out of the integer variable"
   ]
  },
  {
   "cell_type": "markdown",
   "metadata": {
    "id": "66qTYi0uj4MW"
   },
   "source": [
    "But both of those looked the same. To see what the variable \"really\" is, try the **repr( )** function:"
   ]
  },
  {
   "cell_type": "code",
   "execution_count": null,
   "metadata": {
    "colab": {
     "base_uri": "https://localhost:8080/"
    },
    "id": "b7iofqnqkHTr",
    "outputId": "ac0c19e5-b7b5-488d-b54c-55b3b926f914"
   },
   "outputs": [],
   "source": [
    "print (repr(number),repr(str(number)), repr(NUMBER),repr(float(NUMBER)))\n",
    "# prints the representation of the variable"
   ]
  },
  {
   "cell_type": "markdown",
   "metadata": {
    "id": "GAynRNwCj4O_"
   },
   "source": [
    "We already mentioned another kind of variable called _boolean_. These are: \n",
    " True, False  or alternatively 1 and 0.  \n",
    "\n",
    "\n",
    "Booleans have many uses but in particular can be used to control the flow of the program as we shall learn later.  \n"
   ]
  },
  {
   "cell_type": "markdown",
   "metadata": {
    "id": "gEy-fc_vj4Rh"
   },
   "source": [
    "TIP:  A really handy feature of Python is the built in **help( )** function.  So if you see a function you aren't familiar with, you can look up what it does using **help( )**.  For example, we just learned the function **repr( )** but you might not know all it's features yet.  No worries!  Just call for **help( )**"
   ]
  },
  {
   "cell_type": "code",
   "execution_count": null,
   "metadata": {
    "colab": {
     "base_uri": "https://localhost:8080/"
    },
    "id": "cT-FABDlkRRZ",
    "outputId": "11415448-5b0b-4ed4-e1b1-0780334de44b"
   },
   "outputs": [],
   "source": [
    "help(repr)"
   ]
  },
  {
   "cell_type": "markdown",
   "metadata": {
    "id": "oIQ5arR-j4T9"
   },
   "source": [
    "There are other ways to get help.  One useful way is to type the command (or variable or other python objects) with a question mark at the end:"
   ]
  },
  {
   "cell_type": "code",
   "execution_count": null,
   "metadata": {
    "id": "IaUnzJIOkT5Q"
   },
   "outputs": [],
   "source": [
    "repr?"
   ]
  },
  {
   "cell_type": "markdown",
   "metadata": {
    "id": "yy10W8cFkN2i"
   },
   "source": [
    "Two question marks returns the actual code too, unless it is a compiled bit (as for repr??).   \n",
    "\n",
    "Note that $<$TAB$>$ is an autocompletion tool, so if (you do not know the exact name, but you know how it starts $<$TAB$>$ is your friend.  \n",
    "    \n",
    " Finally, an asterisk (*) will act as a wild card"
   ]
  },
  {
   "cell_type": "markdown",
   "metadata": {
    "id": "lkfP6agjkN46"
   },
   "source": [
    "## String operations\n",
    "\n",
    "Numbers are numbers. While there are more types of numbers (complex, etc.),\n",
    "strings are also interesting. They can be denoted with single, double or triple quotes: "
   ]
  },
  {
   "cell_type": "code",
   "execution_count": null,
   "metadata": {
    "colab": {
     "base_uri": "https://localhost:8080/"
    },
    "id": "OUTSSNuflqz5",
    "outputId": "e9e81ef9-b218-46e6-e78f-153a36e78590"
   },
   "outputs": [],
   "source": [
    "string1='spam'\n",
    "string2=\"Sam's spam\"\n",
    "print (string1)\n",
    "print (string2)"
   ]
  },
  {
   "cell_type": "markdown",
   "metadata": {
    "id": "ZPDdzxItkN7p"
   },
   "source": [
    "You can also use triple quotes: \n"
   ]
  },
  {
   "cell_type": "code",
   "execution_count": null,
   "metadata": {
    "colab": {
     "base_uri": "https://localhost:8080/"
    },
    "id": "IvKFDfq2ly4J",
    "outputId": "93b25423-83da-4344-bc81-8213e82d038d"
   },
   "outputs": [],
   "source": [
    "print (\"\"\"  \n",
    "Hi there I can type as\n",
    "many lines as I want\n",
    "\"\"\")"
   ]
  },
  {
   "cell_type": "markdown",
   "metadata": {
    "id": "oYrMiBQGkN-R"
   },
   "source": [
    "Strings can be added together: \n"
   ]
  },
  {
   "cell_type": "code",
   "execution_count": null,
   "metadata": {
    "colab": {
     "base_uri": "https://localhost:8080/"
    },
    "id": "Dp7K5cG7l4g4",
    "outputId": "eceee4ac-3c59-40f8-d25c-52a68b2b4a5c"
   },
   "outputs": [],
   "source": [
    "newstring = 'spam' + 'alot'\n",
    "print (newstring)\n"
   ]
  },
  {
   "cell_type": "markdown",
   "metadata": {
    "id": "ETvNFGG-kOA1"
   },
   "source": [
    "They  can be sliced:\n",
    "\n"
   ]
  },
  {
   "cell_type": "code",
   "execution_count": null,
   "metadata": {
    "colab": {
     "base_uri": "https://localhost:8080/"
    },
    "id": "wByePfexl9Pn",
    "outputId": "2c66c06c-9c17-4dd8-c34a-896a35174c53"
   },
   "outputs": [],
   "source": [
    "newerstring = newstring[0:3]\n",
    "print (newerstring)"
   ]
  },
  {
   "cell_type": "markdown",
   "metadata": {
    "id": "KD7l3UaBkODq"
   },
   "source": [
    "Notice how the slice was from the first index (number 0) up to but NOT INCLUDING the last index (3), so it took elements 0, 1 and 2 but not 3.\n",
    "\n",
    "Strings CANNOT be changed in place:\n",
    "\n",
    "That means, you can't do this:"
   ]
  },
  {
   "cell_type": "code",
   "execution_count": null,
   "metadata": {
    "colab": {
     "base_uri": "https://localhost:8080/",
     "height": 169
    },
    "id": "AaEA-gWpmBmO",
    "outputId": "c42b2649-de56-49cb-d2cd-6b285654840a"
   },
   "outputs": [],
   "source": [
    "newstring[0]='b'"
   ]
  },
  {
   "cell_type": "markdown",
   "metadata": {
    "id": "nNid5BKpj4Wl"
   },
   "source": [
    "Yup, that made Python mad.  \n",
    "\n",
    "\n",
    "To find more of the things you can and cannot do to strings, see: http://docs.python.org/tutorial/introduction.html#strings\n",
    "\n",
    "\n",
    "If you looked at it, you can see where the spam references came from. :)"
   ]
  },
  {
   "cell_type": "markdown",
   "metadata": {
    "id": "YNkkYd9MmNj1"
   },
   "source": [
    "## Let's play with some variables"
   ]
  },
  {
   "cell_type": "code",
   "execution_count": null,
   "metadata": {
    "colab": {
     "base_uri": "https://localhost:8080/"
    },
    "id": "1nqqu9_ImZ5L",
    "outputId": "328d552a-b314-45b1-a42a-d1781b12d40b"
   },
   "outputs": [],
   "source": [
    "a=2\n",
    "print (a)"
   ]
  },
  {
   "cell_type": "code",
   "execution_count": null,
   "metadata": {
    "colab": {
     "base_uri": "https://localhost:8080/"
    },
    "id": "hPqyDZSsmbMa",
    "outputId": "ef2b17d8-f609-47ab-e087-1ba5dca6d28b"
   },
   "outputs": [],
   "source": [
    "b=2\n",
    "print (b)"
   ]
  },
  {
   "cell_type": "code",
   "execution_count": null,
   "metadata": {
    "colab": {
     "base_uri": "https://localhost:8080/"
    },
    "id": "msK774i2mewZ",
    "outputId": "3769a0f2-cbff-44f9-b738-341564852106"
   },
   "outputs": [],
   "source": [
    "c=a+b\n",
    "print (c)"
   ]
  },
  {
   "cell_type": "markdown",
   "metadata": {
    "id": "aD-U3biCmNmd"
   },
   "source": [
    "You will recognize $a, b,$ and $c$ in the above session as _variables_ and $+$ as an _operation_.   And these examples are pretty straight-forward  math operations.  \n",
    "\n",
    "But programming operations are not the same as arithmetic ones. For example, this statement would get you flunked out of 5th grade, but it is perfectly acceptable in Python: "
   ]
  },
  {
   "cell_type": "code",
   "execution_count": null,
   "metadata": {
    "colab": {
     "base_uri": "https://localhost:8080/"
    },
    "id": "Y3pluSaemeCS",
    "outputId": "88265500-04f5-4750-94ee-56d2c88692ae"
   },
   "outputs": [],
   "source": [
    "print ('c = ',c)\n",
    "c=c+1\n",
    "print ('now c is: ',c)"
   ]
  },
  {
   "cell_type": "markdown",
   "metadata": {
    "id": "VT0p5E5TmNph"
   },
   "source": [
    "The trick here is that the right hand side gets evaluated first, then assigned to the left hand side.  \n",
    "\n",
    "And here is another funny looking statement, which is also perfectly valid (and does the same thing as c=c+1).  "
   ]
  },
  {
   "cell_type": "code",
   "execution_count": null,
   "metadata": {
    "colab": {
     "base_uri": "https://localhost:8080/"
    },
    "id": "afRKtVsOmsgn",
    "outputId": "869bfd89-0720-474f-d941-d4edd9458813"
   },
   "outputs": [],
   "source": [
    "c+=1\n",
    "print ('now c is: ',c)"
   ]
  },
  {
   "cell_type": "markdown",
   "metadata": {
    "id": "Ig68mNaAmNuE"
   },
   "source": [
    "Until now we have defined variables one by one each on its own line.  But there is a more compact way to do this. In fact, we can combine any number of statements on a single line by separating them with semi-colons:  "
   ]
  },
  {
   "cell_type": "code",
   "execution_count": null,
   "metadata": {
    "colab": {
     "base_uri": "https://localhost:8080/"
    },
    "id": "1qABLN0emwwu",
    "outputId": "5065eb07-71db-456b-b430-f703dee8ffab"
   },
   "outputs": [],
   "source": [
    "a=2;b=2;c=a+b;c\n",
    "print (a,b,c)\n"
   ]
  },
  {
   "cell_type": "markdown",
   "metadata": {
    "id": "acDeEJK6mNw1"
   },
   "source": [
    "And here is another way to do the exact same thing: "
   ]
  },
  {
   "cell_type": "code",
   "execution_count": null,
   "metadata": {
    "colab": {
     "base_uri": "https://localhost:8080/"
    },
    "id": "jhCkvw28m1Hu",
    "outputId": "ccc9584c-9f83-4fde-f5a9-2f0b1d03b31c"
   },
   "outputs": [],
   "source": [
    "d,e,f=4,5,6 \n",
    "print (d,e,f)"
   ]
  },
  {
   "cell_type": "markdown",
   "metadata": {
    "id": "-L-7UmX5mNzo"
   },
   "source": [
    "Now open your Practice Problem notebook for Lecture 2 and complete the exercise.  Turn it in by close of business of the day of the lecture to receive feedback and credit.  Remember that programming is not a spectator sport - you only learn how to do it by DOING IT!"
   ]
  },
  {
   "cell_type": "markdown",
   "metadata": {
    "id": "r0mFkLnEmN2d"
   },
   "source": [
    "# Lecture 03\n",
    "\n",
    "- Learn about collections of variables: data structures \n",
    "\n",
    "- Learn about _objects_ \n",
    "- Learn about _methods_ which allow you to do things to _objects_"
   ]
  },
  {
   "cell_type": "markdown",
   "metadata": {
    "id": "XgD9Y9k6mN5N"
   },
   "source": [
    "## Data Structures\n",
    "\n",
    "Now that we know about variables, it would be handy to group them together in some way.  In Python there are many ways to do this: **lists, tuples**,  **dictionaries**, and **sets**, among others.    These group arbitrary variables and/or values together, (e.g., strings and integers and floats) in containers.\n",
    "\n",
    "We'll go through some of the various data structures, starting with **lists**.\n",
    "\n",
    "### Lists \n",
    "\n",
    "- Lists are denoted with [ ]  and can contain any arbitrary set of elements, including other lists!\n",
    "\n",
    "- Elements in the list are referenced by an index number (**index**).  Similar to the strings we encountered in the last lecture, the indices begin at 0.  Remember that this is different from what you may be  used to,  which would be that the first element is index 1; in Python, the first element is **index** 0.\n",
    "\n",
    "- You can  count from the end to the beginning by starting with -1 (the last item in the list), -2 (second to last), etc. \n",
    "\n",
    "- Lists have _methods_ that allow items to  be sorted, deleted, inserted, sliced, counted, concatenated, replaced, added on to, etc.\n",
    "\n",
    "\n",
    "Let's take a look at some examples: \n"
   ]
  },
  {
   "cell_type": "code",
   "execution_count": null,
   "metadata": {
    "colab": {
     "base_uri": "https://localhost:8080/"
    },
    "id": "JFeCT7g1o1Hp",
    "outputId": "1c3de98d-97c3-47c0-ec53-94d8467e8847"
   },
   "outputs": [],
   "source": [
    "mylist=['a',2.0,'400','spam',42,[24,2]] # defines a list\n",
    "print (mylist) # prints the list"
   ]
  },
  {
   "cell_type": "markdown",
   "metadata": {
    "id": "uOjccQotmN71"
   },
   "source": [
    "But if we want to print out the third **element** in list we use **index** number 2: \n"
   ]
  },
  {
   "cell_type": "code",
   "execution_count": null,
   "metadata": {
    "colab": {
     "base_uri": "https://localhost:8080/"
    },
    "id": "adSWw8rqpGYu",
    "outputId": "a30b2b8c-a602-437d-b7f4-0e05daf3b155"
   },
   "outputs": [],
   "source": [
    "print (mylist[2]) # print the third element in the list (starting from zero)"
   ]
  },
  {
   "cell_type": "markdown",
   "metadata": {
    "id": "GEcnJoPbmN-c"
   },
   "source": [
    "And similarly, to print the fourth **element** we use **index** number -1:"
   ]
  },
  {
   "cell_type": "code",
   "execution_count": null,
   "metadata": {
    "colab": {
     "base_uri": "https://localhost:8080/"
    },
    "id": "L86Gwfj5pGsm",
    "outputId": "9abb0dcd-beab-47f8-b311-286a44923e2f"
   },
   "outputs": [],
   "source": [
    "print (mylist[-1]) # print the last element"
   ]
  },
  {
   "cell_type": "markdown",
   "metadata": {
    "id": "ZfuwpAmqmOA9"
   },
   "source": [
    "But if you want to print, say, the last three **elements**, you can't do this: "
   ]
  },
  {
   "cell_type": "code",
   "execution_count": null,
   "metadata": {
    "colab": {
     "base_uri": "https://localhost:8080/"
    },
    "id": "0qh_KNfOpM_G",
    "outputId": "7a506fb2-8cea-4ece-f220-1ad800431cb7"
   },
   "outputs": [],
   "source": [
    "print (mylist[-3:-1])"
   ]
  },
  {
   "cell_type": "markdown",
   "metadata": {
    "id": "8KRcidG3mODu"
   },
   "source": [
    "This is because the slice **list[begin:end]** means from **index = begin** up to and _not including_ **index=end**.  To actually slice out the last three **elements**, you can do it this way:"
   ]
  },
  {
   "cell_type": "code",
   "execution_count": null,
   "metadata": {
    "colab": {
     "base_uri": "https://localhost:8080/"
    },
    "id": "V3CLgYb4mHK1",
    "outputId": "9aae391a-ee3b-45c2-fbc1-20b17dc6e529"
   },
   "outputs": [],
   "source": [
    "print (mylist[-3:])"
   ]
  },
  {
   "cell_type": "markdown",
   "metadata": {
    "id": "zAKmxkZgoUYu"
   },
   "source": [
    "Unlike strings, you can change list **elements** \"in place\".  By \"in place\" we mean that you don't have to assign it to a new variable name; the list gets change \"in place\":"
   ]
  },
  {
   "cell_type": "code",
   "execution_count": null,
   "metadata": {
    "colab": {
     "base_uri": "https://localhost:8080/"
    },
    "id": "g1iw8JwLpOde",
    "outputId": "d5212c3f-375c-486f-dd30-f8f350deb715"
   },
   "outputs": [],
   "source": [
    "mylist[1]=26.3   # replaces the second element\n",
    "print (mylist)"
   ]
  },
  {
   "cell_type": "markdown",
   "metadata": {
    "id": "sYF8berVpc67"
   },
   "source": [
    "To delete, for example, the 4th **element** from a list, you can use the command **del**:"
   ]
  },
  {
   "cell_type": "code",
   "execution_count": null,
   "metadata": {
    "colab": {
     "base_uri": "https://localhost:8080/"
    },
    "id": "HcO_m_Pbpfma",
    "outputId": "86bd1ee3-0949-41a8-cfb5-fb4fba19c389"
   },
   "outputs": [],
   "source": [
    "del mylist[3] # deletes the fourth element \n",
    "mylist"
   ]
  },
  {
   "cell_type": "markdown",
   "metadata": {
    "id": "yM-AT_6BphBq"
   },
   "source": [
    "Like strings, you can  slice out a chunk of the middle of a list and assign it to another variable:"
   ]
  },
  {
   "cell_type": "code",
   "execution_count": null,
   "metadata": {
    "colab": {
     "base_uri": "https://localhost:8080/"
    },
    "id": "jU3kYifLpkPZ",
    "outputId": "28ec6587-d0f9-4ebb-db39-630a42b7f41e"
   },
   "outputs": [],
   "source": [
    "newlist=mylist[1:3] # takes the 2nd and third values and puts in newlist\n",
    "#note it takes out up to but not including the last item number \n",
    "print (newlist)"
   ]
  },
  {
   "cell_type": "markdown",
   "metadata": {
    "id": "6k2beGT-plwB"
   },
   "source": [
    "Making copies of lists behaves in ways you might not expect if you are coming from other programming languages.  We will learn more about copies of lists in later lectures, but here are some pro tips for now.  \n",
    "\n",
    "You can assign a list to another variable name like this: "
   ]
  },
  {
   "cell_type": "code",
   "execution_count": null,
   "metadata": {
    "id": "xkcOhR15pobI"
   },
   "outputs": [],
   "source": [
    "mycopy=mylist"
   ]
  },
  {
   "cell_type": "markdown",
   "metadata": {
    "id": "AOkzOpPMpp_g"
   },
   "source": [
    "**mycopy** is now a _copy_ of **mylist**.  But it is inextricably bound to the original, so if I change one, I change the other.  This type of copy is known as a _shallow copy_. "
   ]
  },
  {
   "cell_type": "code",
   "execution_count": null,
   "metadata": {
    "colab": {
     "base_uri": "https://localhost:8080/"
    },
    "id": "Io4RKt73psw4",
    "outputId": "6cb865a0-c903-4299-c724-07b0e0b9b892"
   },
   "outputs": [],
   "source": [
    "mylist[2]='new'\n",
    "print (mylist)\n",
    "print (mycopy)"
   ]
  },
  {
   "cell_type": "markdown",
   "metadata": {},
   "source": [
    "See how **mycopy** was changed when we changed **mylist**?\n",
    "\n",
    "To spawn a list that is an independent object (a deep copy), you can do this:"
   ]
  },
  {
   "cell_type": "code",
   "execution_count": null,
   "metadata": {},
   "outputs": [],
   "source": [
    "mycopy=mylist[:]\n",
    "# or\n",
    "mycopy = mylist.copy()\n",
    "# now try changing mylist... \n",
    "mylist[2]=1003\n",
    "print (mycopy) # if there are two things to print, use 'print'\n",
    "mylist # otherwise only prints the last one"
   ]
  },
  {
   "cell_type": "markdown",
   "metadata": {
    "id": "tIV_7DIopuV_"
   },
   "source": [
    "See how  _mycopy_  stayed the way it was, even as _mylist_ changed?  \n",
    "\n",
    "There are more ways to make shallow and deep copies of Python objects which we will explore later."
   ]
  },
  {
   "cell_type": "markdown",
   "metadata": {
    "id": "LuH-_ZltpxnP"
   },
   "source": [
    "### Objects in Python\n",
    "\n",
    "An object in Python is a collection that has _attributes_ and _methods_. The list variable _mylist_ is an example of an object - a _list_ object.  In fact they are **classes** which we will learn more about in later lectures, but I just wanted to mention them here.    \n",
    "\n",
    "So what is so special about _objects_?  Python objects have _methods_ which allow you to do things to the object.  Methods have the form:\n",
    "\n",
    "**object.method( )**\n",
    "\n",
    "or \n",
    "\n",
    "**object.method(argument1, argument2,...)**\n",
    "\n",
    "Here, **argument1** is something that can get passed into the method.  \n",
    "\n",
    "Let's look at a few examples starting with the **.append( )** method for lists (which appends something (the **argument**) to the end of a list). "
   ]
  },
  {
   "cell_type": "code",
   "execution_count": null,
   "metadata": {
    "colab": {
     "base_uri": "https://localhost:8080/"
    },
    "id": "1JutErjyp4V-",
    "outputId": "e93b474e-035f-430f-e4f4-29cb558e52c2"
   },
   "outputs": [],
   "source": [
    "mylist.append('why not?') \n",
    "# append() is a method of lists that appends the argument 'why not?' to the list\n",
    "print (mylist)"
   ]
  },
  {
   "cell_type": "markdown",
   "metadata": {
    "id": "0kG-Ajhnp7dl"
   },
   "source": [
    "**.count( )** is another method.  Let's see what it does: "
   ]
  },
  {
   "cell_type": "code",
   "execution_count": null,
   "metadata": {
    "colab": {
     "base_uri": "https://localhost:8080/"
    },
    "id": "YOdQSlCFp9MO",
    "outputId": "cee066fd-0089-4e16-dac7-efe49574bd02"
   },
   "outputs": [],
   "source": [
    "mylist.append('why not?') \n",
    "print (mylist.count('why not?') )"
   ]
  },
  {
   "cell_type": "markdown",
   "metadata": {
    "id": "ru1pzSwIp-Td"
   },
   "source": [
    "The method .count( ) returns the number of times the argument occurs in the list. [NB: the argument is the stuff inside the parentheses of the method - in this case 'why not?'.]\n",
    "\n",
    "Another very handy list method is the .index( ) method. It returns the index of the desired argument in the list. For example, if we wanted to know what the index of the element, 42, is in mylist, we would type:\n",
    "\n"
   ]
  },
  {
   "cell_type": "code",
   "execution_count": null,
   "metadata": {
    "colab": {
     "base_uri": "https://localhost:8080/"
    },
    "id": "_9LuaH80qAfc",
    "outputId": "9d2b9d4d-cd99-4d6b-8f7d-3c97467bbba2"
   },
   "outputs": [],
   "source": [
    "print (mylist.index(42) )"
   ]
  },
  {
   "cell_type": "markdown",
   "metadata": {
    "id": "wq7tijLyqCH8"
   },
   "source": [
    "These are just a few of the methods for lists. To view all of the methods for a list object, see:\n",
    "https://docs.python.org/tutorial/datastructures.html"
   ]
  },
  {
   "cell_type": "markdown",
   "metadata": {
    "id": "sYyPvNTVqEvk"
   },
   "source": [
    "### Making lists\n",
    "\n",
    "For example, we could make this list:  \n"
   ]
  },
  {
   "cell_type": "code",
   "execution_count": null,
   "metadata": {
    "colab": {
     "base_uri": "https://localhost:8080/"
    },
    "id": "-GWxirPYqHQ8",
    "outputId": "535b6653-193e-4a1e-cc3c-619ecf21a7ed"
   },
   "outputs": [],
   "source": [
    "santas_list=['naughty','nice']\n",
    "print (santas_list)\n",
    "# and check it twice\n",
    "print (santas_list)"
   ]
  },
  {
   "cell_type": "markdown",
   "metadata": {
    "id": "7h0GgPOUqOTC"
   },
   "source": [
    "#### More useful lists:  \n",
    "\n",
    "Earlier, we made a list by defining a variable with square brackets. We added to that list with **append( )**.  Another way to generate a list is to use **range( )**, which is one of the python  _built-in functions_ we mentioned in Lecture 2. The function **range( )** is a _list generator_ and can be used to generate a list of integers between two numbers,  the _start_ and _end_, where each number is separated by a specified interval. You can make a lisa from the generator like so:   **list(range(start,end,interval))**.  Note that **range**, like **list** slicing, goes up to but does not include _end_.  "
   ]
  },
  {
   "cell_type": "code",
   "execution_count": null,
   "metadata": {
    "colab": {
     "base_uri": "https://localhost:8080/"
    },
    "id": "bXi1JXJtqQ4q",
    "outputId": "5480f352-dcf8-4856-a5c5-53dfa354ae13"
   },
   "outputs": [],
   "source": [
    "# creates a list from 2 to 20 (not including 20!) at intervals of 4\n",
    "numlist=list(range(2,20,4)) \n",
    "print (numlist)\n"
   ]
  },
  {
   "cell_type": "markdown",
   "metadata": {
    "id": "Jlf30ibvqT6B"
   },
   "source": [
    "### Tuples\n",
    "\n",
    "**Tuples** are another important object in Python that are similar to lists, but have important differences.  They are denoted by parentheses ( ) and  consist of  values separated by commas.  \n",
    "Like lists, they can contain different elements, but unlike lists, the elements cannot be changed in place. Their primary use is to pass information into and out of programs as we shall see in the coming lectures.  \n",
    "\n",
    "\n",
    "Similar to both lists and strings, you can slice, concatenate, etc. For more see: \n",
    " \n",
    " http://docs.python.org/tutorial/datastructures.html#tuples-and-sequences\n",
    "\n",
    "Here is one way to generate a tuple: "
   ]
  },
  {
   "cell_type": "code",
   "execution_count": null,
   "metadata": {
    "colab": {
     "base_uri": "https://localhost:8080/"
    },
    "id": "xQU7sU5lqYBq",
    "outputId": "8b703c2b-a97c-40af-c7f3-f0aa65ae45ca"
   },
   "outputs": [],
   "source": [
    "t = 1234, 2.0, 'hello'\n",
    "print (t)"
   ]
  },
  {
   "cell_type": "markdown",
   "metadata": {
    "id": "whxFEgeWqZaI"
   },
   "source": [
    "Or, the other way around:"
   ]
  },
  {
   "cell_type": "code",
   "execution_count": null,
   "metadata": {
    "colab": {
     "base_uri": "https://localhost:8080/"
    },
    "id": "MCcVxDiIqbro",
    "outputId": "61de16d7-a359-4041-dccd-3ad1b1d5b3c7"
   },
   "outputs": [],
   "source": [
    "a,b,c=t\n",
    "print (a)\n",
    "print (b)\n",
    "print (c)"
   ]
  },
  {
   "cell_type": "markdown",
   "metadata": {
    "id": "RYiLNM-mqc4Y"
   },
   "source": [
    "You can access an element in a tuple by using the index number, exactly like a list."
   ]
  },
  {
   "cell_type": "code",
   "execution_count": null,
   "metadata": {
    "colab": {
     "base_uri": "https://localhost:8080/"
    },
    "id": "gYTmdWpWqe8n",
    "outputId": "496d4f76-05cb-4d03-b455-3f6111f4a05b"
   },
   "outputs": [],
   "source": [
    "t[0]"
   ]
  },
  {
   "cell_type": "markdown",
   "metadata": {
    "id": "WEujua3fqgkv"
   },
   "source": [
    "But, you can't change it: "
   ]
  },
  {
   "cell_type": "code",
   "execution_count": null,
   "metadata": {
    "colab": {
     "base_uri": "https://localhost:8080/",
     "height": 187
    },
    "id": "hF300j0jqmk_",
    "outputId": "f3a5d054-45ef-4d94-b2ed-7114b364f451"
   },
   "outputs": [],
   "source": [
    "t[0]='haha'\n",
    "print (t)"
   ]
  },
  {
   "cell_type": "markdown",
   "metadata": {
    "id": "T6zGN_4Hqio3"
   },
   "source": [
    "### Sets\n",
    "\n",
    "There are  more data structures that comes in handy and one is  the _set_. They are denoted with curly braces { }.  A set \"contains an unordered collection of unique and immutable objects.\"   \n",
    "\n",
    "You can create _sets_ in several ways.   The first would be the use the python built-in **set( )** function on a list: "
   ]
  },
  {
   "cell_type": "code",
   "execution_count": null,
   "metadata": {
    "colab": {
     "base_uri": "https://localhost:8080/"
    },
    "id": "3Fo0Q73UqrZG",
    "outputId": "141767ec-039f-48f4-d8f2-ff55ff9407f7"
   },
   "outputs": [],
   "source": [
    "S1=set(['spam','ocelot',42])\n",
    "S1"
   ]
  },
  {
   "cell_type": "markdown",
   "metadata": {
    "id": "aG3aLfVbqssN"
   },
   "source": [
    "Notice how the order changed.\n",
    "\n",
    "Also, notice what happens if we violate the \"unique\" part of the definition:"
   ]
  },
  {
   "cell_type": "code",
   "execution_count": null,
   "metadata": {
    "colab": {
     "base_uri": "https://localhost:8080/"
    },
    "id": "7RyL3fvPquo9",
    "outputId": "a8fb461a-8fe0-4169-a1a0-9305af5c0f02"
   },
   "outputs": [],
   "source": [
    "S2=set(['spam','ocelot','ocelot'])\n",
    "S2"
   ]
  },
  {
   "cell_type": "markdown",
   "metadata": {
    "id": "SI8kFQ5eqw01"
   },
   "source": [
    "Only one of the ocelots made it into the set. [By the way, \"ocelot\" is another Monty Python joke - look it up if you like.] \n",
    "\n",
    "Sets contain immutable objects, but they themselves can be changed. For a more complete list of methods see:  \n",
    "\n",
    "https://www.python-course.eu/python3_sets_frozensets.php\n",
    "\n",
    "\n",
    "But here are a few:"
   ]
  },
  {
   "cell_type": "code",
   "execution_count": null,
   "metadata": {
    "colab": {
     "base_uri": "https://localhost:8080/"
    },
    "id": "6t9FtFU0q3Qj",
    "outputId": "4a6cf8d4-6d12-4f89-9c0c-e8cd42c105c4"
   },
   "outputs": [],
   "source": [
    "# add\n",
    "print (S1) \n",
    "S1.add('chocolate')\n",
    "print (S1)"
   ]
  },
  {
   "cell_type": "code",
   "execution_count": null,
   "metadata": {
    "colab": {
     "base_uri": "https://localhost:8080/"
    },
    "id": "f0FLPk2_q4rL",
    "outputId": "6add8e5d-5e61-4034-c28d-bae0be216bf9"
   },
   "outputs": [],
   "source": [
    "# clear \n",
    "S2.clear() \n",
    "S2"
   ]
  },
  {
   "cell_type": "markdown",
   "metadata": {
    "id": "OCqFLsdvq54j"
   },
   "source": [
    "See how S2 is now just an empty set object _set( )_.\n",
    "\n",
    "Now let's try copying **S1**. "
   ]
  },
  {
   "cell_type": "code",
   "execution_count": null,
   "metadata": {
    "colab": {
     "base_uri": "https://localhost:8080/"
    },
    "id": "CpuAg3wyq72P",
    "outputId": "ca558968-0c7a-4fcb-d6b8-59a40c63249d"
   },
   "outputs": [],
   "source": [
    "# copy\n",
    "S2=S1.copy()\n",
    "print (S2)\n",
    "S1.clear()\n",
    "print (S1)\n",
    "print (S2)"
   ]
  },
  {
   "cell_type": "markdown",
   "metadata": {
    "id": "C62Qo4GGq9U_"
   },
   "source": [
    "the **.copy( )** method for sets does not work like copying lists - it made an independent object **S2** which did not clear when **S1** got cleared.  \n",
    "\n",
    "**.difference** is another handy method - it can be used to find what is different about two sets. "
   ]
  },
  {
   "cell_type": "code",
   "execution_count": null,
   "metadata": {
    "colab": {
     "base_uri": "https://localhost:8080/"
    },
    "id": "jyB0kap3rAvO",
    "outputId": "eda01d5e-ebd5-4eb8-a81d-8df0eff3402a"
   },
   "outputs": [],
   "source": [
    "# difference\n",
    "S1=set(['spam','ocelot',42])\n",
    "S2=set(['spam','ocelot'])\n",
    "S1.difference(S2)"
   ]
  },
  {
   "cell_type": "markdown",
   "metadata": {
    "id": "-fIAcw77rC1m"
   },
   "source": [
    "But - you say - you want to know what is the **same** in two sets.  For that, use the **.intersection** method.  "
   ]
  },
  {
   "cell_type": "code",
   "execution_count": null,
   "metadata": {
    "colab": {
     "base_uri": "https://localhost:8080/"
    },
    "id": "vpWwxmKurFJ2",
    "outputId": "aea3a7b3-5066-43e0-a5b0-f3cf35797b88"
   },
   "outputs": [],
   "source": [
    "# intersection\n",
    "S1.intersection(S2)"
   ]
  },
  {
   "cell_type": "markdown",
   "metadata": {
    "id": "mckUXmmrrGW9"
   },
   "source": [
    "There is a nice short cut for this:"
   ]
  },
  {
   "cell_type": "code",
   "execution_count": null,
   "metadata": {
    "colab": {
     "base_uri": "https://localhost:8080/"
    },
    "id": "n6AK8S9PrIS1",
    "outputId": "9349ff99-3b29-4a5a-d784-a9eef8f3f949"
   },
   "outputs": [],
   "source": [
    "S1&S2"
   ]
  },
  {
   "cell_type": "markdown",
   "metadata": {
    "id": "XfzL5S2erJal"
   },
   "source": [
    "Finally, you can define a set just using curly braces:"
   ]
  },
  {
   "cell_type": "code",
   "execution_count": null,
   "metadata": {
    "colab": {
     "base_uri": "https://localhost:8080/"
    },
    "id": "WdzrBPmLrLT9",
    "outputId": "650a394e-a556-453c-e0bc-d9e506863394"
   },
   "outputs": [],
   "source": [
    "S3={42,'spamalot','Ni'}\n",
    "S3"
   ]
  },
  {
   "cell_type": "code",
   "execution_count": null,
   "metadata": {
    "id": "Mcr_-zLWNjb7"
   },
   "outputs": [],
   "source": []
  },
  {
   "cell_type": "code",
   "execution_count": null,
   "metadata": {},
   "outputs": [],
   "source": []
  }
 ],
 "metadata": {
  "colab": {
   "include_colab_link": true,
   "provenance": []
  },
  "kernelspec": {
   "display_name": "Python 3 (ipykernel)",
   "language": "python",
   "name": "python3"
  },
  "language_info": {
   "codemirror_mode": {
    "name": "ipython",
    "version": 3
   },
   "file_extension": ".py",
   "mimetype": "text/x-python",
   "name": "python",
   "nbconvert_exporter": "python",
   "pygments_lexer": "ipython3",
   "version": "3.9.12"
  }
 },
 "nbformat": 4,
 "nbformat_minor": 1
}
